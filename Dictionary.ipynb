{
 "cells": [
  {
   "cell_type": "markdown",
   "id": "7eb20777-add4-4599-80b0-ea8a75ff1b3b",
   "metadata": {},
   "source": [
    "$$DICTIONARY$$"
   ]
  },
  {
   "cell_type": "code",
   "execution_count": null,
   "id": "1e7c5a98-effc-4858-9003-ad314227cc5c",
   "metadata": {},
   "outputs": [],
   "source": [
    "list1=['nura','ram','robert']\n",
    "list2=[25,30,40]"
   ]
  },
  {
   "cell_type": "code",
   "execution_count": null,
   "id": "e61776bb-b258-4962-aa0c-d63c39c1f891",
   "metadata": {},
   "outputs": [],
   "source": [
    "d1={'nura':18,'kareena':16,'Ganga':42}\n"
   ]
  },
  {
   "cell_type": "markdown",
   "id": "b8f52804-c9c7-414d-8bb1-2ecef47dda37",
   "metadata": {},
   "source": [
    "$Type$"
   ]
  },
  {
   "cell_type": "code",
   "execution_count": 7,
   "id": "47444252-10fb-4dda-a76a-7f3d353ef627",
   "metadata": {},
   "outputs": [
    {
     "data": {
      "text/plain": [
       "dict"
      ]
     },
     "execution_count": 7,
     "metadata": {},
     "output_type": "execute_result"
    }
   ],
   "source": [
    "d1={'nura':18,'kareena':16,'Ganga':42}\n",
    "type(d1)"
   ]
  },
  {
   "cell_type": "code",
   "execution_count": null,
   "id": "7b0cee37-1ff9-4ea8-8a2f-3647cc8fd148",
   "metadata": {},
   "outputs": [],
   "source": [
    "-str\n",
    "-list\n",
    "-dict\n",
    "-int\n",
    "-float\n",
    "-bool\n",
    "-complex\n",
    "-tuple\n",
    "-set"
   ]
  },
  {
   "cell_type": "code",
   "execution_count": 13,
   "id": "a6def328-0d6c-4b95-8627-7f6ff1534db8",
   "metadata": {},
   "outputs": [
    {
     "data": {
      "text/plain": [
       "'nura'"
      ]
     },
     "execution_count": 13,
     "metadata": {},
     "output_type": "execute_result"
    }
   ],
   "source": [
    "d1={'nura':18,\n",
    "    'kareena':16,\n",
    "    'Ganga':42}\n",
    "max(d1)"
   ]
  },
  {
   "cell_type": "markdown",
   "id": "9bdb6e11-ab83-410d-9672-b120df30facc",
   "metadata": {},
   "source": [
    "$Maximum and Minimum value based on key only$"
   ]
  },
  {
   "cell_type": "code",
   "execution_count": 16,
   "id": "43131679-13f7-4d77-9746-77d59a2dc391",
   "metadata": {},
   "outputs": [
    {
     "data": {
      "text/plain": [
       "'Ganga'"
      ]
     },
     "execution_count": 16,
     "metadata": {},
     "output_type": "execute_result"
    }
   ],
   "source": [
    "d1={'nura':18,'kareena':16,'Ganga':42}\n",
    "min(d1)"
   ]
  },
  {
   "cell_type": "code",
   "execution_count": 18,
   "id": "90b46375-4748-4f33-8827-1a4985ca3ad8",
   "metadata": {},
   "outputs": [
    {
     "data": {
      "text/plain": [
       "3"
      ]
     },
     "execution_count": 18,
     "metadata": {},
     "output_type": "execute_result"
    }
   ],
   "source": [
    "len(d1)"
   ]
  },
  {
   "cell_type": "code",
   "execution_count": 20,
   "id": "e7bd1713-ad9b-49a3-aeae-23f56d0563d6",
   "metadata": {},
   "outputs": [
    {
     "ename": "TypeError",
     "evalue": "unsupported operand type(s) for +: 'int' and 'str'",
     "output_type": "error",
     "traceback": [
      "\u001b[1;31m---------------------------------------------------------------------------\u001b[0m",
      "\u001b[1;31mTypeError\u001b[0m                                 Traceback (most recent call last)",
      "Cell \u001b[1;32mIn[20], line 1\u001b[0m\n\u001b[1;32m----> 1\u001b[0m \u001b[38;5;28msum\u001b[39m(d1)\n",
      "\u001b[1;31mTypeError\u001b[0m: unsupported operand type(s) for +: 'int' and 'str'"
     ]
    }
   ],
   "source": [
    "sum(d1)"
   ]
  },
  {
   "cell_type": "code",
   "execution_count": 22,
   "id": "95398f90-0809-48b5-b3d2-df34af012e00",
   "metadata": {},
   "outputs": [
    {
     "data": {
      "text/plain": [
       "4"
      ]
     },
     "execution_count": 22,
     "metadata": {},
     "output_type": "execute_result"
    }
   ],
   "source": [
    "d2={1:2,3:4}\n",
    "sum(d2)"
   ]
  },
  {
   "cell_type": "markdown",
   "id": "7ff3fa7e-357e-45e6-8fb8-8cc584a1236a",
   "metadata": {},
   "source": [
    "$IN--OPERATOR$"
   ]
  },
  {
   "cell_type": "code",
   "execution_count": null,
   "id": "9675d8f0-b5cb-48e2-811d-22cb1d0af0a7",
   "metadata": {},
   "outputs": [],
   "source": [
    "d1={'nura':18,\n",
    "    'kareena':16,\n",
    "    'Ganga':42}"
   ]
  },
  {
   "cell_type": "code",
   "execution_count": 25,
   "id": "ce4bf576-59df-4ba9-80ce-0ab65fd83001",
   "metadata": {},
   "outputs": [
    {
     "name": "stdout",
     "output_type": "stream",
     "text": [
      "nura\n",
      "kareena\n",
      "Ganga\n"
     ]
    }
   ],
   "source": [
    "for i in d1:\n",
    "    print(i)"
   ]
  },
  {
   "cell_type": "code",
   "execution_count": 35,
   "id": "0108a6ff-1959-46ad-8286-d30d10abd77f",
   "metadata": {},
   "outputs": [
    {
     "data": {
      "text/plain": [
       "True"
      ]
     },
     "execution_count": 35,
     "metadata": {},
     "output_type": "execute_result"
    }
   ],
   "source": [
    "'nura' in d1\n",
    "    "
   ]
  },
  {
   "cell_type": "code",
   "execution_count": 45,
   "id": "e687f362-370b-47ae-a121-3bf39742f39f",
   "metadata": {},
   "outputs": [
    {
     "data": {
      "text/plain": [
       "True"
      ]
     },
     "execution_count": 45,
     "metadata": {},
     "output_type": "execute_result"
    }
   ],
   "source": [
    "str1='apple'\n",
    "'a' in str1"
   ]
  },
  {
   "cell_type": "code",
   "execution_count": 47,
   "id": "fec2cf16-8fc2-460b-9378-13cb75b57bd2",
   "metadata": {},
   "outputs": [
    {
     "data": {
      "text/plain": [
       "True"
      ]
     },
     "execution_count": 47,
     "metadata": {},
     "output_type": "execute_result"
    }
   ],
   "source": [
    "\n",
    "l1=[1,2,3]\n",
    "1 in l1"
   ]
  },
  {
   "cell_type": "code",
   "execution_count": 49,
   "id": "8a0b245f-0334-4d03-b081-9b072b2c6766",
   "metadata": {},
   "outputs": [
    {
     "name": "stdout",
     "output_type": "stream",
     "text": [
      "1\n",
      "2\n",
      "3\n"
     ]
    }
   ],
   "source": [
    "for i in l1:\n",
    "    print(i)"
   ]
  },
  {
   "cell_type": "code",
   "execution_count": 43,
   "id": "dc1c8d46-40ce-43bc-99d0-fdc8c63ecf76",
   "metadata": {},
   "outputs": [
    {
     "name": "stdout",
     "output_type": "stream",
     "text": [
      "1\n",
      "2\n",
      "3\n"
     ]
    }
   ],
   "source": [
    "str1='apple'\n",
    "'a' in str1\n",
    "\n",
    "l1=[1,2,3]\n",
    "1 in l1\n",
    "\n",
    "for i in l1:\n",
    "    print(i)"
   ]
  },
  {
   "cell_type": "markdown",
   "id": "109d9e51-5003-4783-808c-28b57a301bfb",
   "metadata": {},
   "source": [
    "$INDEX$"
   ]
  },
  {
   "cell_type": "code",
   "execution_count": 52,
   "id": "eaf91524-8340-4e7e-b4a3-96e75453c7d8",
   "metadata": {},
   "outputs": [],
   "source": [
    "l1=[10,20,30,40]\n",
    "l1[0]\n"
   ]
  },
  {
   "cell_type": "code",
   "execution_count": 56,
   "id": "be8ac7e0-51ab-44b0-9bcd-d5a8225067c0",
   "metadata": {},
   "outputs": [
    {
     "data": {
      "text/plain": [
       "18"
      ]
     },
     "execution_count": 56,
     "metadata": {},
     "output_type": "execute_result"
    }
   ],
   "source": [
    "d1={'nura':18,\n",
    "    'kareena':16,\n",
    "    'Ganga':42}\n",
    "d1['nura']"
   ]
  },
  {
   "cell_type": "code",
   "execution_count": 64,
   "id": "8a91baa0-a18b-40b7-aafc-80266260f4fe",
   "metadata": {},
   "outputs": [
    {
     "name": "stdout",
     "output_type": "stream",
     "text": [
      "nura 18\n",
      "kareena 16\n",
      "Ganga 42\n"
     ]
    }
   ],
   "source": [
    "for key in d1:\n",
    "    print(key,d1[key])"
   ]
  },
  {
   "cell_type": "code",
   "execution_count": 66,
   "id": "6e78dd35-7afa-4880-aad6-4cb434e686db",
   "metadata": {},
   "outputs": [
    {
     "name": "stdout",
     "output_type": "stream",
     "text": [
      "the age of  nura is 18\n",
      "the age of  kareena is 16\n",
      "the age of  Ganga is 42\n"
     ]
    }
   ],
   "source": [
    "for key in d1:\n",
    "    print(\"the age of  {} is {}\".format(key,d1[key]))"
   ]
  },
  {
   "cell_type": "code",
   "execution_count": 80,
   "id": "32b87a3d-935c-4d71-95e6-8e71ebe41723",
   "metadata": {},
   "outputs": [
    {
     "name": "stdout",
     "output_type": "stream",
     "text": [
      "0\n",
      "1\n",
      "2\n"
     ]
    }
   ],
   "source": [
    "d1={'nura':18,\n",
    "    'kareena':16,\n",
    "    'Ganga':42}\n",
    "for key in range(len(d1)):\n",
    "    print(key)"
   ]
  },
  {
   "cell_type": "markdown",
   "id": "4fb56b8d-ebf4-4381-bfba-ae3a089a2790",
   "metadata": {},
   "source": [
    "Create a empty dictionary"
   ]
  },
  {
   "cell_type": "code",
   "execution_count": 86,
   "id": "c3fd5d1d-d970-4dbd-a35a-122a8751a9a9",
   "metadata": {},
   "outputs": [
    {
     "name": "stdout",
     "output_type": "stream",
     "text": [
      "apple\n"
     ]
    }
   ],
   "source": [
    "s=''\n",
    "\n",
    "for i in 'apple':\n",
    "    s+=i\n",
    "\n",
    "print(s)"
   ]
  },
  {
   "cell_type": "code",
   "execution_count": 88,
   "id": "aa823d1c-4deb-4196-9ec7-6329f114b493",
   "metadata": {},
   "outputs": [
    {
     "data": {
      "text/plain": [
       "[0, 1, 2, 3, 4, 5, 6, 7, 8, 9]"
      ]
     },
     "execution_count": 88,
     "metadata": {},
     "output_type": "execute_result"
    }
   ],
   "source": [
    "l=[i for i in range(10)]\n",
    "\n",
    "l=[]\n",
    "for i in range(10):\n",
    "    l.append(i)\n",
    "\n",
    "l"
   ]
  },
  {
   "cell_type": "code",
   "execution_count": 94,
   "id": "dc2fcfa6-2753-4252-97a5-24c23fdde5cd",
   "metadata": {},
   "outputs": [
    {
     "data": {
      "text/plain": [
       "[0, 1, 2, 3, 4, 5, 6, 7, 8, 9]"
      ]
     },
     "execution_count": 94,
     "metadata": {},
     "output_type": "execute_result"
    }
   ],
   "source": [
    "l=[i for i in range(10)]\n",
    "l"
   ]
  },
  {
   "cell_type": "code",
   "execution_count": 96,
   "id": "98214e2c-9921-43f0-9b63-6b001b847940",
   "metadata": {},
   "outputs": [
    {
     "data": {
      "text/plain": [
       "{'fruit': 'Mango'}"
      ]
     },
     "execution_count": 96,
     "metadata": {},
     "output_type": "execute_result"
    }
   ],
   "source": [
    "d1={}\n",
    "d1['fruit']='Mango'\n",
    "d1"
   ]
  },
  {
   "cell_type": "code",
   "execution_count": null,
   "id": "96030944-f3cc-426e-bf15-abc332e044b2",
   "metadata": {},
   "outputs": [],
   "source": [
    "#wap crreate your own database name company study place"
   ]
  },
  {
   "cell_type": "code",
   "execution_count": 106,
   "id": "724b6a68-17a0-4c7d-b24e-800737aceee5",
   "metadata": {},
   "outputs": [
    {
     "data": {
      "text/plain": [
       "{'name': 'Nura', 'clas': '13', 'address': 'Gharipatan'}"
      ]
     },
     "execution_count": 106,
     "metadata": {},
     "output_type": "execute_result"
    }
   ],
   "source": [
    "n1={}\n",
    "n1['name']='Nura'\n",
    "n1['clas']='13'\n",
    "n1['address']='Gharipatan'\n",
    "n1"
   ]
  },
  {
   "cell_type": "code",
   "execution_count": null,
   "id": "7b825d19-3ce4-4386-871f-84b1676c21c2",
   "metadata": {},
   "outputs": [],
   "source": [
    "#Wap craete the dictionary based on two list"
   ]
  },
  {
   "cell_type": "code",
   "execution_count": 144,
   "id": "0d01a415-0bdd-4243-95e5-f1a2b80f1613",
   "metadata": {},
   "outputs": [
    {
     "data": {
      "text/plain": [
       "{'Nura': 18, 'kareena': 19}"
      ]
     },
     "execution_count": 144,
     "metadata": {},
     "output_type": "execute_result"
    }
   ],
   "source": [
    "s1=['Nura','kareena']\n",
    "age=[18,19]\n",
    "dic2={}\n",
    "for i,j in zip(s1,age):\n",
    "    dic2[i]=j\n",
    "\n",
    "dic2\n",
    "############################################\n",
    "dt={s1:age for s1,age in zip(s1,age)}\n",
    "dt\n"
   ]
  },
  {
   "cell_type": "code",
   "execution_count": 126,
   "id": "e86b8150-8b68-4faf-a381-9e80a2c9b108",
   "metadata": {},
   "outputs": [
    {
     "data": {
      "text/plain": [
       "{'Nura': 18, 'kareena': 19}"
      ]
     },
     "execution_count": 126,
     "metadata": {},
     "output_type": "execute_result"
    }
   ],
   "source": [
    "s1=['Nura','kareena']\n",
    "age=[18,19]\n",
    "dt={}\n",
    "for i in range(len(s1)):\n",
    "    dt[s1[i]]=age[i]\n",
    "\n",
    "dt"
   ]
  },
  {
   "cell_type": "code",
   "execution_count": 136,
   "id": "0157d822-ecc3-4d61-8d03-e2bbec0f4a81",
   "metadata": {},
   "outputs": [
    {
     "data": {
      "text/plain": [
       "{'Nura': 18, 'kareena': 19}"
      ]
     },
     "execution_count": 136,
     "metadata": {},
     "output_type": "execute_result"
    }
   ],
   "source": [
    "s1=['Nura','kareena']\n",
    "age=[18,19]\n",
    "dt={s1[i]:age[i] for i in range(len(s1))}\n",
    "dt"
   ]
  },
  {
   "cell_type": "code",
   "execution_count": 142,
   "id": "9ea0c8c1-7a10-4ba1-b4ed-9cee0e8a87ee",
   "metadata": {},
   "outputs": [
    {
     "data": {
      "text/plain": [
       "{'Nura': 18, 'kareena': 19}"
      ]
     },
     "execution_count": 142,
     "metadata": {},
     "output_type": "execute_result"
    }
   ],
   "source": [
    "dt={s1:age for s1,age in zip(s1,age)}\n",
    "dt"
   ]
  },
  {
   "cell_type": "code",
   "execution_count": null,
   "id": "00bf3719-22b5-401f-91c5-ea9f5b67a525",
   "metadata": {},
   "outputs": [],
   "source": [
    "#WaP take 5 random numbers cretae a dictionary with a even and odd\n",
    "#Outputz: {'even':[20,22], odd=["
   ]
  },
  {
   "cell_type": "code",
   "execution_count": null,
   "id": "ea5f901e-f83d-4932-a5ef-b9b16cf53e54",
   "metadata": {},
   "outputs": [],
   "source": [
    "import random\n",
    "i=random.randint(1,6)\n"
   ]
  },
  {
   "cell_type": "code",
   "execution_count": 172,
   "id": "88865807-d2ca-4cd1-aac1-9adcf166b770",
   "metadata": {},
   "outputs": [
    {
     "data": {
      "text/plain": [
       "{'even': [4, 4, 6, 6], 'odd': [1]}"
      ]
     },
     "execution_count": 172,
     "metadata": {},
     "output_type": "execute_result"
    }
   ],
   "source": [
    "x={}\n",
    "even=[]\n",
    "odd=[]\n",
    "for i in range(5):\n",
    "    import random\n",
    "    ci=random.randint(1,6)\n",
    "    if ci%2==0:\n",
    "        even.append(ci)\n",
    "\n",
    "    else:\n",
    "        odd.append(ci)\n",
    "\n",
    "odd \n",
    "x={'even':even,'odd':odd}\n",
    "x\n",
    "    \n",
    "    \n",
    "    "
   ]
  },
  {
   "cell_type": "code",
   "execution_count": null,
   "id": "5545fa00-e307-40f6-8eb4-95876111d884",
   "metadata": {},
   "outputs": [],
   "source": [
    "import os"
   ]
  },
  {
   "cell_type": "code",
   "execution_count": 3,
   "id": "e5af58cd-1af5-4e8d-b976-9f3ac0fde385",
   "metadata": {},
   "outputs": [
    {
     "ename": "NameError",
     "evalue": "name 'os' is not defined",
     "output_type": "error",
     "traceback": [
      "\u001b[1;31m---------------------------------------------------------------------------\u001b[0m",
      "\u001b[1;31mNameError\u001b[0m                                 Traceback (most recent call last)",
      "Cell \u001b[1;32mIn[3], line 1\u001b[0m\n\u001b[1;32m----> 1\u001b[0m os\u001b[38;5;241m.\u001b[39mgetcwd()\n",
      "\u001b[1;31mNameError\u001b[0m: name 'os' is not defined"
     ]
    }
   ],
   "source": [
    "os.getcwd()"
   ]
  },
  {
   "cell_type": "markdown",
   "id": "85246e17-09ab-4a13-b315-fa3137f9a3d0",
   "metadata": {},
   "source": [
    "\n"
   ]
  },
  {
   "cell_type": "code",
   "execution_count": 9,
   "id": "c3dd342c-37e9-4c22-a25b-e78129f8cc6a",
   "metadata": {},
   "outputs": [
    {
     "data": {
      "text/plain": [
       "['__class__',\n",
       " '__class_getitem__',\n",
       " '__contains__',\n",
       " '__delattr__',\n",
       " '__delitem__',\n",
       " '__dir__',\n",
       " '__doc__',\n",
       " '__eq__',\n",
       " '__format__',\n",
       " '__ge__',\n",
       " '__getattribute__',\n",
       " '__getitem__',\n",
       " '__getstate__',\n",
       " '__gt__',\n",
       " '__hash__',\n",
       " '__init__',\n",
       " '__init_subclass__',\n",
       " '__ior__',\n",
       " '__iter__',\n",
       " '__le__',\n",
       " '__len__',\n",
       " '__lt__',\n",
       " '__ne__',\n",
       " '__new__',\n",
       " '__or__',\n",
       " '__reduce__',\n",
       " '__reduce_ex__',\n",
       " '__repr__',\n",
       " '__reversed__',\n",
       " '__ror__',\n",
       " '__setattr__',\n",
       " '__setitem__',\n",
       " '__sizeof__',\n",
       " '__str__',\n",
       " '__subclasshook__',\n",
       " 'clear',\n",
       " 'copy',\n",
       " 'fromkeys',\n",
       " 'get',\n",
       " 'items',\n",
       " 'keys',\n",
       " 'pop',\n",
       " 'popitem',\n",
       " 'setdefault',\n",
       " 'update',\n",
       " 'values']"
      ]
     },
     "execution_count": 9,
     "metadata": {},
     "output_type": "execute_result"
    }
   ],
   "source": [
    "dir({})"
   ]
  },
  {
   "cell_type": "code",
   "execution_count": 17,
   "id": "f5dee3e1-6248-4339-a98d-26f30c8c7e67",
   "metadata": {},
   "outputs": [
    {
     "data": {
      "text/plain": [
       "{'Nura': 21, 'Resham': 41, 'Robert': 31}"
      ]
     },
     "execution_count": 17,
     "metadata": {},
     "output_type": "execute_result"
    }
   ],
   "source": [
    "d1={'Nura':21, 'Resham':41, 'Robert':31}\n",
    "d1"
   ]
  },
  {
   "cell_type": "code",
   "execution_count": 19,
   "id": "9988c8cf-81f0-467f-a2c4-25940e9f9116",
   "metadata": {},
   "outputs": [
    {
     "data": {
      "text/plain": [
       "dict_items([('Nura', 21), ('Resham', 41), ('Robert', 31)])"
      ]
     },
     "execution_count": 19,
     "metadata": {},
     "output_type": "execute_result"
    }
   ],
   "source": [
    "#items\n",
    "d1.items()"
   ]
  },
  {
   "cell_type": "code",
   "execution_count": 25,
   "id": "9401bdcb-6107-4bda-9d9a-a2f4d2f98d58",
   "metadata": {},
   "outputs": [
    {
     "data": {
      "text/plain": [
       "dict_items"
      ]
     },
     "execution_count": 25,
     "metadata": {},
     "output_type": "execute_result"
    }
   ],
   "source": [
    "type(d1.items())"
   ]
  },
  {
   "cell_type": "code",
   "execution_count": 21,
   "id": "47493516-ead1-40c5-8a15-b5bccbe05168",
   "metadata": {},
   "outputs": [
    {
     "data": {
      "text/plain": [
       "dict_keys(['Nura', 'Resham', 'Robert'])"
      ]
     },
     "execution_count": 21,
     "metadata": {},
     "output_type": "execute_result"
    }
   ],
   "source": [
    "#keys\n",
    "d1.keys()\n"
   ]
  },
  {
   "cell_type": "code",
   "execution_count": 31,
   "id": "967bf14b-639d-4c50-acef-bdc4227903da",
   "metadata": {},
   "outputs": [
    {
     "data": {
      "text/plain": [
       "dict_keys"
      ]
     },
     "execution_count": 31,
     "metadata": {},
     "output_type": "execute_result"
    }
   ],
   "source": [
    "type(d1.keys())"
   ]
  },
  {
   "cell_type": "code",
   "execution_count": 23,
   "id": "c3b0bc2d-02db-43c9-8866-962a812795f0",
   "metadata": {},
   "outputs": [
    {
     "data": {
      "text/plain": [
       "dict_values([21, 41, 31])"
      ]
     },
     "execution_count": 23,
     "metadata": {},
     "output_type": "execute_result"
    }
   ],
   "source": [
    "#values\n",
    "d1.values()"
   ]
  },
  {
   "cell_type": "code",
   "execution_count": 33,
   "id": "4dbcaa62-6776-4179-8051-a67fb75e8853",
   "metadata": {},
   "outputs": [
    {
     "data": {
      "text/plain": [
       "dict_values"
      ]
     },
     "execution_count": 33,
     "metadata": {},
     "output_type": "execute_result"
    }
   ],
   "source": [
    "type(d1.values())"
   ]
  },
  {
   "cell_type": "code",
   "execution_count": 1,
   "id": "44d822db-5543-4bcc-9690-5ea71db09663",
   "metadata": {},
   "outputs": [
    {
     "data": {
      "text/plain": [
       "[25, 10, 30, 28]"
      ]
     },
     "execution_count": 1,
     "metadata": {},
     "output_type": "execute_result"
    }
   ],
   "source": [
    "l1=[25,10,30]\n",
    "l1.append(28)\n",
    "l1"
   ]
  },
  {
   "cell_type": "code",
   "execution_count": 7,
   "id": "65b10d05-8d34-4402-bcef-d4a43dca7a26",
   "metadata": {},
   "outputs": [
    {
     "ename": "AttributeError",
     "evalue": "'list' object has no attribute 'values'",
     "output_type": "error",
     "traceback": [
      "\u001b[1;31m---------------------------------------------------------------------------\u001b[0m",
      "\u001b[1;31mAttributeError\u001b[0m                            Traceback (most recent call last)",
      "Cell \u001b[1;32mIn[7], line 1\u001b[0m\n\u001b[1;32m----> 1\u001b[0m l1\u001b[38;5;241m.\u001b[39mvalues\n",
      "\u001b[1;31mAttributeError\u001b[0m: 'list' object has no attribute 'values'"
     ]
    }
   ],
   "source": [
    "l1.value"
   ]
  },
  {
   "cell_type": "code",
   "execution_count": 11,
   "id": "610f37b0-6f66-469a-8b9d-f51ad4e6a1f9",
   "metadata": {},
   "outputs": [
    {
     "data": {
      "text/plain": [
       "[25, 10, 30]"
      ]
     },
     "execution_count": 11,
     "metadata": {},
     "output_type": "execute_result"
    }
   ],
   "source": [
    "l1=[25,10,30] #I want to convert into a list\n",
    "values_list=list(l1)\n",
    "values_list\n"
   ]
  },
  {
   "cell_type": "code",
   "execution_count": 27,
   "id": "2f95e668-457a-4203-abc8-00d259363c90",
   "metadata": {},
   "outputs": [
    {
     "ename": "TypeError",
     "evalue": "'list' object is not callable",
     "output_type": "error",
     "traceback": [
      "\u001b[1;31m---------------------------------------------------------------------------\u001b[0m",
      "\u001b[1;31mTypeError\u001b[0m                                 Traceback (most recent call last)",
      "Cell \u001b[1;32mIn[27], line 2\u001b[0m\n\u001b[0;32m      1\u001b[0m l1\u001b[38;5;241m=\u001b[39m{\u001b[38;5;124m'\u001b[39m\u001b[38;5;124mNura\u001b[39m\u001b[38;5;124m'\u001b[39m:\u001b[38;5;241m21\u001b[39m, \u001b[38;5;124m'\u001b[39m\u001b[38;5;124mResham\u001b[39m\u001b[38;5;124m'\u001b[39m:\u001b[38;5;241m41\u001b[39m, \u001b[38;5;124m'\u001b[39m\u001b[38;5;124mRobert\u001b[39m\u001b[38;5;124m'\u001b[39m:\u001b[38;5;241m31\u001b[39m}\n\u001b[1;32m----> 2\u001b[0m keys_list\u001b[38;5;241m=\u001b[39m\u001b[38;5;28mlist\u001b[39m(values())\n\u001b[0;32m      3\u001b[0m keys_list\n",
      "\u001b[1;31mTypeError\u001b[0m: 'list' object is not callable"
     ]
    }
   ],
   "source": [
    "l1={'Nura':21, 'Resham':41, 'Robert':31}\n",
    "keys_list=list(values())\n",
    "keys_list"
   ]
  },
  {
   "cell_type": "code",
   "execution_count": null,
   "id": "e149962f-df36-439c-841c-58984a1c5bc6",
   "metadata": {},
   "outputs": [],
   "source": []
  },
  {
   "cell_type": "code",
   "execution_count": 19,
   "id": "05ce0173-0ebf-4853-841e-884a7c99380c",
   "metadata": {},
   "outputs": [],
   "source": [
    "d1={'Nura':21, \n",
    "    'Resham':41, \n",
    "    'Robert':31}\n",
    "\n",
    "keys=list(d1.keys())\n",
    "values=list(d1.values())"
   ]
  },
  {
   "cell_type": "code",
   "execution_count": 21,
   "id": "b86fedae-edfa-4b98-a21d-99f7e64a30f2",
   "metadata": {},
   "outputs": [
    {
     "data": {
      "text/plain": [
       "['Nura', 'Resham', 'Robert']"
      ]
     },
     "execution_count": 21,
     "metadata": {},
     "output_type": "execute_result"
    }
   ],
   "source": [
    "keys"
   ]
  },
  {
   "cell_type": "code",
   "execution_count": 23,
   "id": "341f8bfc-acbc-48ec-beb3-b76156c76592",
   "metadata": {},
   "outputs": [
    {
     "data": {
      "text/plain": [
       "[21, 41, 31]"
      ]
     },
     "execution_count": 23,
     "metadata": {},
     "output_type": "execute_result"
    }
   ],
   "source": [
    "values"
   ]
  },
  {
   "cell_type": "code",
   "execution_count": 33,
   "id": "f286fde8-d755-48d3-93ed-bf1057dcd375",
   "metadata": {},
   "outputs": [
    {
     "data": {
      "text/plain": [
       "{'Nura': 21, 'Resham': 41, 'Robert': 31}"
      ]
     },
     "execution_count": 33,
     "metadata": {},
     "output_type": "execute_result"
    }
   ],
   "source": [
    "dic3={}\n",
    "{i:j for i, j in zip(keys,values)}\n"
   ]
  },
  {
   "cell_type": "code",
   "execution_count": 39,
   "id": "cd61b28b-bfd0-4845-ac4a-4ed0a9e5dfe6",
   "metadata": {},
   "outputs": [
    {
     "data": {
      "text/plain": [
       "{'Nura': 21, 'Resham': 41, 'Robert': 31}"
      ]
     },
     "execution_count": 39,
     "metadata": {},
     "output_type": "execute_result"
    }
   ],
   "source": [
    "d1={}\n",
    "for i in range(len(keys)):\n",
    "    d1[keys[i]]=values[i]\n",
    "    #d1[keys] =values[]\n",
    "   # d1['Ram']=values\n",
    "\n",
    "d1"
   ]
  },
  {
   "cell_type": "code",
   "execution_count": 41,
   "id": "cd12529f-2cfc-4bc4-bcb6-1adbd321ae3f",
   "metadata": {},
   "outputs": [
    {
     "data": {
      "text/plain": [
       "{'Nura': 21, 'Resham': 41, 'Robert': 31}"
      ]
     },
     "execution_count": 41,
     "metadata": {},
     "output_type": "execute_result"
    }
   ],
   "source": [
    "dict(zip(keys,values))"
   ]
  },
  {
   "cell_type": "code",
   "execution_count": null,
   "id": "4493ab7e-f878-4cbf-a858-74657149123e",
   "metadata": {},
   "outputs": [],
   "source": [
    "a1='nura.rana@pkr.com,Rohit.Sharma@ktm.com,Kareena.Grg@butwal.com'\n",
    "\n",
    "#{'first_name':['nura','Rohit','kareena'],\n"
   ]
  },
  {
   "cell_type": "code",
   "execution_count": null,
   "id": "c5732961-2915-4fe3-ac06-8d71b5684290",
   "metadata": {},
   "outputs": [],
   "source": [
    "a1='nura.rana@pkr.com,Rohit.Sharma@ktm.com,Kareena.Grg@butwal.com'\n",
    "first_n=[]\n",
    "second_n=[]\n"
   ]
  },
  {
   "cell_type": "code",
   "execution_count": 3,
   "id": "c7fb2827-310f-41f5-a88a-a94fc24f5c84",
   "metadata": {},
   "outputs": [
    {
     "data": {
      "text/plain": [
       "['nura.rana@pkr.com', 'Rohit.Sharma@ktm.com', 'Kareena.Grg@butwal.com']"
      ]
     },
     "execution_count": 3,
     "metadata": {},
     "output_type": "execute_result"
    }
   ],
   "source": [
    "a1='nura.rana@pkr.com,Rohit.Sharma@ktm.com,Kareena.Grg@butwal.com'\n",
    "a1.split(',')"
   ]
  },
  {
   "cell_type": "code",
   "execution_count": 7,
   "id": "e1891684-01fb-47ed-bc3a-f527f4e004e4",
   "metadata": {},
   "outputs": [
    {
     "data": {
      "text/plain": [
       "'nura'"
      ]
     },
     "execution_count": 7,
     "metadata": {},
     "output_type": "execute_result"
    }
   ],
   "source": [
    "a1='nura.rana@pkr.com'\n",
    "first_n=(a1.find('.'))\n",
    "a1[:a1.find('.')]"
   ]
  },
  {
   "cell_type": "code",
   "execution_count": 17,
   "id": "212cffc2-553e-4381-9157-011a2e02b034",
   "metadata": {},
   "outputs": [
    {
     "data": {
      "text/plain": [
       "'rana'"
      ]
     },
     "execution_count": 17,
     "metadata": {},
     "output_type": "execute_result"
    }
   ],
   "source": [
    "a1='nura.rana@pkr.com'\n",
    "a1.find('@')\n",
    "a1[a1.find('.')+1:a1.find('@')]\n",
    "\n"
   ]
  },
  {
   "cell_type": "code",
   "execution_count": 21,
   "id": "c6bb86a1-e427-49c9-a514-02323e2e52f7",
   "metadata": {},
   "outputs": [
    {
     "data": {
      "text/plain": [
       "'pkr'"
      ]
     },
     "execution_count": 21,
     "metadata": {},
     "output_type": "execute_result"
    }
   ],
   "source": [
    "a1='nura.rana@pkr.com'\n",
    "a1.find('.')\n",
    "a1[a1.find('@')+1:a1.find('.',a1.find('.')+1)]"
   ]
  },
  {
   "cell_type": "code",
   "execution_count": 55,
   "id": "7d7cbb26-966b-4560-9597-8cbf1c869e99",
   "metadata": {},
   "outputs": [
    {
     "data": {
      "text/plain": [
       "{'first_name': ['nura', 'Rohit', 'Kareena'],\n",
       " 'sescond-name': ['rana', 'Sharma', 'Grg'],\n",
       " 'company_name': ['pkr', 'ktm', 'butwal']}"
      ]
     },
     "execution_count": 55,
     "metadata": {},
     "output_type": "execute_result"
    }
   ],
   "source": [
    "a1='nura.rana@pkr.com,Rohit.Sharma@ktm.com,Kareena.Grg@butwal.com'\n",
    "d1={}\n",
    "fn=[]\n",
    "sn=[]\n",
    "cn=[]\n",
    "\n",
    "for i in a1.split(','):\n",
    "    fn.append(i[:i.find('.')])\n",
    "    sn.append(i[i.find('.')+1:i.find('@')])\n",
    "    cn.append(i[i.find('@')+1:i.find('.',i.find('.')+1)])\n",
    "fn,sn,cn\n",
    "d1['first_name']=fn\n",
    "d1['sescond-name']=sn\n",
    "d1['company_name']=cn\n",
    "d1"
   ]
  },
  {
   "cell_type": "code",
   "execution_count": 75,
   "id": "07a87588-f17d-48e8-a364-778a7069eeb9",
   "metadata": {},
   "outputs": [
    {
     "data": {
      "text/plain": [
       "[]"
      ]
     },
     "execution_count": 75,
     "metadata": {},
     "output_type": "execute_result"
    }
   ],
   "source": [
    "#WRONG\n",
    "str1='can can can you you  you canner canner'\n",
    "ln=str1.split(' ')\n",
    "\n",
    "cn=[]\n",
    "yu=[]\n",
    "nn=[]\n",
    "count=0\n",
    "for i in ln:\n",
    "    if cn=='can':\n",
    "        count+=1\n",
    "\n",
    "cn\n"
   ]
  },
  {
   "cell_type": "code",
   "execution_count": 79,
   "id": "4f56f260-17b4-4252-a450-b64628d00170",
   "metadata": {},
   "outputs": [
    {
     "data": {
      "text/plain": [
       "{'can': 3, 'you': 3, '': 1, 'canner': 2}"
      ]
     },
     "execution_count": 79,
     "metadata": {},
     "output_type": "execute_result"
    }
   ],
   "source": [
    "str1='can can can you you  you canner canner'\n",
    "ln=str1.split(' ')\n",
    "ds={}\n",
    "for i in ln:\n",
    "    ds[i]=ln.count(i)\n",
    "\n",
    "ds\n",
    "    "
   ]
  },
  {
   "cell_type": "code",
   "execution_count": 83,
   "id": "779f7a39-fd8c-4ab6-867d-062d8ee5d5c5",
   "metadata": {},
   "outputs": [
    {
     "data": {
      "text/plain": [
       "{'Nura': 2, 'nura': 2, 'Rana': 1, 'rana': 1, 'x': 2, 'y': 3, 'z': 1}"
      ]
     },
     "execution_count": 83,
     "metadata": {},
     "output_type": "execute_result"
    }
   ],
   "source": [
    "x='Nura,nura,Nura,nura,Rana,rana,x,x,y,y,y,z'\n",
    "sp=x.split(',')\n",
    "s={}\n",
    "\n",
    "for i in sp:\n",
    "    s[i]=sp.count(i)\n",
    "\n",
    "s"
   ]
  },
  {
   "cell_type": "code",
   "execution_count": 85,
   "id": "0acbf5d2-f60f-497d-8d99-36b9a23585a2",
   "metadata": {},
   "outputs": [
    {
     "data": {
      "text/plain": [
       "['Nura', 'nura', 'Rana', 'rana', 'x', 'y', 'z']"
      ]
     },
     "execution_count": 85,
     "metadata": {},
     "output_type": "execute_result"
    }
   ],
   "source": [
    "list(s.keys())"
   ]
  },
  {
   "cell_type": "code",
   "execution_count": 87,
   "id": "b25836c8-2198-4cde-8d45-5ff36e1be471",
   "metadata": {},
   "outputs": [
    {
     "data": {
      "text/plain": [
       "[2, 2, 1, 1, 2, 3, 1]"
      ]
     },
     "execution_count": 87,
     "metadata": {},
     "output_type": "execute_result"
    }
   ],
   "source": [
    "list(s.values())"
   ]
  },
  {
   "cell_type": "code",
   "execution_count": 89,
   "id": "59fa1947-c0f5-4878-895b-9f0e5b57bffb",
   "metadata": {},
   "outputs": [
    {
     "data": {
      "text/plain": [
       "dict_keys(['can', 'you', '', 'canner'])"
      ]
     },
     "execution_count": 89,
     "metadata": {},
     "output_type": "execute_result"
    }
   ],
   "source": [
    "ds.keys()"
   ]
  },
  {
   "cell_type": "code",
   "execution_count": 91,
   "id": "e85ff790-da3a-4095-b0dd-63362af1fc1f",
   "metadata": {},
   "outputs": [
    {
     "data": {
      "text/plain": [
       "dict_values([3, 3, 1, 2])"
      ]
     },
     "execution_count": 91,
     "metadata": {},
     "output_type": "execute_result"
    }
   ],
   "source": [
    "ds.values()"
   ]
  },
  {
   "cell_type": "code",
   "execution_count": 93,
   "id": "08bf4514-3248-4ad4-8d22-73473394e22d",
   "metadata": {},
   "outputs": [
    {
     "data": {
      "text/plain": [
       "dict_keys(['first_name', 'sescond-name', 'company_name'])"
      ]
     },
     "execution_count": 93,
     "metadata": {},
     "output_type": "execute_result"
    }
   ],
   "source": [
    "d1.keys()"
   ]
  },
  {
   "cell_type": "code",
   "execution_count": 95,
   "id": "0089f3e2-c4e3-409e-823d-85935e8a2383",
   "metadata": {},
   "outputs": [
    {
     "data": {
      "text/plain": [
       "dict_values([['nura', 'Rohit', 'Kareena'], ['rana', 'Sharma', 'Grg'], ['pkr', 'ktm', 'butwal']])"
      ]
     },
     "execution_count": 95,
     "metadata": {},
     "output_type": "execute_result"
    }
   ],
   "source": [
    "d1.values()"
   ]
  },
  {
   "cell_type": "code",
   "execution_count": 103,
   "id": "eb45e230-1b1b-4677-9b21-ea5596c97289",
   "metadata": {},
   "outputs": [],
   "source": [
    "keys=list(s.keys())\n"
   ]
  },
  {
   "cell_type": "code",
   "execution_count": 107,
   "id": "9495f25f-7732-4513-8db4-685e491f5fe2",
   "metadata": {},
   "outputs": [],
   "source": [
    "values=list(s.values())\n"
   ]
  },
  {
   "cell_type": "code",
   "execution_count": 109,
   "id": "97108720-85b9-4d2d-8266-7566b0397150",
   "metadata": {},
   "outputs": [
    {
     "data": {
      "text/plain": [
       "(['Nura', 'nura', 'Rana', 'rana', 'x', 'y', 'z'], [2, 2, 1, 1, 2, 3, 1])"
      ]
     },
     "execution_count": 109,
     "metadata": {},
     "output_type": "execute_result"
    }
   ],
   "source": [
    "keys , values\n"
   ]
  },
  {
   "cell_type": "code",
   "execution_count": 111,
   "id": "15569c44-0c7d-41d4-ad81-79c7e2c50f25",
   "metadata": {},
   "outputs": [
    {
     "data": {
      "text/plain": [
       "3"
      ]
     },
     "execution_count": 111,
     "metadata": {},
     "output_type": "execute_result"
    }
   ],
   "source": [
    "i=max(values)"
   ]
  },
  {
   "cell_type": "code",
   "execution_count": 119,
   "id": "a10d456b-9439-4042-a280-a95550d9b5a7",
   "metadata": {},
   "outputs": [
    {
     "ename": "ValueError",
     "evalue": "'z' is not in list",
     "output_type": "error",
     "traceback": [
      "\u001b[1;31m---------------------------------------------------------------------------\u001b[0m",
      "\u001b[1;31mValueError\u001b[0m                                Traceback (most recent call last)",
      "Cell \u001b[1;32mIn[119], line 1\u001b[0m\n\u001b[1;32m----> 1\u001b[0m values\u001b[38;5;241m.\u001b[39mindex(i)\n",
      "\u001b[1;31mValueError\u001b[0m: 'z' is not in list"
     ]
    }
   ],
   "source": [
    "values.index(i)"
   ]
  },
  {
   "cell_type": "code",
   "execution_count": 121,
   "id": "a2924452-0c49-43d5-9175-0c6cf0f576cc",
   "metadata": {},
   "outputs": [
    {
     "data": {
      "text/plain": [
       "'y'"
      ]
     },
     "execution_count": 121,
     "metadata": {},
     "output_type": "execute_result"
    }
   ],
   "source": [
    "keys[values.index(max(values))]"
   ]
  },
  {
   "cell_type": "code",
   "execution_count": null,
   "id": "bcd7ed4e-753a-410d-8ea7-5588d0899555",
   "metadata": {},
   "outputs": [],
   "source": [
    "d1={'a':20,'b':30,'c':40}\n",
    "ds={'a':50,'b':100,'c':200}\n",
    "\n",
    "#o/p={'a':70\n",
    "\n"
   ]
  },
  {
   "cell_type": "code",
   "execution_count": 143,
   "id": "d0ec332f-85d3-4c5c-a876-cfe4e0380de4",
   "metadata": {},
   "outputs": [
    {
     "data": {
      "text/plain": [
       "{'a': 70, 'b': 130, 'c': 240}"
      ]
     },
     "execution_count": 143,
     "metadata": {},
     "output_type": "execute_result"
    }
   ],
   "source": [
    "dx={'a':20,'b':30,'c':40}\n",
    "dy={'a':50,'b':100,'c':200}\n",
    "dz={}\n",
    "if len(dx)==len(dy):\n",
    "    for i in dx:\n",
    "        dz[i]=dx[i]+dy[i]\n",
    "\n",
    "dz"
   ]
  },
  {
   "cell_type": "code",
   "execution_count": 149,
   "id": "37481799-68ca-4a1f-ac0c-44b850b6b05d",
   "metadata": {},
   "outputs": [
    {
     "data": {
      "text/plain": [
       "{'a': 70, 'b': 130, 'c': 240, 'd': 300}"
      ]
     },
     "execution_count": 149,
     "metadata": {},
     "output_type": "execute_result"
    }
   ],
   "source": [
    "dx={'a':20,'b':30,'c':40}\n",
    "dy={'a':50,'b':100,'c':200,'d':300}\n",
    "for i in dx:\n",
    "    dy[i]+=dx[i]\n",
    "\n",
    "dy\n"
   ]
  },
  {
   "cell_type": "code",
   "execution_count": 131,
   "id": "515b9896-bdd0-4709-8e0b-32357aaaeec4",
   "metadata": {},
   "outputs": [
    {
     "data": {
      "text/plain": [
       "dict_values([20, 30, 40])"
      ]
     },
     "execution_count": 131,
     "metadata": {},
     "output_type": "execute_result"
    }
   ],
   "source": [
    "dx.values()"
   ]
  },
  {
   "cell_type": "code",
   "execution_count": 133,
   "id": "13cb592e-4737-450d-a93c-86bfd0d5c7c6",
   "metadata": {},
   "outputs": [
    {
     "data": {
      "text/plain": [
       "dict_values([50, 100, 200])"
      ]
     },
     "execution_count": 133,
     "metadata": {},
     "output_type": "execute_result"
    }
   ],
   "source": [
    "dy.values()"
   ]
  },
  {
   "cell_type": "markdown",
   "id": "e4ce4742-398c-4a81-a7b1-01be0d3bf793",
   "metadata": {},
   "source": [
    "$$Day-32$$"
   ]
  },
  {
   "cell_type": "markdown",
   "id": "f1439d20-4269-48e3-8e24-4d9cbafe87cd",
   "metadata": {},
   "source": [
    "$Clear-copy$"
   ]
  },
  {
   "cell_type": "code",
   "execution_count": null,
   "id": "6688178c-b295-4b58-a285-ffdbe8ea27c1",
   "metadata": {},
   "outputs": [],
   "source": [
    "#take one dictionary\n",
    "#take second dictionary\n",
    "#copy frst dic inton second\n",
    "#and print both "
   ]
  },
  {
   "cell_type": "code",
   "execution_count": 4,
   "id": "12bfea1c-a981-4bec-82e8-fffd1555afc9",
   "metadata": {},
   "outputs": [
    {
     "name": "stdout",
     "output_type": "stream",
     "text": [
      "set()\n",
      "{'nura'}\n"
     ]
    }
   ],
   "source": [
    "dic1={'nura'}\n",
    "dic2=dic1.copy()\n",
    "dic1.clear()\n",
    "print(dic1)\n",
    "print(dic2)\n"
   ]
  },
  {
   "cell_type": "markdown",
   "id": "73e3d778-9542-4ca0-ab99-bf2a0e1fe1c6",
   "metadata": {},
   "source": [
    "$pop-popitem-del$"
   ]
  },
  {
   "cell_type": "code",
   "execution_count": null,
   "id": "1299a0c2-e29b-480d-8279-9005c4e7097b",
   "metadata": {},
   "outputs": [],
   "source": [
    "what is pop\n",
    "return the values then removes it\n"
   ]
  },
  {
   "cell_type": "code",
   "execution_count": 29,
   "id": "c0650819-8b6e-49bf-a8de-c49b0418d042",
   "metadata": {},
   "outputs": [
    {
     "data": {
      "text/plain": [
       "100"
      ]
     },
     "execution_count": 29,
     "metadata": {},
     "output_type": "execute_result"
    }
   ],
   "source": [
    "dic2={'nura':100,'Kareena':20}\n",
    "dic2.pop('nura')"
   ]
  },
  {
   "cell_type": "code",
   "execution_count": 31,
   "id": "ad3e8d91-3e82-4514-a016-52d761ee6df6",
   "metadata": {},
   "outputs": [
    {
     "data": {
      "text/plain": [
       "{'Kareena': 20}"
      ]
     },
     "execution_count": 31,
     "metadata": {},
     "output_type": "execute_result"
    }
   ],
   "source": [
    "dic2"
   ]
  },
  {
   "cell_type": "code",
   "execution_count": 25,
   "id": "b4f37730-42b3-4a09-83dd-5608fc1f0fd2",
   "metadata": {},
   "outputs": [
    {
     "data": {
      "text/plain": [
       "('Kareena', 20)"
      ]
     },
     "execution_count": 25,
     "metadata": {},
     "output_type": "execute_result"
    }
   ],
   "source": [
    "dic2={'nura':100,'Kareena':20}\n",
    "dic2.popitem()\n"
   ]
  },
  {
   "cell_type": "code",
   "execution_count": 27,
   "id": "196e4938-6209-4b7d-8bde-88df29b8774f",
   "metadata": {},
   "outputs": [
    {
     "data": {
      "text/plain": [
       "{'nura': 100}"
      ]
     },
     "execution_count": 27,
     "metadata": {},
     "output_type": "execute_result"
    }
   ],
   "source": [
    "dic2"
   ]
  },
  {
   "cell_type": "markdown",
   "id": "50a95696-520d-437b-9c90-5dabb612d1df",
   "metadata": {},
   "source": [
    "$popitem$\n",
    "remove and return the last value"
   ]
  },
  {
   "cell_type": "code",
   "execution_count": 33,
   "id": "4cb524f8-8ed3-4e3d-82fd-7949a82c888e",
   "metadata": {},
   "outputs": [
    {
     "data": {
      "text/plain": [
       "('Kareena', 20)"
      ]
     },
     "execution_count": 33,
     "metadata": {},
     "output_type": "execute_result"
    }
   ],
   "source": [
    "dic2={'nura':100,'Kareena':20}\n",
    "dic2.popitem()"
   ]
  },
  {
   "cell_type": "code",
   "execution_count": 35,
   "id": "0224253e-47ee-46c9-b8db-21d7d5827dbb",
   "metadata": {},
   "outputs": [
    {
     "data": {
      "text/plain": [
       "{'nura': 100}"
      ]
     },
     "execution_count": 35,
     "metadata": {},
     "output_type": "execute_result"
    }
   ],
   "source": [
    "dic2"
   ]
  },
  {
   "cell_type": "markdown",
   "id": "6d870f4e-3afb-46a0-a453-0ffae2b6d89b",
   "metadata": {},
   "source": [
    "$Del$\n",
    "\n",
    "del is a keyword\n",
    "\n",
    "it can provide any item by providing specific key\n"
   ]
  },
  {
   "cell_type": "code",
   "execution_count": 45,
   "id": "5f078b9c-be3b-4450-8cfb-26becf0c7bf2",
   "metadata": {},
   "outputs": [
    {
     "data": {
      "text/plain": [
       "{'nura': 100}"
      ]
     },
     "execution_count": 45,
     "metadata": {},
     "output_type": "execute_result"
    }
   ],
   "source": [
    "#del is a keyword\n",
    "dic2"
   ]
  },
  {
   "cell_type": "code",
   "execution_count": null,
   "id": "d7ff288e-3d17-4df7-9ad0-b8eadb0d354b",
   "metadata": {},
   "outputs": [],
   "source": [
    "dic2={'nura':100,'Kareena':20}"
   ]
  },
  {
   "cell_type": "code",
   "execution_count": 47,
   "id": "21f64a0b-0cf0-4b2e-9d84-e4de32a59ba3",
   "metadata": {},
   "outputs": [
    {
     "ename": "KeyError",
     "evalue": "'Kareena'",
     "output_type": "error",
     "traceback": [
      "\u001b[1;31m---------------------------------------------------------------------------\u001b[0m",
      "\u001b[1;31mKeyError\u001b[0m                                  Traceback (most recent call last)",
      "Cell \u001b[1;32mIn[47], line 1\u001b[0m\n\u001b[1;32m----> 1\u001b[0m \u001b[38;5;28;01mdel\u001b[39;00m dic2[\u001b[38;5;124m'\u001b[39m\u001b[38;5;124mKareena\u001b[39m\u001b[38;5;124m'\u001b[39m]\n",
      "\u001b[1;31mKeyError\u001b[0m: 'Kareena'"
     ]
    }
   ],
   "source": [
    "del dic2['Kareena']"
   ]
  },
  {
   "cell_type": "code",
   "execution_count": 51,
   "id": "15a44ec6-0063-481b-a9d7-56785b1b6612",
   "metadata": {},
   "outputs": [
    {
     "data": {
      "text/plain": [
       "{'nura': 100}"
      ]
     },
     "execution_count": 51,
     "metadata": {},
     "output_type": "execute_result"
    }
   ],
   "source": [
    "dic2"
   ]
  },
  {
   "cell_type": "code",
   "execution_count": 53,
   "id": "a71937f9-719a-4a61-89ea-b11d6d3033b7",
   "metadata": {},
   "outputs": [],
   "source": [
    "del(dic2)"
   ]
  },
  {
   "cell_type": "code",
   "execution_count": 55,
   "id": "d852ced3-4586-4e87-bbc1-f00b304b345f",
   "metadata": {},
   "outputs": [
    {
     "ename": "NameError",
     "evalue": "name 'dic2' is not defined",
     "output_type": "error",
     "traceback": [
      "\u001b[1;31m---------------------------------------------------------------------------\u001b[0m",
      "\u001b[1;31mNameError\u001b[0m                                 Traceback (most recent call last)",
      "Cell \u001b[1;32mIn[55], line 1\u001b[0m\n\u001b[1;32m----> 1\u001b[0m dic2\n",
      "\u001b[1;31mNameError\u001b[0m: name 'dic2' is not defined"
     ]
    }
   ],
   "source": [
    "dic2"
   ]
  },
  {
   "cell_type": "code",
   "execution_count": 59,
   "id": "9de36807-dbdf-49d5-a2fc-b21b42461552",
   "metadata": {},
   "outputs": [],
   "source": [
    "d1={'a':1,'b':2,'c':3}\n",
    "del d1['a']\n"
   ]
  },
  {
   "cell_type": "code",
   "execution_count": 61,
   "id": "32e8cbf7-e3b7-47a1-9601-691a180bc76b",
   "metadata": {},
   "outputs": [
    {
     "data": {
      "text/plain": [
       "{'b': 2, 'c': 3}"
      ]
     },
     "execution_count": 61,
     "metadata": {},
     "output_type": "execute_result"
    }
   ],
   "source": [
    "d1"
   ]
  },
  {
   "cell_type": "code",
   "execution_count": null,
   "id": "6a840457-bcd2-4d29-bc60-2531fc26b850",
   "metadata": {},
   "outputs": [],
   "source": [
    "d1={'a':1,'b':2,'c':3}\n",
    "del d1['a']\n",
    "#########################################\n",
    "d1.pop('c')\n",
    "#####################################\n",
    "d1.popitem()\n",
    "#########################################\n",
    "del (d1)"
   ]
  },
  {
   "cell_type": "markdown",
   "id": "c938f49b-0fd0-4ab5-a00d-5d1848264d77",
   "metadata": {},
   "source": [
    "-items/values/keys\n",
    "\n",
    "-if two list is provided , we should know how to make dict\n",
    "\n",
    "-if dict is provided, we should know how tp generate list\n",
    "\n",
    "-create an empty string/list/dictionary\n",
    "\n",
    "-count\n",
    "\n",
    "-summ\n",
    "\n",
    "-funtion\n",
    "\n",
    "-pop/popitem/del\n",
    "\n",
    "-copy/clear\n"
   ]
  },
  {
   "cell_type": "markdown",
   "id": "89990d24-72cc-4fb9-b363-f757ef5c3396",
   "metadata": {},
   "source": [
    "fromkeys-get"
   ]
  },
  {
   "cell_type": "code",
   "execution_count": 67,
   "id": "4d7adac2-ade2-4635-bfcc-c8bf632e6486",
   "metadata": {},
   "outputs": [
    {
     "data": {
      "text/plain": [
       "2"
      ]
     },
     "execution_count": 67,
     "metadata": {},
     "output_type": "execute_result"
    }
   ],
   "source": [
    "d1={'a':1,'b':2,'c':3}\n",
    "d1['b']"
   ]
  },
  {
   "cell_type": "code",
   "execution_count": 69,
   "id": "a6dbfaaf-02a7-42d0-8ba9-3b27e80ee431",
   "metadata": {},
   "outputs": [
    {
     "data": {
      "text/plain": [
       "2"
      ]
     },
     "execution_count": 69,
     "metadata": {},
     "output_type": "execute_result"
    }
   ],
   "source": [
    "d1.get('b')"
   ]
  },
  {
   "cell_type": "code",
   "execution_count": 73,
   "id": "a39545d7-07aa-4929-98fc-8e0ef51570cf",
   "metadata": {},
   "outputs": [],
   "source": [
    "d1.get('x')"
   ]
  },
  {
   "cell_type": "code",
   "execution_count": 75,
   "id": "e6da019b-ba2d-471c-bce9-c5bf959fc84c",
   "metadata": {},
   "outputs": [
    {
     "ename": "KeyError",
     "evalue": "'z'",
     "output_type": "error",
     "traceback": [
      "\u001b[1;31m---------------------------------------------------------------------------\u001b[0m",
      "\u001b[1;31mKeyError\u001b[0m                                  Traceback (most recent call last)",
      "Cell \u001b[1;32mIn[75], line 1\u001b[0m\n\u001b[1;32m----> 1\u001b[0m d1[\u001b[38;5;124m'\u001b[39m\u001b[38;5;124mz\u001b[39m\u001b[38;5;124m'\u001b[39m]\n",
      "\u001b[1;31mKeyError\u001b[0m: 'z'"
     ]
    }
   ],
   "source": [
    "d1['z']"
   ]
  },
  {
   "cell_type": "markdown",
   "id": "9c63c18c-f523-4144-94d9-bbbb4b36cbaa",
   "metadata": {},
   "source": [
    "-how many ways we can do\n",
    "\n",
    "-what output it is returning\n",
    "\n",
    "-what is the difference\n",
    "\n",
    "-we can access the values by providing key as index and key in get method\n",
    "\n",
    "-but if the key is not present in dictionary, keu as index will give key error\n",
    "\n",
    "-get method will not return and no error"
   ]
  },
  {
   "cell_type": "code",
   "execution_count": null,
   "id": "7970bf8e-a2c6-4437-9ae6-9605660685ba",
   "metadata": {},
   "outputs": [],
   "source": [
    "#cretaes a new dcitionary\n",
    "#create a new dictionary from the givem sequence of elements\n",
    "#create new dictionary with iterable key"
   ]
  },
  {
   "cell_type": "code",
   "execution_count": 9,
   "id": "9bb469b1-103b-48c1-81f3-56f85ade4773",
   "metadata": {},
   "outputs": [
    {
     "data": {
      "text/plain": [
       "{'N': 34, 'u': 34, 'r': 34, 'a': 34}"
      ]
     },
     "execution_count": 9,
     "metadata": {},
     "output_type": "execute_result"
    }
   ],
   "source": [
    "d1={'a':1,'b':2,'c':3}\n",
    "x=d1.fromkeys('Nura',34)\n",
    "x"
   ]
  },
  {
   "cell_type": "code",
   "execution_count": 11,
   "id": "42ca3a74-9a8b-46cf-82ad-1ed0da0a9b81",
   "metadata": {},
   "outputs": [
    {
     "data": {
      "text/plain": [
       "{'a': 1, 'b': 2, 'c': 3}"
      ]
     },
     "execution_count": 11,
     "metadata": {},
     "output_type": "execute_result"
    }
   ],
   "source": [
    "d1"
   ]
  },
  {
   "cell_type": "code",
   "execution_count": 13,
   "id": "8999973b-c64a-4805-a993-3424597fa02f",
   "metadata": {},
   "outputs": [
    {
     "data": {
      "text/plain": [
       "{'N': 34, 'u': 34, 'r': 34, 'a': 34}"
      ]
     },
     "execution_count": 13,
     "metadata": {},
     "output_type": "execute_result"
    }
   ],
   "source": [
    "x"
   ]
  },
  {
   "cell_type": "code",
   "execution_count": 17,
   "id": "5ad6717c-196f-4730-bab6-6d13cff4c105",
   "metadata": {},
   "outputs": [],
   "source": [
    "n='nura'\n",
    "t=n.capitalize()"
   ]
  },
  {
   "cell_type": "code",
   "execution_count": 19,
   "id": "c7fa81ad-06a9-45cf-96fe-a2e5c10c53a1",
   "metadata": {},
   "outputs": [
    {
     "data": {
      "text/plain": [
       "'nura'"
      ]
     },
     "execution_count": 19,
     "metadata": {},
     "output_type": "execute_result"
    }
   ],
   "source": [
    "n"
   ]
  },
  {
   "cell_type": "code",
   "execution_count": 21,
   "id": "b75e504f-d536-4b29-97eb-c95a9e091604",
   "metadata": {},
   "outputs": [
    {
     "data": {
      "text/plain": [
       "'Nura'"
      ]
     },
     "execution_count": 21,
     "metadata": {},
     "output_type": "execute_result"
    }
   ],
   "source": [
    "t"
   ]
  },
  {
   "cell_type": "code",
   "execution_count": 23,
   "id": "942836b1-7986-40c2-ba4c-5980390b9344",
   "metadata": {},
   "outputs": [
    {
     "data": {
      "text/plain": [
       "('nura', 'Nura')"
      ]
     },
     "execution_count": 23,
     "metadata": {},
     "output_type": "execute_result"
    }
   ],
   "source": [
    "n,t"
   ]
  },
  {
   "cell_type": "code",
   "execution_count": 25,
   "id": "0e824892-f789-4b05-99a2-e91580fc094d",
   "metadata": {},
   "outputs": [
    {
     "data": {
      "text/plain": [
       "{'N': 34, 'u': 34, 'r': 34, 'a': 34}"
      ]
     },
     "execution_count": 25,
     "metadata": {},
     "output_type": "execute_result"
    }
   ],
   "source": [
    "x={}.fromkeys('Nura',34)\n",
    "x"
   ]
  },
  {
   "cell_type": "code",
   "execution_count": 27,
   "id": "e8cf2fe9-5591-4bb0-8293-57067b722448",
   "metadata": {},
   "outputs": [
    {
     "data": {
      "text/plain": [
       "{1: 34, 4: 34, 6: 34}"
      ]
     },
     "execution_count": 27,
     "metadata": {},
     "output_type": "execute_result"
    }
   ],
   "source": [
    "x={}.fromkeys([1,4,6],34)\n",
    "x"
   ]
  },
  {
   "cell_type": "markdown",
   "id": "937f5dec-a834-42e3-ae6e-5c826a1601de",
   "metadata": {},
   "source": [
    "$SET - AS - DEFAULT$"
   ]
  },
  {
   "cell_type": "code",
   "execution_count": null,
   "id": "1fdc4d22-84a1-44bf-a28e-71dd1e3b7b1b",
   "metadata": {},
   "outputs": [],
   "source": [
    "returns value of thekeyy\n",
    "if key is not present returns default"
   ]
  },
  {
   "cell_type": "code",
   "execution_count": 32,
   "id": "d28289b7-3564-44a2-8e0d-66c653845dca",
   "metadata": {},
   "outputs": [
    {
     "data": {
      "text/plain": [
       "{'nura': 'rrr', 'city': None}"
      ]
     },
     "execution_count": 32,
     "metadata": {},
     "output_type": "execute_result"
    }
   ],
   "source": [
    "d1={}\n",
    "d1.setdefault('nura','rrr')\n",
    "d1.setdefault('city')\n",
    "d1"
   ]
  },
  {
   "cell_type": "code",
   "execution_count": 36,
   "id": "c1a0d688-e9dd-4b37-8826-a43973b01802",
   "metadata": {},
   "outputs": [
    {
     "ename": "KeyError",
     "evalue": "'city'",
     "output_type": "error",
     "traceback": [
      "\u001b[1;31m---------------------------------------------------------------------------\u001b[0m",
      "\u001b[1;31mKeyError\u001b[0m                                  Traceback (most recent call last)",
      "Cell \u001b[1;32mIn[36], line 3\u001b[0m\n\u001b[0;32m      1\u001b[0m d2\u001b[38;5;241m=\u001b[39m{}\n\u001b[0;32m      2\u001b[0m d2[\u001b[38;5;124m'\u001b[39m\u001b[38;5;124mnur\u001b[39m\u001b[38;5;124m'\u001b[39m]\u001b[38;5;241m=\u001b[39m\u001b[38;5;124m'\u001b[39m\u001b[38;5;124mds\u001b[39m\u001b[38;5;124m'\u001b[39m\n\u001b[1;32m----> 3\u001b[0m d2[\u001b[38;5;124m'\u001b[39m\u001b[38;5;124mcity\u001b[39m\u001b[38;5;124m'\u001b[39m]\n",
      "\u001b[1;31mKeyError\u001b[0m: 'city'"
     ]
    }
   ],
   "source": [
    "d2={}\n",
    "d2['nur']='ds'\n",
    "d2['city']\n"
   ]
  },
  {
   "cell_type": "markdown",
   "id": "f7bfe9d3-974b-4ecb-81d1-b43f433e2d1c",
   "metadata": {},
   "source": [
    "$UPDATE$"
   ]
  },
  {
   "cell_type": "code",
   "execution_count": null,
   "id": "5eae7045-dbae-45c8-8a70-7218c99175ea",
   "metadata": {},
   "outputs": [],
   "source": [
    "#it inserts particular items to the dictionary"
   ]
  },
  {
   "cell_type": "code",
   "execution_count": 45,
   "id": "c1a18a2b-f1ad-44cb-b903-a32801abacc6",
   "metadata": {},
   "outputs": [
    {
     "data": {
      "text/plain": [
       "{'a': 1, 'b': 2, 'c': 3, 'nura': 'rrr', 'city': None}"
      ]
     },
     "execution_count": 45,
     "metadata": {},
     "output_type": "execute_result"
    }
   ],
   "source": [
    "d1={'a':1,'b':2,'c':3}\n",
    "d2={'nura': 'rrr', 'city': None}\n",
    "\n",
    "d1.update(d2)\n",
    "d1"
   ]
  },
  {
   "cell_type": "code",
   "execution_count": 47,
   "id": "53d8332c-9f91-4c73-bc82-abef6979fd01",
   "metadata": {},
   "outputs": [
    {
     "data": {
      "text/plain": [
       "{'nura': 'rrr', 'city': None, 1: 34, 4: 34, 6: 34}"
      ]
     },
     "execution_count": 47,
     "metadata": {},
     "output_type": "execute_result"
    }
   ],
   "source": [
    "d1={'a':1,'b':2,'c':3}\n",
    "d2={'nura': 'rrr', 'city': None}\n",
    "d2.update(x)\n",
    "d2"
   ]
  },
  {
   "cell_type": "code",
   "execution_count": null,
   "id": "2406f0c0-aff7-44bd-a759-6480aec8d1e2",
   "metadata": {},
   "outputs": [],
   "source": []
  },
  {
   "cell_type": "code",
   "execution_count": 49,
   "id": "801ddac0-0fd3-4d5b-92e1-2a20647c9de5",
   "metadata": {},
   "outputs": [
    {
     "ename": "TypeError",
     "evalue": "'int' object is not iterable",
     "output_type": "error",
     "traceback": [
      "\u001b[1;31m---------------------------------------------------------------------------\u001b[0m",
      "\u001b[1;31mTypeError\u001b[0m                                 Traceback (most recent call last)",
      "Cell \u001b[1;32mIn[49], line 3\u001b[0m\n\u001b[0;32m      1\u001b[0m l1\u001b[38;5;241m=\u001b[39m[\u001b[38;5;241m1\u001b[39m,\u001b[38;5;241m2\u001b[39m,\u001b[38;5;241m3\u001b[39m,\u001b[38;5;241m4\u001b[39m]\n\u001b[0;32m      2\u001b[0m l2\u001b[38;5;241m=\u001b[39m[\u001b[38;5;241m3\u001b[39m,\u001b[38;5;241m5\u001b[39m]\n\u001b[1;32m----> 3\u001b[0m l1\u001b[38;5;241m.\u001b[39mextend(\u001b[38;5;241m14\u001b[39m)\n\u001b[0;32m      4\u001b[0m l1\n",
      "\u001b[1;31mTypeError\u001b[0m: 'int' object is not iterable"
     ]
    }
   ],
   "source": [
    "l1=[1,2,3,4]\n",
    "l2=[3,5]\n",
    "l1.extend(14)\n",
    "l1"
   ]
  },
  {
   "cell_type": "markdown",
   "id": "258837e2-a515-4bad-b01f-f66713ea0fe6",
   "metadata": {},
   "source": [
    "#Update method will update a dictionary with elements from another dictionary"
   ]
  },
  {
   "cell_type": "code",
   "execution_count": 52,
   "id": "cbe2b019-02fe-4b7a-a907-10fddcf1d9df",
   "metadata": {},
   "outputs": [
    {
     "data": {
      "text/plain": [
       "{2: 8, 8: 76}"
      ]
     },
     "execution_count": 52,
     "metadata": {},
     "output_type": "execute_result"
    }
   ],
   "source": [
    "h=[(2,8),(8,76)]\n",
    "d1={}\n",
    "d1.update(h)\n",
    "d1"
   ]
  },
  {
   "cell_type": "markdown",
   "id": "899bac40-6778-493a-96d2-b7630bdef17e",
   "metadata": {},
   "source": [
    "Writing an artticle o the tuple\n"
   ]
  },
  {
   "cell_type": "code",
   "execution_count": null,
   "id": "3c44912b-1d8c-4624-b511-541420233419",
   "metadata": {},
   "outputs": [],
   "source": [
    "-hpw to read \n",
    "\n",
    "-type/max/min/len/sum\n",
    "\n",
    "-index/mutable\n",
    "\n",
    "-in/for\n",
    "\n",
    "-methods"
   ]
  },
  {
   "cell_type": "code",
   "execution_count": null,
   "id": "e7bb18a4-2a54-46fe-8e76-dc84ccc7488b",
   "metadata": {},
   "outputs": [],
   "source": []
  },
  {
   "cell_type": "code",
   "execution_count": null,
   "id": "71f3a3be-bfac-4ae5-8470-50deaabe74ed",
   "metadata": {},
   "outputs": [],
   "source": []
  },
  {
   "cell_type": "code",
   "execution_count": null,
   "id": "ac096c68-b40a-4272-9e5e-48894903de6c",
   "metadata": {},
   "outputs": [],
   "source": []
  }
 ],
 "metadata": {
  "kernelspec": {
   "display_name": "Python [conda env:base] *",
   "language": "python",
   "name": "conda-base-py"
  },
  "language_info": {
   "codemirror_mode": {
    "name": "ipython",
    "version": 3
   },
   "file_extension": ".py",
   "mimetype": "text/x-python",
   "name": "python",
   "nbconvert_exporter": "python",
   "pygments_lexer": "ipython3",
   "version": "3.12.7"
  }
 },
 "nbformat": 4,
 "nbformat_minor": 5
}
