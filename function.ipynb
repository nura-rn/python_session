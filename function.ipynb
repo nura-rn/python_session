{
 "cells": [
  {
   "cell_type": "markdown",
   "id": "370f69f9-4ff7-41b0-9189-8899731e3c46",
   "metadata": {},
   "source": []
  },
  {
   "cell_type": "markdown",
   "id": "113a7816-7d71-4c2f-8a6e-ba50017aea76",
   "metadata": {},
   "source": [
    "$$FUNCTION$$"
   ]
  },
  {
   "cell_type": "code",
   "execution_count": 2,
   "id": "a22185a8-72b4-4380-bc81-1c4fa2e1875f",
   "metadata": {},
   "outputs": [],
   "source": [
    "def nura():\n",
    "    print(\"hey nura\")\n",
    "    print(\"You're doung great\")\n",
    "    "
   ]
  },
  {
   "cell_type": "code",
   "execution_count": 4,
   "id": "e0f609be-411f-4af1-a783-a5f40e96a6e8",
   "metadata": {},
   "outputs": [
    {
     "name": "stdout",
     "output_type": "stream",
     "text": [
      "hey nura\n",
      "You're doung great\n"
     ]
    }
   ],
   "source": [
    "nura()\n"
   ]
  },
  {
   "cell_type": "markdown",
   "id": "e5797779-dfa4-4451-bae0-ecaeaa39df58",
   "metadata": {},
   "source": [
    "#while recalling function bracket is needed\n",
    "\n"
   ]
  },
  {
   "cell_type": "markdown",
   "id": "b010d781-8633-4fae-baa3-2ff88e026973",
   "metadata": {},
   "source": [
    "$ Q/N1$"
   ]
  },
  {
   "cell_type": "code",
   "execution_count": 19,
   "id": "e1fef90b-4745-4a06-984a-e601dce5e35b",
   "metadata": {},
   "outputs": [
    {
     "name": "stdin",
     "output_type": "stream",
     "text": [
      "Enter the first number 7\n",
      "Enter the second number 8\n",
      "Enter the third number 8\n"
     ]
    },
    {
     "name": "stdout",
     "output_type": "stream",
     "text": [
      "The avearge of 7,8 and 8 is 7.666666666666667\n"
     ]
    }
   ],
   "source": [
    "def average():\n",
    "    try:\n",
    "        x=eval(input(\"Enter the first number\"))\n",
    "        y=eval(input(\"Enter the second number\"))\n",
    "        z=eval(input(\"Enter the third number\"))\n",
    "        avg=(x+y+z)/3\n",
    "        print(\"The avearge of {},{} and {} is {}\".format(x,y,z,avg))\n",
    "\n",
    "    except Exception as er:\n",
    "        print(er)\n",
    "\n",
    "average()"
   ]
  },
  {
   "cell_type": "markdown",
   "id": "ec9fb7bb-456e-4d33-a44a-92bf5046abaa",
   "metadata": {},
   "source": [
    "$Q/N2$"
   ]
  },
  {
   "cell_type": "code",
   "execution_count": 25,
   "id": "470df438-9315-4d71-bbc1-5d1a362efb37",
   "metadata": {},
   "outputs": [
    {
     "name": "stdin",
     "output_type": "stream",
     "text": [
      "Enetr the bill amount 5000\n",
      "Enter tip amoutn only if you want 500\n"
     ]
    },
    {
     "name": "stdout",
     "output_type": "stream",
     "text": [
      "The total bill is 5500\n"
     ]
    }
   ],
   "source": [
    "def bill():\n",
    "    try:\n",
    "        bill=eval(input(\"Enetr the bill amount\"))\n",
    "        tip=eval(input(\"Enter tip amoutn only if you want\"))\n",
    "        total_bill=bill+tip\n",
    "        print(\"The total bill is\",total_bill)\n",
    "\n",
    "    except Exception as er:\n",
    "        print(er)\n",
    "\n",
    "bill()"
   ]
  },
  {
   "cell_type": "markdown",
   "id": "80eab897-f637-4d4d-8843-b069eea20bf6",
   "metadata": {},
   "source": [
    "$Q/N3$"
   ]
  },
  {
   "cell_type": "code",
   "execution_count": 36,
   "id": "c8e77b72-504b-4d0f-b531-dbebfefa264c",
   "metadata": {},
   "outputs": [
    {
     "name": "stdout",
     "output_type": "stream",
     "text": [
      "The number37 is odd\n"
     ]
    }
   ],
   "source": [
    "def odd_or_even():\n",
    "    try:\n",
    "        import random\n",
    "        num=random.randint(1,100)\n",
    "        if (num%2==0):\n",
    "            print(\"The number {} is even number\".format(num))\n",
    "\n",
    "        else:\n",
    "            print(\"The number{} is odd\".format(num))\n",
    "\n",
    "    except exception as er:\n",
    "        print(er)\n",
    "        \n",
    "        \n",
    "odd_or_even()     \n",
    "        "
   ]
  },
  {
   "cell_type": "markdown",
   "id": "6bbcd6db-8875-473c-8412-e1777d15df38",
   "metadata": {},
   "source": [
    "$Q/N4$"
   ]
  },
  {
   "cell_type": "code",
   "execution_count": null,
   "id": "c4b1f266-e6b1-477c-8d55-9cf69897d45f",
   "metadata": {},
   "outputs": [],
   "source": [
    "def additiion():\n",
    "    x=1\n",
    "    y=2\n",
    "    print(\"addition:\",x+y)\n",
    "\n",
    "print(\"multiply function start\")\n",
    "def mul():\n",
    "    x=1\n",
    "    y=2\n",
    "    print(\"multiply:\",x*y)\n",
    "\n",
    "def sub():\n",
    "    x=1\n",
    "    y=2\n",
    "    print(\"Subtract:\",x-y)\n",
    "\n",
    "    "
   ]
  },
  {
   "cell_type": "code",
   "execution_count": 43,
   "id": "5fdaee94-20a8-43de-b000-5f757957308a",
   "metadata": {},
   "outputs": [
    {
     "name": "stdout",
     "output_type": "stream",
     "text": [
      "9\n"
     ]
    }
   ],
   "source": [
    "def add(x,y):\n",
    "    plus=x+y\n",
    "    print(plus)\n",
    "add(9,0)   "
   ]
  },
  {
   "cell_type": "code",
   "execution_count": 41,
   "id": "e2d6516b-8ab3-4b7c-baf9-83302d0a4dbc",
   "metadata": {},
   "outputs": [
    {
     "name": "stdout",
     "output_type": "stream",
     "text": [
      "9\n"
     ]
    }
   ],
   "source": [
    "add(5,4)"
   ]
  },
  {
   "cell_type": "code",
   "execution_count": 45,
   "id": "7a4dbfc5-9366-4d38-8884-aa9cb210279d",
   "metadata": {},
   "outputs": [
    {
     "ename": "TypeError",
     "evalue": "add() missing 1 required positional argument: 'y'",
     "output_type": "error",
     "traceback": [
      "\u001b[1;31m---------------------------------------------------------------------------\u001b[0m",
      "\u001b[1;31mTypeError\u001b[0m                                 Traceback (most recent call last)",
      "Cell \u001b[1;32mIn[45], line 4\u001b[0m\n\u001b[0;32m      2\u001b[0m     plus\u001b[38;5;241m=\u001b[39mx\u001b[38;5;241m+\u001b[39my\n\u001b[0;32m      3\u001b[0m     \u001b[38;5;28mprint\u001b[39m(plus)\n\u001b[1;32m----> 4\u001b[0m add(\u001b[38;5;241m9\u001b[39m)\n",
      "\u001b[1;31mTypeError\u001b[0m: add() missing 1 required positional argument: 'y'"
     ]
    }
   ],
   "source": [
    "def add(x,y):\n",
    "    plus=x+y\n",
    "    print(plus)\n",
    "add(9)   "
   ]
  },
  {
   "cell_type": "code",
   "execution_count": 49,
   "id": "d67d0110-923d-4d6b-b08a-f6d1b8ab2faf",
   "metadata": {},
   "outputs": [
    {
     "ename": "TypeError",
     "evalue": "add() takes 0 positional arguments but 2 were given",
     "output_type": "error",
     "traceback": [
      "\u001b[1;31m---------------------------------------------------------------------------\u001b[0m",
      "\u001b[1;31mTypeError\u001b[0m                                 Traceback (most recent call last)",
      "Cell \u001b[1;32mIn[49], line 4\u001b[0m\n\u001b[0;32m      2\u001b[0m     plus\u001b[38;5;241m=\u001b[39mx\u001b[38;5;241m+\u001b[39my\n\u001b[0;32m      3\u001b[0m     \u001b[38;5;28mprint\u001b[39m(plus)\n\u001b[1;32m----> 4\u001b[0m add(\u001b[38;5;241m2\u001b[39m,\u001b[38;5;241m3\u001b[39m)\n",
      "\u001b[1;31mTypeError\u001b[0m: add() takes 0 positional arguments but 2 were given"
     ]
    }
   ],
   "source": [
    "def add():\n",
    "    plus=x+y\n",
    "    print(plus)\n",
    "add(2,3)   "
   ]
  },
  {
   "cell_type": "code",
   "execution_count": null,
   "id": "d4bff6f3-b305-4b17-bd8b-77f2f9baf49f",
   "metadata": {},
   "outputs": [],
   "source": []
  },
  {
   "cell_type": "code",
   "execution_count": 55,
   "id": "7de08870-9308-4444-a503-017a1ae18552",
   "metadata": {},
   "outputs": [
    {
     "name": "stdout",
     "output_type": "stream",
     "text": [
      "x: 6\n",
      "y 8\n",
      "z: 9\n",
      "The avearge of 6,8 and 9 is 7.666666666666667\n"
     ]
    }
   ],
   "source": [
    "def average(x,y,z):\n",
    "    try:\n",
    "        print(\"x:\",x)\n",
    "        print(\"y\",y)\n",
    "        print(\"z:\",z)\n",
    "        avg=(x+y+z)/3\n",
    "        print(\"The avearge of {},{} and {} is {}\".format(x,y,z,avg))\n",
    "\n",
    "    except Exception as er:\n",
    "        print(er)\n",
    "\n",
    "average(6,8,9)\n"
   ]
  },
  {
   "cell_type": "code",
   "execution_count": 67,
   "id": "03ca5a79-c095-4072-b6db-2ed3d592534f",
   "metadata": {},
   "outputs": [
    {
     "data": {
      "text/plain": [
       "1234"
      ]
     },
     "execution_count": 67,
     "metadata": {},
     "output_type": "execute_result"
    }
   ],
   "source": [
    "num=123456\n",
    "v1=num%10\n",
    "v11=num//100\n",
    "v11\n"
   ]
  },
  {
   "cell_type": "code",
   "execution_count": 79,
   "id": "228c6777-48c7-4b5a-9514-3645da1a596d",
   "metadata": {},
   "outputs": [
    {
     "data": {
      "text/plain": [
       "1234"
      ]
     },
     "execution_count": 79,
     "metadata": {},
     "output_type": "execute_result"
    }
   ],
   "source": [
    "num=4257\n",
    "v1=num%10\n",
    "v11//100\n",
    "v11"
   ]
  },
  {
   "cell_type": "code",
   "execution_count": 5,
   "id": "9fc7ba97-eec4-4818-a148-89b137a6fbc8",
   "metadata": {},
   "outputs": [
    {
     "name": "stdout",
     "output_type": "stream",
     "text": [
      "The sqaure of 3 is 9\n"
     ]
    }
   ],
   "source": [
    "def square(num):\n",
    "    print(\"The sqaure of {} is {}\".format(num,num*num))\n",
    "\n",
    "square(3)"
   ]
  },
  {
   "cell_type": "markdown",
   "id": "ebbb3e7f-4656-41c9-8413-390646026148",
   "metadata": {},
   "source": [
    "$QN1$"
   ]
  },
  {
   "cell_type": "code",
   "execution_count": 9,
   "id": "e7d276d0-b7fc-4bca-b983-8c0e95d68fd3",
   "metadata": {},
   "outputs": [
    {
     "name": "stdin",
     "output_type": "stream",
     "text": [
      "Enter a number 2\n"
     ]
    },
    {
     "name": "stdout",
     "output_type": "stream",
     "text": [
      "You lost\n"
     ]
    }
   ],
   "source": [
    "#m1\n",
    "try:\n",
    "    import random\n",
    "    num=random.randint(1,20)\n",
    "    x=eval(input(\"Enter a number\"))\n",
    "    if num==x:\n",
    "        print(\"You won\")\n",
    "    else:\n",
    "        print(\"You lost\")\n",
    "\n",
    "except exception as er:\n",
    "    print(er)"
   ]
  },
  {
   "cell_type": "code",
   "execution_count": 13,
   "id": "be69e683-622d-47df-be74-1b8b2a9bbd7f",
   "metadata": {},
   "outputs": [
    {
     "name": "stdin",
     "output_type": "stream",
     "text": [
      "Enter a number 3\n"
     ]
    },
    {
     "name": "stdout",
     "output_type": "stream",
     "text": [
      "You lost\n"
     ]
    }
   ],
   "source": [
    "#m2\n",
    "def compare():\n",
    "    try:\n",
    "        import random\n",
    "        num=random.randint(1,20)\n",
    "        x=eval(input(\"Enter a number\"))\n",
    "        if num==x:\n",
    "            print(\"You won\")\n",
    "        else:\n",
    "            print(\"You lost\")\n",
    "\n",
    "    except exception as er:\n",
    "        print(er)\n",
    "\n",
    "compare()"
   ]
  },
  {
   "cell_type": "code",
   "execution_count": 15,
   "id": "0059c77c-f193-4c34-8719-a961131c9a7d",
   "metadata": {},
   "outputs": [
    {
     "name": "stdout",
     "output_type": "stream",
     "text": [
      "You lost\n"
     ]
    }
   ],
   "source": [
    "#m3\n",
    "def compare(x):\n",
    "    try:\n",
    "        import random\n",
    "        num=random.randint(1,20)\n",
    "        if num==x:\n",
    "            print(\"You won\")\n",
    "        else:\n",
    "            print(\"You lost\")\n",
    "\n",
    "    except exception as er:\n",
    "        print(er)\n",
    "\n",
    "compare(5)"
   ]
  },
  {
   "cell_type": "code",
   "execution_count": 34,
   "id": "c92f8a83-09b4-43a7-b55e-81d7b7cea63f",
   "metadata": {},
   "outputs": [
    {
     "name": "stdin",
     "output_type": "stream",
     "text": [
      "Enter a nun 2\n"
     ]
    },
    {
     "name": "stdout",
     "output_type": "stream",
     "text": [
      "You won\n"
     ]
    }
   ],
   "source": [
    "import random \n",
    "def compare(random_num,x):\n",
    "    if random_num==x:\n",
    "        print(\"You won\")\n",
    "\n",
    "    else:\n",
    "        print(\"Your lost cuz thw random0 num is:\",random_num)\n",
    "\n",
    "value_ran=random.randint(1,20)\n",
    "value=eval(input(\"Enter a nun\"))\n",
    "compare(value_ran,value)\n"
   ]
  },
  {
   "cell_type": "markdown",
   "id": "c8e0d025-0499-4334-b195-497289eecda0",
   "metadata": {},
   "source": [
    "$Q/N2"
   ]
  },
  {
   "cell_type": "code",
   "execution_count": 37,
   "id": "f7cd2d0d-9a65-4343-a857-139a9002244c",
   "metadata": {},
   "outputs": [
    {
     "name": "stdout",
     "output_type": "stream",
     "text": [
      "The total tax is 20000.0\n"
     ]
    }
   ],
   "source": [
    "def tax(tax_per,salary):\n",
    "    try:\n",
    "        tax=(tax_per*salary)/100\n",
    "        print(\"The total tax is\",tax)\n",
    "\n",
    "    except exception as er:\n",
    "        print(er)\n",
    "        \n",
    "tax(10,200000)"
   ]
  },
  {
   "cell_type": "code",
   "execution_count": 39,
   "id": "ff60f974-2092-4130-bb0e-ed85de42c434",
   "metadata": {},
   "outputs": [
    {
     "name": "stdin",
     "output_type": "stream",
     "text": [
      "ENter the tax percenatge 8\n",
      "Enter the salary 300000\n"
     ]
    },
    {
     "name": "stdout",
     "output_type": "stream",
     "text": [
      "The total tax is 24000.0\n"
     ]
    }
   ],
   "source": [
    "#another way\n",
    "def tax(tax_per,salary):\n",
    "    try:\n",
    "        tax=(tax_per*salary)/100\n",
    "        print(\"The total tax is\",tax)\n",
    "\n",
    "    except exception as er:\n",
    "        print(er)\n",
    "        \n",
    "x=eval(input(\"ENter the tax percenatge\"))\n",
    "y=eval(input(\"Enter the salary\"))\n",
    "tax(x,y)      #Keyboard pass"
   ]
  },
  {
   "cell_type": "code",
   "execution_count": 41,
   "id": "f63e27f3-28ea-412c-b74a-7494482f87f3",
   "metadata": {},
   "outputs": [
    {
     "name": "stdout",
     "output_type": "stream",
     "text": [
      "The total tax is 20000.0\n"
     ]
    }
   ],
   "source": [
    "def tax(tax_per,salary):\n",
    "        tax=(tax_per*salary)/100\n",
    "        print(\"The total tax is\",tax)\n",
    "         \n",
    "tax(10,200000)      #Direct pass"
   ]
  },
  {
   "cell_type": "markdown",
   "id": "b9aa5d7d-beba-4421-b6f0-f1768ca77aca",
   "metadata": {},
   "source": [
    "$$Default Parameter$$"
   ]
  },
  {
   "cell_type": "markdown",
   "id": "eade6255-23d3-4f38-ae54-e4a20e7e7638",
   "metadata": {},
   "source": [
    "Where one parameter is fixed "
   ]
  },
  {
   "cell_type": "code",
   "execution_count": 47,
   "id": "de52ce6e-d5d3-40bb-8a37-01851c51e5e3",
   "metadata": {},
   "outputs": [
    {
     "name": "stdout",
     "output_type": "stream",
     "text": [
      "num1: 2\n",
      "num2: 3\n",
      "num3: 4\n",
      "The average is: 3.0\n"
     ]
    }
   ],
   "source": [
    "#Eg\n",
    "def avg(num1,num2,num3=5):\n",
    "    print(\"num1:\",num1)\n",
    "    print(\"num2:\",num2)\n",
    "    print(\"num3:\",num3)\n",
    "    add=(num1+num2+num3)\n",
    "    avrg=add/3\n",
    "    print(\"The average is:\",avrg)\n",
    "\n",
    "avg(2,3,4)"
   ]
  },
  {
   "cell_type": "code",
   "execution_count": 49,
   "id": "6f926de2-de46-48ab-853d-777fecfd6d56",
   "metadata": {},
   "outputs": [
    {
     "ename": "SyntaxError",
     "evalue": "parameter without a default follows parameter with a default (1852521055.py, line 1)",
     "output_type": "error",
     "traceback": [
      "\u001b[1;36m  Cell \u001b[1;32mIn[49], line 1\u001b[1;36m\u001b[0m\n\u001b[1;33m    def avg(num1,num2=6,num3):\u001b[0m\n\u001b[1;37m                        ^\u001b[0m\n\u001b[1;31mSyntaxError\u001b[0m\u001b[1;31m:\u001b[0m parameter without a default follows parameter with a default\n"
     ]
    }
   ],
   "source": [
    "def avg(num1,num2=6,num3):\n",
    "    print(\"num1:\",num1)\n",
    "    print(\"num2:\",num2)\n",
    "    print(\"num3:\",num3)\n",
    "    add=(num1+num2+num3)\n",
    "    avrg=add/3\n",
    "    print(\"The average is:\",avrg)\n",
    "\n",
    "avg(2,3)"
   ]
  },
  {
   "cell_type": "code",
   "execution_count": null,
   "id": "9d239be9-f6ff-4f75-be29-664cc6c474f4",
   "metadata": {},
   "outputs": [],
   "source": []
  },
  {
   "cell_type": "markdown",
   "id": "3e46099b-c288-4bc1-aecd-098643058f41",
   "metadata": {},
   "source": [
    "$Day-18$"
   ]
  },
  {
   "cell_type": "code",
   "execution_count": 10,
   "id": "a834964c-69d9-4b51-bb35-d95f74d7c7c0",
   "metadata": {},
   "outputs": [
    {
     "name": "stdin",
     "output_type": "stream",
     "text": [
      "Enter the radius of the circle 4\n"
     ]
    },
    {
     "name": "stdout",
     "output_type": "stream",
     "text": [
      "The area of circle is 50.26548245743669\n"
     ]
    }
   ],
   "source": [
    "#program to find the area of circle\n",
    "import math\n",
    "pii=math.pi\n",
    "radius=eval(input(\"Enter the radius of the circle\"))\n",
    "area=pii*radius*radius\n",
    "print(\"The area of circle is\",area)"
   ]
  },
  {
   "cell_type": "code",
   "execution_count": 12,
   "id": "15c321ec-d2d0-4a3e-b69f-53a7c0bad5c6",
   "metadata": {},
   "outputs": [
    {
     "name": "stdin",
     "output_type": "stream",
     "text": [
      "Enter the radius of the circle 4\n"
     ]
    },
    {
     "name": "stdout",
     "output_type": "stream",
     "text": [
      "The area of circle is 50.26548245743669\n"
     ]
    }
   ],
   "source": [
    "#without arguments\n",
    "def area():\n",
    "    import math\n",
    "    pii=math.pi\n",
    "    radius=eval(input(\"Enter the radius of the circle\"))\n",
    "    area=pii*radius*radius\n",
    "    print(\"The area of circle is\",area)\n",
    "\n",
    "area()\n"
   ]
  },
  {
   "cell_type": "code",
   "execution_count": 18,
   "id": "91f6a7a2-c590-42b3-840b-3657108b85ff",
   "metadata": {},
   "outputs": [
    {
     "name": "stdout",
     "output_type": "stream",
     "text": [
      "The area of circle is 50.26548245743669\n"
     ]
    }
   ],
   "source": [
    "#with arguments #direct pass\n",
    "def area(radius):\n",
    "    import math\n",
    "    pii=math.pi\n",
    "    area=pii*radius*radius\n",
    "    print(\"The area of circle is\",area)\n",
    "area(4)"
   ]
  },
  {
   "cell_type": "code",
   "execution_count": 20,
   "id": "cec1b4c0-ef3e-46a4-a902-69a04988eed9",
   "metadata": {},
   "outputs": [
    {
     "name": "stdin",
     "output_type": "stream",
     "text": [
      "Enter the radius 4\n"
     ]
    },
    {
     "name": "stdout",
     "output_type": "stream",
     "text": [
      "The area of circle is 50.26548245743669\n"
     ]
    }
   ],
   "source": [
    "#keyboard pass\n",
    "def area(radius):\n",
    "    import math\n",
    "    pii=math.pi\n",
    "    area=pii*radius*radius\n",
    "    print(\"The area of circle is\",area)\n",
    "r=eval(input(\"Enter the radius\"))\n",
    "area(r)"
   ]
  },
  {
   "cell_type": "code",
   "execution_count": 22,
   "id": "594aa2fd-0685-4d39-9f01-ef1e5e344bff",
   "metadata": {},
   "outputs": [
    {
     "name": "stdout",
     "output_type": "stream",
     "text": [
      "The area of circle is 50.26548245743669\n"
     ]
    }
   ],
   "source": [
    "#Default arguments\n",
    "def area(radius=4):\n",
    "    import math\n",
    "    pii=math.pi\n",
    "    area=pii*radius*radius\n",
    "    print(\"The area of circle is\",area)\n",
    "area()"
   ]
  },
  {
   "cell_type": "code",
   "execution_count": 24,
   "id": "6a841ec5-c072-4147-9281-ff35ab7c7f50",
   "metadata": {},
   "outputs": [
    {
     "name": "stdout",
     "output_type": "stream",
     "text": [
      "The area of circle is 50.26548245743669\n"
     ]
    }
   ],
   "source": [
    "  def area(pii,radius=4):\n",
    "    import math\n",
    "    pii=math.pi\n",
    "    area=pii*radius*radius\n",
    "    print(\"The area of circle is\",area)\n",
    "area(3.14)"
   ]
  },
  {
   "cell_type": "code",
   "execution_count": 30,
   "id": "fc87f38b-89e1-4891-ae6f-d2a71197ce61",
   "metadata": {},
   "outputs": [
    {
     "name": "stdin",
     "output_type": "stream",
     "text": [
      "enter the radius 6\n"
     ]
    },
    {
     "name": "stdout",
     "output_type": "stream",
     "text": [
      "The area of circle is <function area at 0x0000019A7597F920>\n"
     ]
    }
   ],
   "source": [
    "def area():\n",
    "    import math\n",
    "    pii=math.pi\n",
    "    radius=eval(input(\"enter the radius\"))\n",
    "    area1=pii*radius*radius\n",
    "    print(\"The area of circle is\",area)\n",
    "area()"
   ]
  },
  {
   "cell_type": "code",
   "execution_count": 32,
   "id": "9ea097cd-c73f-4fc4-be77-80fa25fa4adb",
   "metadata": {},
   "outputs": [
    {
     "ename": "NameError",
     "evalue": "name 'area1' is not defined",
     "output_type": "error",
     "traceback": [
      "\u001b[1;31m---------------------------------------------------------------------------\u001b[0m",
      "\u001b[1;31mNameError\u001b[0m                                 Traceback (most recent call last)",
      "Cell \u001b[1;32mIn[32], line 1\u001b[0m\n\u001b[1;32m----> 1\u001b[0m area1\n",
      "\u001b[1;31mNameError\u001b[0m: name 'area1' is not defined"
     ]
    }
   ],
   "source": [
    "area1"
   ]
  },
  {
   "cell_type": "code",
   "execution_count": 39,
   "id": "0f9c8665-0226-41d3-84c9-11323ddcc9c8",
   "metadata": {},
   "outputs": [
    {
     "name": "stdin",
     "output_type": "stream",
     "text": [
      "Enter the radius 4\n"
     ]
    },
    {
     "name": "stdout",
     "output_type": "stream",
     "text": [
      "The area of circle is 50.26548245743669\n",
      "50.26548245743669\n"
     ]
    }
   ],
   "source": [
    "def area():\n",
    "    import math\n",
    "    pii=math.pi\n",
    "    radius=eval(input(\"Enter the radius\"))\n",
    "    area=pii*radius*radius\n",
    "    print(\"The area of circle is\",area)\n",
    "    return(area)\n",
    "Area=area()\n",
    "print(Area)\n"
   ]
  },
  {
   "cell_type": "code",
   "execution_count": 43,
   "id": "2643adc3-d766-4bf6-98e2-88c628cb817b",
   "metadata": {},
   "outputs": [
    {
     "name": "stdin",
     "output_type": "stream",
     "text": [
      "Enter the radius 4\n"
     ]
    },
    {
     "name": "stdout",
     "output_type": "stream",
     "text": [
      "The area of circle is 50\n",
      "50\n",
      "3.141592653589793\n"
     ]
    }
   ],
   "source": [
    "def area():\n",
    "    import math\n",
    "    pii=math.pi\n",
    "    radius=eval(input(\"Enter the radius\"))\n",
    "    area=round(pii*radius*radius)\n",
    "    print(\"The area of circle is\",area)\n",
    "    return(area,pii)\n",
    "Area,Pi=area()\n",
    "print(Area)\n",
    "print(Pi)\n"
   ]
  },
  {
   "cell_type": "markdown",
   "id": "f57a07e9-5c81-4b2f-9cb0-f6cc6528d0e2",
   "metadata": {},
   "source": [
    "$Q/N2$"
   ]
  },
  {
   "cell_type": "code",
   "execution_count": 50,
   "id": "14ff1d14-52c6-49b6-9161-c4ef44f2d728",
   "metadata": {},
   "outputs": [
    {
     "name": "stdin",
     "output_type": "stream",
     "text": [
      "enter the first number 4\n",
      "enter the second number 5\n",
      "enter the third number 5\n"
     ]
    },
    {
     "name": "stdout",
     "output_type": "stream",
     "text": [
      "Sum: 14\n",
      "Average: 4.666666666666667\n",
      "14\n",
      "4.666666666666667\n"
     ]
    }
   ],
   "source": [
    "def math():\n",
    "    num1=eval(input(\"enter the first number\"))\n",
    "    num2=eval(input(\"enter the second number\"))\n",
    "    num3=eval(input(\"enter the third number\"))\n",
    "    summ=num1+num2+num3\n",
    "    avg=summ/3\n",
    "    print(\"Sum:\",summ)\n",
    "    print(\"Average:\",avg)\n",
    "    return(summ,avg)\n",
    "\n",
    "Sum,Average=math()\n",
    "print(Sum)\n",
    "print(Average)"
   ]
  },
  {
   "cell_type": "markdown",
   "id": "114b19e2-5454-46e6-96e0-310ed5772ab6",
   "metadata": {},
   "source": [
    "$Q/N3$  #Find the largest number of 3 num"
   ]
  },
  {
   "cell_type": "code",
   "execution_count": 56,
   "id": "e80fe1eb-1103-4b60-a5df-42aafee612ba",
   "metadata": {},
   "outputs": [
    {
     "name": "stdin",
     "output_type": "stream",
     "text": [
      "enter the first number 3\n",
      "enter the second number 5\n",
      "enter the third number 6\n"
     ]
    },
    {
     "name": "stdout",
     "output_type": "stream",
     "text": [
      "Z is greater\n",
      "6\n"
     ]
    }
   ],
   "source": [
    "def largest_num():\n",
    "    x=eval(input(\"enter the first number\"))\n",
    "    y=eval(input(\"enter the second number\"))\n",
    "    z=eval(input(\"enter the third number\"))\n",
    "    if x>y and x>z:\n",
    "        print(\"X is graeter\")\n",
    "        return(x)\n",
    "    elif y>x and y>z:\n",
    "        print(\"Yis greater\")\n",
    "        return(y)\n",
    "    else:\n",
    "        print(\"Z is greater\")\n",
    "        return(z)\n",
    "Largest=largest_num()\n",
    "print(Largest)\n"
   ]
  },
  {
   "cell_type": "code",
   "execution_count": 58,
   "id": "03ad48a7-6f96-4b1d-afb7-ca3fbbfce035",
   "metadata": {},
   "outputs": [
    {
     "name": "stdout",
     "output_type": "stream",
     "text": [
      "Z is greater\n",
      "5\n"
     ]
    }
   ],
   "source": [
    "#Anotehr returning method\n",
    "def large(x,y,z):\n",
    "    if x>y and x>z:\n",
    "        print(\"X is graeter\")\n",
    "        return(x)\n",
    "    elif y>x and y>z:\n",
    "        print(\"Yis greater\")\n",
    "        return(y)\n",
    "    else:\n",
    "        print(\"Z is greater\")\n",
    "        return(z)\n",
    "\n",
    "Great=large(2,3,5)\n",
    "print(Great)\n",
    "    \n",
    "    "
   ]
  },
  {
   "cell_type": "code",
   "execution_count": 60,
   "id": "d9be1310-e84e-4b4d-94b3-4136cec83e8a",
   "metadata": {},
   "outputs": [
    {
     "name": "stdout",
     "output_type": "stream",
     "text": [
      "15 50 5 2.0\n"
     ]
    }
   ],
   "source": [
    "#another method\n",
    "def add(a,b):\n",
    "    return(a+b)\n",
    "\n",
    "#mul\n",
    "def mul(a,b):\n",
    "    return(a*b)\n",
    "\n",
    "#sub\n",
    "def sub(a,b):\n",
    "    return(a-b)\n",
    "\n",
    "#div\n",
    "def div(a,b):\n",
    "    return(a/b)\n",
    "\n",
    "val_add=add(10,5)\n",
    "val_mul=mul(10,5)\n",
    "val_sub=sub(10,5)\n",
    "val_div=div(10,5)\n",
    "print(val_add,val_mul,val_sub,val_div)"
   ]
  },
  {
   "cell_type": "code",
   "execution_count": 62,
   "id": "2a89c6c7-ea0b-46ab-a70a-a63988e22a0c",
   "metadata": {},
   "outputs": [
    {
     "name": "stdout",
     "output_type": "stream",
     "text": [
      "15 5 50 2.0\n"
     ]
    }
   ],
   "source": [
    "#another method\n",
    "def aggregation(a,b):\n",
    "    return(a+b,a-b,a*b,a/b)\n",
    "\n",
    "add,sub,mul,div=aggregation(10,5)\n",
    "print(add,sub,mul,div)"
   ]
  },
  {
   "cell_type": "code",
   "execution_count": 66,
   "id": "2ad509a1-db97-451e-960c-dc551e6a51c4",
   "metadata": {},
   "outputs": [
    {
     "ename": "ValueError",
     "evalue": "too many values to unpack (expected 2)",
     "output_type": "error",
     "traceback": [
      "\u001b[1;31m---------------------------------------------------------------------------\u001b[0m",
      "\u001b[1;31mValueError\u001b[0m                                Traceback (most recent call last)",
      "Cell \u001b[1;32mIn[66], line 4\u001b[0m\n\u001b[0;32m      1\u001b[0m \u001b[38;5;28;01mdef\u001b[39;00m \u001b[38;5;21maggregation\u001b[39m(a,b):\n\u001b[0;32m      2\u001b[0m     \u001b[38;5;28;01mreturn\u001b[39;00m(a\u001b[38;5;241m+\u001b[39mb,a\u001b[38;5;241m-\u001b[39mb,a\u001b[38;5;241m*\u001b[39mb,a\u001b[38;5;241m/\u001b[39mb)\n\u001b[1;32m----> 4\u001b[0m val,y\u001b[38;5;241m=\u001b[39maggregation(\u001b[38;5;241m10\u001b[39m,\u001b[38;5;241m5\u001b[39m)\n\u001b[0;32m      5\u001b[0m \u001b[38;5;28mprint\u001b[39m(val,y)\n",
      "\u001b[1;31mValueError\u001b[0m: too many values to unpack (expected 2)"
     ]
    }
   ],
   "source": [
    "#another one\n",
    "def aggregation(a,b):\n",
    "    return(a+b,a-b,a*b,a/b)\n",
    "\n",
    "val,y=aggregation(10,5)\n",
    "print(val,y)"
   ]
  },
  {
   "cell_type": "code",
   "execution_count": null,
   "id": "a0f31d41-17cf-411b-a9e5-e3e076c9002b",
   "metadata": {},
   "outputs": [],
   "source": []
  },
  {
   "cell_type": "code",
   "execution_count": null,
   "id": "6d452728-b589-4eaa-9d94-aa617caecfd4",
   "metadata": {},
   "outputs": [],
   "source": []
  },
  {
   "cell_type": "code",
   "execution_count": null,
   "id": "65ba4766-6c61-4528-a5e9-345b69c5f988",
   "metadata": {},
   "outputs": [],
   "source": []
  },
  {
   "cell_type": "code",
   "execution_count": null,
   "id": "b4a179d5-0bfc-4b33-a9aa-921cc6e158af",
   "metadata": {},
   "outputs": [],
   "source": []
  }
 ],
 "metadata": {
  "kernelspec": {
   "display_name": "Python [conda env:base] *",
   "language": "python",
   "name": "conda-base-py"
  },
  "language_info": {
   "codemirror_mode": {
    "name": "ipython",
    "version": 3
   },
   "file_extension": ".py",
   "mimetype": "text/x-python",
   "name": "python",
   "nbconvert_exporter": "python",
   "pygments_lexer": "ipython3",
   "version": "3.12.7"
  }
 },
 "nbformat": 4,
 "nbformat_minor": 5
}
