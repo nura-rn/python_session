{
 "cells": [
  {
   "cell_type": "code",
   "execution_count": 1,
   "id": "d8dc8461-3729-4509-82b7-972abcac390d",
   "metadata": {},
   "outputs": [
    {
     "name": "stdout",
     "output_type": "stream",
     "text": [
      "38\n"
     ]
    }
   ],
   "source": [
    "try:\n",
    "    num1=10\n",
    "    num2=23\n",
    "    num3=5\n",
    "    add=num1+num2+num3\n",
    "    print(add)\n",
    "\n",
    "except:\n",
    "    print(\"error is there , check the code\")"
   ]
  },
  {
   "cell_type": "code",
   "execution_count": 3,
   "id": "6d59fdc2-db73-4c3e-bdb4-bbeaddfe4608",
   "metadata": {},
   "outputs": [
    {
     "name": "stdout",
     "output_type": "stream",
     "text": [
      "error is there , check the code\n"
     ]
    }
   ],
   "source": [
    "try:\n",
    "    num1=10\n",
    "    num2=0\n",
    "    num3=5\n",
    "    division=num1/num2\n",
    "    print(add)\n",
    "\n",
    "except:\n",
    "    print(\"error is there , check the code\")"
   ]
  },
  {
   "cell_type": "code",
   "execution_count": 5,
   "id": "f2835457-26b6-4986-9e07-65837de04fd9",
   "metadata": {},
   "outputs": [
    {
     "name": "stdin",
     "output_type": "stream",
     "text": [
      "Enter the first number 2\n",
      "Enter the second number 3\n",
      "Enter the third number 5\n"
     ]
    },
    {
     "name": "stdout",
     "output_type": "stream",
     "text": [
      "The average of 2,3 and5 is 3.3333333333333335\n"
     ]
    }
   ],
   "source": [
    "#WAP ask the user enter 3 numbers and find the average\n",
    "x=eval(input(\"Enter the first number\"))\n",
    "y=eval(input(\"Enter the second number\"))\n",
    "z=eval(input(\"Enter the third number\"))\n",
    "avg=(x+y+z)/3\n",
    "print(\"The average of {},{} and {} is {}\".format(x,y,z,avg))"
   ]
  },
  {
   "cell_type": "code",
   "execution_count": 7,
   "id": "9c2344e0-d764-4fae-b24c-cceddb058505",
   "metadata": {},
   "outputs": [
    {
     "name": "stdin",
     "output_type": "stream",
     "text": [
      "Enter the first number 5\n",
      "Enter the second number 5\n",
      "Enter the third number 5\n"
     ]
    },
    {
     "name": "stdout",
     "output_type": "stream",
     "text": [
      "Check the code properly\n"
     ]
    }
   ],
   "source": [
    "try:\n",
    "    x=eval(input(\"Enter the first number\"))\n",
    "    y=eval(input(\"Enter the second number\"))\n",
    "    z=eval(input(\"Enter the third number\"))\n",
    "    avg=(x+y+zaa)/3\n",
    "    print(\"The average of {},{} and {} is {}\".format(x,y,z,avg))\n",
    "\n",
    "except:\n",
    "    print(\"Check the code properly\")\n",
    "    \n",
    "#error-1:name_error"
   ]
  },
  {
   "cell_type": "code",
   "execution_count": 11,
   "id": "a9f6e3aa-f873-4276-a694-ba685c1fd225",
   "metadata": {},
   "outputs": [
    {
     "name": "stdin",
     "output_type": "stream",
     "text": [
      "Enter the first number 2\n",
      "Enter the second number 3\n",
      "Enter the third number 2\n"
     ]
    },
    {
     "name": "stdout",
     "output_type": "stream",
     "text": [
      "name 'zaa' is not defined\n"
     ]
    }
   ],
   "source": [
    "try:\n",
    "    x=eval(input(\"Enter the first number\"))\n",
    "    y=eval(input(\"Enter the second number\"))\n",
    "    z=eval(input(\"Enter the third number\"))\n",
    "    avg=(x+y+zaa)/3\n",
    "    print(\"The average of {},{} and {} is {}\".format(x,y,z,avg))\n",
    "\n",
    "except Exception as er:\n",
    "    print(er)\n",
    "\n",
    "\n",
    "    \n",
    "    "
   ]
  },
  {
   "cell_type": "code",
   "execution_count": 23,
   "id": "62ac71d6-3e56-4e5a-83ca-e74743d7231d",
   "metadata": {},
   "outputs": [
    {
     "name": "stdin",
     "output_type": "stream",
     "text": [
      "Enter a number: 4\n"
     ]
    },
    {
     "name": "stdout",
     "output_type": "stream",
     "text": [
      "name 'numm' is not defined\n",
      "Hello\n"
     ]
    }
   ],
   "source": [
    "#WAP ask the user enter a number and find the square of the number\n",
    "try:\n",
    "    num=eval(input(\"Enter a number:\"))\n",
    "    square=num*numm\n",
    "    print(\"The square of {} is {}\".format(num,square))\n",
    "\n",
    "except Exception as er:\n",
    "    print(er)\n",
    "    print(\"Hello\")\n"
   ]
  },
  {
   "cell_type": "code",
   "execution_count": 27,
   "id": "08a3a702-dca5-4415-8b5f-f69acd15479f",
   "metadata": {},
   "outputs": [
    {
     "name": "stdin",
     "output_type": "stream",
     "text": [
      "Enter a number: 9\n"
     ]
    },
    {
     "name": "stdout",
     "output_type": "stream",
     "text": [
      "name 'numm' is not defined\n",
      "Nura\n",
      "The Unstoppable\n",
      "Hello\n",
      "AMY\n",
      "SHATTY\n",
      "10\n"
     ]
    }
   ],
   "source": [
    "try:\n",
    "    num=eval(input(\"Enter a number:\"))\n",
    "    square=num*numm\n",
    "    print(\"The square of {} is {}\".format(num,square))\n",
    "\n",
    "except Exception as er:\n",
    "    print(er)\n",
    "    print(\"Nura\")\n",
    "    print(\"The Unstoppable\")\n",
    "    print(\"Hello\")\n",
    "\n",
    "print('AMY')\n",
    "print('SHATTY')\n",
    "print(10)\n",
    "\n",
    "\n"
   ]
  },
  {
   "cell_type": "markdown",
   "id": "8a69cb0f-6921-4450-9993-80f28ed1946f",
   "metadata": {},
   "source": [
    "$Only try block content is printed$"
   ]
  },
  {
   "cell_type": "code",
   "execution_count": 34,
   "id": "45951738-d9dc-4f62-a0d1-d64d9249570b",
   "metadata": {},
   "outputs": [
    {
     "name": "stdout",
     "output_type": "stream",
     "text": [
      "=============\n",
      "9\n",
      "$$$$$$$$$$$$$$$$$$$$$$\n"
     ]
    },
    {
     "name": "stdin",
     "output_type": "stream",
     "text": [
      "Enter a number: 8\n"
     ]
    },
    {
     "name": "stdout",
     "output_type": "stream",
     "text": [
      "name 'numm' is not defined\n",
      "Hello\n",
      "AMY\n",
      "SHATTY\n",
      "10\n"
     ]
    }
   ],
   "source": [
    "print(\"=============\")\n",
    "print(3+6)\n",
    "print('$$$$$$$$$$$$$$$$$$$$$$')\n",
    "try:\n",
    "    num=eval(input(\"Enter a number:\"))\n",
    "    square=num*numm\n",
    "    print(\"The square of {} is {}\".format(num,square))\n",
    "\n",
    "except Exception as er:\n",
    "    print(er)\n",
    "    print(\"Hello\")\n",
    "\n",
    "print('AMY')\n",
    "print('SHATTY')\n",
    "print(10)"
   ]
  },
  {
   "cell_type": "code",
   "execution_count": null,
   "id": "40486109-850c-46b8-b4f6-66aafcdb9e62",
   "metadata": {},
   "outputs": [],
   "source": []
  },
  {
   "cell_type": "code",
   "execution_count": null,
   "id": "7fb91e56-ef18-4d3c-9601-712df0c9ae44",
   "metadata": {},
   "outputs": [],
   "source": []
  },
  {
   "cell_type": "code",
   "execution_count": null,
   "id": "bcfcf000-518b-4cb0-8b10-32ce1657bca6",
   "metadata": {},
   "outputs": [],
   "source": []
  },
  {
   "cell_type": "code",
   "execution_count": null,
   "id": "9db61343-9444-4faf-bc9d-69c91ad97438",
   "metadata": {},
   "outputs": [],
   "source": []
  }
 ],
 "metadata": {
  "kernelspec": {
   "display_name": "Python [conda env:base] *",
   "language": "python",
   "name": "conda-base-py"
  },
  "language_info": {
   "codemirror_mode": {
    "name": "ipython",
    "version": 3
   },
   "file_extension": ".py",
   "mimetype": "text/x-python",
   "name": "python",
   "nbconvert_exporter": "python",
   "pygments_lexer": "ipython3",
   "version": "3.12.7"
  }
 },
 "nbformat": 4,
 "nbformat_minor": 5
}
