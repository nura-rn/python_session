{
 "cells": [
  {
   "cell_type": "markdown",
   "id": "2944734f-a3d7-4720-9171-d88a74e0c6a4",
   "metadata": {},
   "source": [
    "$Conditional Statements$"
   ]
  },
  {
   "cell_type": "code",
   "execution_count": 6,
   "id": "6f018a6a-f9f1-429a-ad1c-79982ea0d477",
   "metadata": {},
   "outputs": [
    {
     "name": "stdout",
     "output_type": "stream",
     "text": [
      "bad\n"
     ]
    }
   ],
   "source": [
    "name=\"nur\"\n",
    "if name=='nura':\n",
    "    print('good')\n",
    "else:\n",
    "    print('bad')"
   ]
  },
  {
   "cell_type": "code",
   "execution_count": 3,
   "id": "f0d8611c-b5e9-4609-ac23-7b07ba43ed59",
   "metadata": {},
   "outputs": [
    {
     "name": "stdout",
     "output_type": "stream",
     "text": [
      "Hello\n",
      "10\n"
     ]
    },
    {
     "name": "stdin",
     "output_type": "stream",
     "text": [
      "Enter the first num. 5\n",
      "Enter the second num. 5\n"
     ]
    },
    {
     "name": "stdout",
     "output_type": "stream",
     "text": [
      "This is True case\n",
      "We are doing addition operation\n",
      "The addition of 5 and 5 is: 10\n",
      "I'm doing great\n",
      "multiplication: 25\n",
      "Good Job!!!\n"
     ]
    }
   ],
   "source": [
    "print('Hello')\n",
    "print('10')\n",
    "x=eval(input(\"Enter the first num.\"))\n",
    "y=eval(input(\"Enter the second num.\"))\n",
    "if x==y:\n",
    "    print(\"This is True case\")\n",
    "    print(\"We are doing addition operation\")\n",
    "    print(\"The addition of {} and {} is: {}\".format(x,y,x+y))\n",
    "    print(\"I'm doing great\")\n",
    "\n",
    "else:\n",
    "    print(\"Wrong Block\")\n",
    "    print(\"We'll be doing subtraction\")\n",
    "    print(\"The subtraction of {} and {} is: {}\".format(x,y,x-y))\n",
    "\n",
    "multiplication=x*y\n",
    "print('multiplication:',multiplication)\n",
    "print(\"Good Job!!!\")\n",
    "\n",
    "\n",
    "    \n"
   ]
  },
  {
   "cell_type": "markdown",
   "id": "1c2f5412-82f8-4d15-879a-398fdd0ca17a",
   "metadata": {},
   "source": [
    "$***QN1***$"
   ]
  },
  {
   "cell_type": "code",
   "execution_count": 24,
   "id": "a4000867-b6a6-4132-8662-f61c52bef0ab",
   "metadata": {},
   "outputs": [
    {
     "name": "stdin",
     "output_type": "stream",
     "text": [
      "Enter a number 67\n"
     ]
    },
    {
     "name": "stdout",
     "output_type": "stream",
     "text": [
      "The number is odd\n"
     ]
    }
   ],
   "source": [
    "x=eval(input(\"Enter a number\"))\n",
    "if (x%2==0):\n",
    "    print(\"The number is even\")\n",
    "\n",
    "else:\n",
    "    print(\"The number is odd\")"
   ]
  },
  {
   "cell_type": "code",
   "execution_count": 26,
   "id": "ceaab820-057f-4daa-bffd-892255d21134",
   "metadata": {},
   "outputs": [
    {
     "name": "stdin",
     "output_type": "stream",
     "text": [
      "Enter a number 45\n"
     ]
    },
    {
     "name": "stdout",
     "output_type": "stream",
     "text": [
      "The number is odd\n"
     ]
    }
   ],
   "source": [
    "try:\n",
    "    x=eval(input(\"Enter a number\"))\n",
    "    if (x%2==0):\n",
    "        print(\"The number is even\")\n",
    "\n",
    "    else:\n",
    "        print(\"The number is odd\")\n",
    "\n",
    "except Exception as e:\n",
    "    print(e)"
   ]
  },
  {
   "cell_type": "markdown",
   "id": "4d9c5aa7-17cc-428c-a780-fbd6a374a20d",
   "metadata": {},
   "source": [
    "$***Qn2****$ #importing random"
   ]
  },
  {
   "cell_type": "code",
   "execution_count": 51,
   "id": "937f3ef5-8f19-4823-9252-43a935048452",
   "metadata": {},
   "outputs": [
    {
     "name": "stdout",
     "output_type": "stream",
     "text": [
      "The number 13 is odd\n"
     ]
    }
   ],
   "source": [
    "try:\n",
    "    import random\n",
    "    x=random.randint(1,50)\n",
    "    \n",
    "    if (x%2==0):\n",
    "        print(\"The number{} is even\".format(x))\n",
    "    \n",
    "    else:\n",
    "        print(\"The number {} is odd\". format(x))\n",
    "\n",
    "except Exception as e:\n",
    "    print(e)\n"
   ]
  },
  {
   "cell_type": "markdown",
   "id": "672154df-3850-45ea-b812-1d8d9698b36d",
   "metadata": {},
   "source": [
    "$***QN3***$  #checking number between 10 to  99"
   ]
  },
  {
   "cell_type": "code",
   "execution_count": 49,
   "id": "f1d40530-8420-41c1-b546-0e930a0d74a7",
   "metadata": {},
   "outputs": [
    {
     "name": "stdout",
     "output_type": "stream",
     "text": [
      "The random number 24 is correct\n"
     ]
    }
   ],
   "source": [
    "try:\n",
    "    import random\n",
    "    y=random.randint(1,200)\n",
    "    \n",
    "    if y>=10 and y<99:\n",
    "        print(\"The random number {} is correct\".format(y))\n",
    "    \n",
    "    else:\n",
    "        print(\"Your number {} is wrong\".format(y))\n",
    "\n",
    "except Exception as eer:\n",
    "    print(eer)"
   ]
  },
  {
   "cell_type": "markdown",
   "id": "97ea436c-fff1-4b01-b439-0a99e1be3467",
   "metadata": {},
   "source": [
    "$****QN4****$ "
   ]
  },
  {
   "cell_type": "code",
   "execution_count": 54,
   "id": "488a825f-d694-412c-894f-14d781d15a5d",
   "metadata": {},
   "outputs": [
    {
     "name": "stdin",
     "output_type": "stream",
     "text": [
      "Enter a number 7\n"
     ]
    },
    {
     "name": "stdout",
     "output_type": "stream",
     "text": [
      "It is a positive number\n"
     ]
    }
   ],
   "source": [
    "try:\n",
    "    num=eval(input(\"Enter a number\"))\n",
    "    if num>=0:\n",
    "        print(\"It is a positive number\")\n",
    "    else:\n",
    "        print(\"It is a negative number\")\n",
    "\n",
    "except Exception as er:\n",
    "    print(er)\n"
   ]
  },
  {
   "cell_type": "markdown",
   "id": "6c5e0b70-5bec-4204-bf89-a4a98084c458",
   "metadata": {},
   "source": [
    "$***QN5****$ #if, elif and else"
   ]
  },
  {
   "cell_type": "code",
   "execution_count": 56,
   "id": "a9120c78-1b2d-45f8-9d0e-c16a1b8912d5",
   "metadata": {},
   "outputs": [
    {
     "name": "stdin",
     "output_type": "stream",
     "text": [
      "Enter a number 7\n"
     ]
    },
    {
     "name": "stdout",
     "output_type": "stream",
     "text": [
      "It is a positive number\n"
     ]
    }
   ],
   "source": [
    "try:\n",
    "    num=eval(input(\"Enter a number\"))\n",
    "    if num>0:\n",
    "        print(\"It is a positive number\")\n",
    "    elif num<0:\n",
    "        print(\"It is a negative number\")\n",
    "    else:\n",
    "        print(\"The number is 0\")\n",
    "            \n",
    "\n",
    "except Exception as er:\n",
    "    print(er)\n"
   ]
  },
  {
   "cell_type": "markdown",
   "id": "3ac71dc6-6af4-4608-91c3-82cb57139e4a",
   "metadata": {},
   "source": [
    "$***QN6***$ #percentage "
   ]
  },
  {
   "cell_type": "code",
   "execution_count": 66,
   "id": "2b543db4-b0a0-4ca9-bbaf-79f0fa8880d6",
   "metadata": {},
   "outputs": [
    {
     "name": "stdin",
     "output_type": "stream",
     "text": [
      "Enter the percenatge of total marks: 76\n"
     ]
    },
    {
     "name": "stdout",
     "output_type": "stream",
     "text": [
      "Great Job, Grade:B\n"
     ]
    }
   ],
   "source": [
    "try:\n",
    "    percentage=eval(input(\"Enter the percenatge of total marks:\"))\n",
    "    if percentage>=90:\n",
    "        print(\"Outstanding!!! Grade:A\")\n",
    "    elif percentage>=70:\n",
    "        print(\"Great Job, Grade:B\")\n",
    "    elif percentage>=50:\n",
    "        print(\"Good, Grade:C\")\n",
    "    else:\n",
    "        print(\"Try hard, Grade:D\")\n",
    "\n",
    "except Exception as error:\n",
    "    print(error)"
   ]
  },
  {
   "cell_type": "markdown",
   "id": "49448eca-48f9-4d40-b765-ba46d48e57bf",
   "metadata": {},
   "source": [
    "$*****QN7****$\n"
   ]
  },
  {
   "cell_type": "code",
   "execution_count": 69,
   "id": "8a7471d5-ce8f-46bd-9e83-a407f4ed6a8b",
   "metadata": {},
   "outputs": [
    {
     "name": "stdin",
     "output_type": "stream",
     "text": [
      "Enter your age 102\n"
     ]
    },
    {
     "name": "stdout",
     "output_type": "stream",
     "text": [
      "Probably ghost\n"
     ]
    }
   ],
   "source": [
    "try:\n",
    "    age=eval(input(\"Enter your age\"))\n",
    "    if age>100:\n",
    "        print(\"Probably ghost\")\n",
    "    elif age>=60:\n",
    "        print(\"You are Senior Citizen.\")\n",
    "    elif age>=45:\n",
    "        print(\"You are aged \")\n",
    "    elif age>30:\n",
    "        print(\"Your are middle age.\")\n",
    "    elif age >=19:\n",
    "        print(\"You are teenage.\")\n",
    "    else:\n",
    "        print(\"You are child\")\n",
    "\n",
    "except Exception as er:\n",
    "    print(er)\n",
    "    "
   ]
  },
  {
   "cell_type": "markdown",
   "id": "defdcd99-345e-4f85-90eb-24afd185dfdc",
   "metadata": {},
   "source": [
    "DAY-15"
   ]
  },
  {
   "cell_type": "markdown",
   "id": "3e807b16-83a7-432f-9441-7da7c3d8911d",
   "metadata": {},
   "source": [
    "Q/N.1"
   ]
  },
  {
   "cell_type": "code",
   "execution_count": 7,
   "id": "a188337c-a13f-450b-a5e9-4beeaf169210",
   "metadata": {},
   "outputs": [
    {
     "name": "stdin",
     "output_type": "stream",
     "text": [
      "Enter the distance in km: 8\n"
     ]
    },
    {
     "name": "stdout",
     "output_type": "stream",
     "text": [
      "Total charge is rs.70\n"
     ]
    }
   ],
   "source": [
    "try:\n",
    "    dis=eval(input(\"Enter the distance in km:\"))\n",
    "    if dis>=10:\n",
    "        print(\"Total charge is rs.100\")\n",
    "    elif dis>=7:\n",
    "        print(\"Total charge is rs.70\")\n",
    "    elif dis>=4:\n",
    "        print(\"Total charge is Rs.40\")\n",
    "    else:\n",
    "        print(\"30Rs\")\n",
    "\n",
    "except Exception as e:\n",
    "    print(e)"
   ]
  },
  {
   "cell_type": "markdown",
   "id": "7402335e-1834-4d7d-bfeb-ef2926f07485",
   "metadata": {},
   "source": [
    "Q/N2"
   ]
  },
  {
   "cell_type": "code",
   "execution_count": 12,
   "id": "e9fab194-e30d-4ad6-b015-1a81a565aa5c",
   "metadata": {},
   "outputs": [
    {
     "name": "stdin",
     "output_type": "stream",
     "text": [
      "Enter your total salary: 600000\n",
      "Enter tax percentage. 2.5\n"
     ]
    },
    {
     "name": "stdout",
     "output_type": "stream",
     "text": [
      "The amount of tax you should pay is 15000.0\n"
     ]
    }
   ],
   "source": [
    "try:\n",
    "    salary=eval(input(\"Enter your total salary:\"))\n",
    "    if salary>=1000000:\n",
    "        tax_per=eval(input(\"Enter tax percentage.\"))\n",
    "        print(\"The amount of tax you should pay is\",(salary*tax_per)/100)\n",
    "    \n",
    "    elif salary>=700000:\n",
    "        tax_per=eval(input(\"Enter tax percentage.\"))\n",
    "        print(\"The amount of tax you should pay is\",(salary*tax_per)/100)\n",
    "    \n",
    "    elif salary>=400000:\n",
    "        tax_per=eval(input(\"Enter tax percentage.\"))\n",
    "        print(\"The amount of tax you should pay is\",(salary*tax_per)/100)\n",
    "        \n",
    "    else:\n",
    "        print(\"No tax required\")\n",
    "\n",
    "except Exception as er:\n",
    "    print(er)"
   ]
  },
  {
   "cell_type": "markdown",
   "id": "fa3b3561-2625-4c3c-949f-022938632920",
   "metadata": {},
   "source": [
    "Q/N3"
   ]
  },
  {
   "cell_type": "code",
   "execution_count": 21,
   "id": "3739c44f-2c9d-4f38-b49e-22a75389f5c4",
   "metadata": {},
   "outputs": [
    {
     "name": "stdin",
     "output_type": "stream",
     "text": [
      "ENter the operation you wanna perform: Multiplication\n",
      "Enter first number 8\n",
      "ENter second number 8\n"
     ]
    },
    {
     "name": "stdout",
     "output_type": "stream",
     "text": [
      "Lets do multiplication\n",
      "The Multiplication of 8 and 8 is 64\n"
     ]
    }
   ],
   "source": [
    "try:\n",
    "    choice=input(\"ENter the operation you wanna perform:\")\n",
    "    x=eval(input(\"Enter first number\"))\n",
    "    y=eval(input(\"ENter second number\"))\n",
    "    if choice== 'Addition':\n",
    "        print(\"Lets add\")\n",
    "        print(\"The Additon of {} and {} is {}\". format(x,y,x+y))\n",
    "    elif choice== 'Multiplication':\n",
    "        print(\"Lets do multiplication\")\n",
    "        print(\"The Multiplication of {} and {} is {}\". format(x,y,x*y))\n",
    "\n",
    "    elif choice=='Subtraction':\n",
    "        print(\"Lets subtract\")\n",
    "        print(\"The Subtraction of {} and {} is {}\". format(x,y,x-y))\n",
    "\n",
    "    elif choice=='Division':\n",
    "        print(\"Lets divide\")\n",
    "        print(\"The division of {} and {} is {}\". format(x,y,x/y))\n",
    "\n",
    "    else:\n",
    "        print(\"Provide suitable condtion\")\n",
    "\n",
    "except Exception as error:\n",
    "    print(error)\n",
    "        \n",
    "    \n",
    "        \n",
    "    "
   ]
  },
  {
   "cell_type": "markdown",
   "id": "c61c82ce-74fb-4ccd-9813-19a21e88fb4c",
   "metadata": {},
   "source": [
    "$Nested   If-else$"
   ]
  },
  {
   "cell_type": "markdown",
   "id": "e95f81b7-cc63-4c43-aa95-bf5157a6372d",
   "metadata": {},
   "source": [
    "$Q/N4$"
   ]
  },
  {
   "cell_type": "code",
   "execution_count": 30,
   "id": "f044fae1-fc92-4d7d-8ded-3630f1a299dc",
   "metadata": {},
   "outputs": [
    {
     "name": "stdin",
     "output_type": "stream",
     "text": [
      "Enter a number 0\n"
     ]
    },
    {
     "name": "stdout",
     "output_type": "stream",
     "text": [
      "The number is zero\n"
     ]
    }
   ],
   "source": [
    "try:\n",
    "    x=eval(input(\"Enter a number\"))\n",
    "    if x>=0:\n",
    "        if x==0:\n",
    "            print(\"The number is zero\")\n",
    "        else:\n",
    "            print(\"The number is positive\")\n",
    "    else:\n",
    "        print(\"The number is negative\")\n",
    "\n",
    "except Exception as e:\n",
    "    print(e)"
   ]
  },
  {
   "cell_type": "markdown",
   "id": "83ec8e3d-558d-4b52-88ca-e33ba1b61d6d",
   "metadata": {},
   "source": [
    "$Q/N5$"
   ]
  },
  {
   "cell_type": "code",
   "execution_count": 37,
   "id": "da09473a-f61d-4fc0-8056-192b8ae97248",
   "metadata": {},
   "outputs": [
    {
     "name": "stdin",
     "output_type": "stream",
     "text": [
      "Enter your gender; male\n",
      "Enter your age 90\n"
     ]
    },
    {
     "name": "stdout",
     "output_type": "stream",
     "text": [
      "Old man\n"
     ]
    }
   ],
   "source": [
    "try:\n",
    "    gender=input(\"Enter your gender;\")\n",
    "    if gender=='male':\n",
    "        age=eval(input(\"Enter your age\"))\n",
    "        if age>=60:\n",
    "            print(\"Old man\")\n",
    "        elif age>=30:\n",
    "            print(\"Middle age\")\n",
    "        elif age>=19:\n",
    "            print(\"Young people\")\n",
    "        elif age>=13:\n",
    "            print(\"Pretty teenage\")\n",
    "        else:\n",
    "            print(\"Child\")\n",
    "\n",
    "    elif gender=='female':\n",
    "        age=eval(input(\"Enter your age\"))\n",
    "        if age>=60:\n",
    "            print(\"Old woman\")\n",
    "        elif age>=30:\n",
    "            print(\"Middle age\")\n",
    "        elif age>=19:\n",
    "            print(\"Young people\")\n",
    "        elif age>=13:\n",
    "            print(\"Pretty teenage girl\")\n",
    "        else:\n",
    "            print(\"Child \")\n",
    "        \n",
    "    else:\n",
    "        print(\"Enter proper gender\")\n",
    "\n",
    "except Exception as er:\n",
    "    print(er)"
   ]
  },
  {
   "cell_type": "markdown",
   "id": "6766a7d1-0099-4760-800f-e6dee0053dd9",
   "metadata": {},
   "source": [
    "$ Q/N 6$"
   ]
  },
  {
   "cell_type": "code",
   "execution_count": 40,
   "id": "b3229aa5-7115-4eda-bd83-ab74ee843d55",
   "metadata": {},
   "outputs": [
    {
     "name": "stdin",
     "output_type": "stream",
     "text": [
      "Enter first umber 7\n",
      "Enter second number 8\n",
      "Enter third number 5\n"
     ]
    },
    {
     "name": "stdout",
     "output_type": "stream",
     "text": [
      "8 is the biggest number.\n"
     ]
    }
   ],
   "source": [
    "x=eval(input(\"Enter first umber\"))\n",
    "y=eval(input(\"Enter second number\"))\n",
    "z=eval(input(\"Enter third number\"))\n",
    "if x>y and x>z:\n",
    "    print(\"{} is the biggest number\".format(x))\n",
    "\n",
    "elif y>x and y>z:\n",
    "    print(\"{} is the biggest number.\".format(y))\n",
    "\n",
    "elif z>x and z>y:\n",
    "    print(\"{} is the biggest number.\".format(z))\n",
    "\n",
    "else:\n",
    "    print(\"Wrong number\")"
   ]
  },
  {
   "cell_type": "code",
   "execution_count": null,
   "id": "5772dc12-3ece-479c-8802-63299272aee0",
   "metadata": {},
   "outputs": [],
   "source": []
  },
  {
   "cell_type": "code",
   "execution_count": null,
   "id": "17a14908-3456-4404-b085-6232e4c985be",
   "metadata": {},
   "outputs": [],
   "source": []
  },
  {
   "cell_type": "code",
   "execution_count": null,
   "id": "f707165a-f556-4349-94f0-406c8bf3596e",
   "metadata": {},
   "outputs": [],
   "source": []
  },
  {
   "cell_type": "code",
   "execution_count": null,
   "id": "e1894926-bf1d-4ce4-92cf-4f8ab6b72cae",
   "metadata": {},
   "outputs": [],
   "source": []
  }
 ],
 "metadata": {
  "kernelspec": {
   "display_name": "Python [conda env:base] *",
   "language": "python",
   "name": "conda-base-py"
  },
  "language_info": {
   "codemirror_mode": {
    "name": "ipython",
    "version": 3
   },
   "file_extension": ".py",
   "mimetype": "text/x-python",
   "name": "python",
   "nbconvert_exporter": "python",
   "pygments_lexer": "ipython3",
   "version": "3.12.7"
  }
 },
 "nbformat": 4,
 "nbformat_minor": 5
}
