{
 "cells": [
  {
   "cell_type": "markdown",
   "id": "8fbe0ed5-086e-4d3b-895f-ee3c79db2aa9",
   "metadata": {},
   "source": [
    "$$LIST==Array   of  elements$$"
   ]
  },
  {
   "cell_type": "code",
   "execution_count": 3,
   "id": "440754e2-39f5-49cb-a94b-da31fc654af0",
   "metadata": {},
   "outputs": [
    {
     "data": {
      "text/plain": [
       "['1', '2', '3', '4']"
      ]
     },
     "execution_count": 3,
     "metadata": {},
     "output_type": "execute_result"
    }
   ],
   "source": [
    "list1=['1','2','3','4']\n",
    "list1"
   ]
  },
  {
   "cell_type": "code",
   "execution_count": 9,
   "id": "e2e1163d-015d-4df3-8bb2-d6e2c73b9bd5",
   "metadata": {},
   "outputs": [
    {
     "data": {
      "text/plain": [
       "list"
      ]
     },
     "execution_count": 9,
     "metadata": {},
     "output_type": "execute_result"
    }
   ],
   "source": [
    "type(list1)"
   ]
  },
  {
   "cell_type": "code",
   "execution_count": 15,
   "id": "16fe40e2-acfa-4d93-80d3-f04ecf558253",
   "metadata": {},
   "outputs": [
    {
     "data": {
      "text/plain": [
       "['Hello', 'you']"
      ]
     },
     "execution_count": 15,
     "metadata": {},
     "output_type": "execute_result"
    }
   ],
   "source": [
    "list2=['Hello','you']\n",
    "list2"
   ]
  },
  {
   "cell_type": "code",
   "execution_count": 17,
   "id": "3d037179-d8f2-41a5-bd89-62223569b060",
   "metadata": {},
   "outputs": [
    {
     "data": {
      "text/plain": [
       "['1', 'h', '2', '3', 't']"
      ]
     },
     "execution_count": 17,
     "metadata": {},
     "output_type": "execute_result"
    }
   ],
   "source": [
    "list3=['1','h','2','3','t']\n",
    "list3"
   ]
  },
  {
   "cell_type": "code",
   "execution_count": 21,
   "id": "02f13ba1-5d1e-4888-8836-3e4c6f705103",
   "metadata": {},
   "outputs": [
    {
     "data": {
      "text/plain": [
       "[1, 'Apple', 10.5, 30, True]"
      ]
     },
     "execution_count": 21,
     "metadata": {},
     "output_type": "execute_result"
    }
   ],
   "source": [
    "list4=[1,'Apple',10.5,10+20,True]\n",
    "list4"
   ]
  },
  {
   "cell_type": "code",
   "execution_count": 25,
   "id": "c222cb94-bbdc-4418-a2e2-e391a6d47a5b",
   "metadata": {},
   "outputs": [
    {
     "data": {
      "text/plain": [
       "['a', 'd', 'a', 'a']"
      ]
     },
     "execution_count": 25,
     "metadata": {},
     "output_type": "execute_result"
    }
   ],
   "source": [
    "list5=['a','d','a','a']\n",
    "list5"
   ]
  },
  {
   "cell_type": "code",
   "execution_count": 29,
   "id": "2db79357-5ff2-4e37-8814-f283c12a7ed0",
   "metadata": {},
   "outputs": [
    {
     "data": {
      "text/plain": [
       "[['a', 'd']]"
      ]
     },
     "execution_count": 29,
     "metadata": {},
     "output_type": "execute_result"
    }
   ],
   "source": [
    "list7=[['a','d']]\n",
    "list7"
   ]
  },
  {
   "cell_type": "markdown",
   "id": "516be994-e4b2-4679-b757-6ef5a7a5c50a",
   "metadata": {},
   "source": [
    "$Max$"
   ]
  },
  {
   "cell_type": "code",
   "execution_count": 32,
   "id": "0d55c2c1-7d7d-45ad-b0a2-a04285005b97",
   "metadata": {},
   "outputs": [
    {
     "data": {
      "text/plain": [
       "'4'"
      ]
     },
     "execution_count": 32,
     "metadata": {},
     "output_type": "execute_result"
    }
   ],
   "source": [
    "max(list1)"
   ]
  },
  {
   "cell_type": "code",
   "execution_count": 36,
   "id": "a867a093-ebfb-4281-aa8d-08d5e8b51c32",
   "metadata": {},
   "outputs": [
    {
     "data": {
      "text/plain": [
       "'you'"
      ]
     },
     "execution_count": 36,
     "metadata": {},
     "output_type": "execute_result"
    }
   ],
   "source": [
    "max(list2)"
   ]
  },
  {
   "cell_type": "code",
   "execution_count": 40,
   "id": "47d87ae6-d82a-4e17-a488-9e11cc136c23",
   "metadata": {},
   "outputs": [
    {
     "data": {
      "text/plain": [
       "'t'"
      ]
     },
     "execution_count": 40,
     "metadata": {},
     "output_type": "execute_result"
    }
   ],
   "source": [
    "max(list3)"
   ]
  },
  {
   "cell_type": "code",
   "execution_count": 42,
   "id": "12a09d8a-e79a-4752-91bd-805ab700a06c",
   "metadata": {},
   "outputs": [
    {
     "name": "stdout",
     "output_type": "stream",
     "text": [
      "4\n",
      "you\n",
      "t\n"
     ]
    }
   ],
   "source": [
    "print(max(list1))\n",
    "print(max(list2))\n",
    "print(max(list3))\n"
   ]
  },
  {
   "cell_type": "markdown",
   "id": "7fc5c410-537a-48a7-a429-b3939952af86",
   "metadata": {},
   "source": [
    "$len$"
   ]
  },
  {
   "cell_type": "code",
   "execution_count": 45,
   "id": "975e80a0-db1f-479b-9ca3-6fa2202c9cd0",
   "metadata": {},
   "outputs": [
    {
     "name": "stdout",
     "output_type": "stream",
     "text": [
      "4\n",
      "2\n",
      "5\n"
     ]
    }
   ],
   "source": [
    "print(len(list1))\n",
    "print(len(list2))\n",
    "print(len(list3))"
   ]
  },
  {
   "cell_type": "markdown",
   "id": "fcee7a12-7cbf-4bc7-8779-723797899491",
   "metadata": {},
   "source": [
    "$sum$"
   ]
  },
  {
   "cell_type": "code",
   "execution_count": 48,
   "id": "9b13fb8e-127b-49ae-b297-b9fb81fb2155",
   "metadata": {},
   "outputs": [
    {
     "ename": "TypeError",
     "evalue": "unsupported operand type(s) for +: 'int' and 'str'",
     "output_type": "error",
     "traceback": [
      "\u001b[1;31m---------------------------------------------------------------------------\u001b[0m",
      "\u001b[1;31mTypeError\u001b[0m                                 Traceback (most recent call last)",
      "Cell \u001b[1;32mIn[48], line 1\u001b[0m\n\u001b[1;32m----> 1\u001b[0m \u001b[38;5;28mprint\u001b[39m(\u001b[38;5;28msum\u001b[39m(list2))\n",
      "\u001b[1;31mTypeError\u001b[0m: unsupported operand type(s) for +: 'int' and 'str'"
     ]
    }
   ],
   "source": [
    "print(sum(list2))"
   ]
  },
  {
   "cell_type": "code",
   "execution_count": 50,
   "id": "49f802dc-a36d-492c-9565-c6286ad71379",
   "metadata": {},
   "outputs": [
    {
     "ename": "TypeError",
     "evalue": "unsupported operand type(s) for +: 'int' and 'str'",
     "output_type": "error",
     "traceback": [
      "\u001b[1;31m---------------------------------------------------------------------------\u001b[0m",
      "\u001b[1;31mTypeError\u001b[0m                                 Traceback (most recent call last)",
      "Cell \u001b[1;32mIn[50], line 1\u001b[0m\n\u001b[1;32m----> 1\u001b[0m \u001b[38;5;28mprint\u001b[39m(\u001b[38;5;28msum\u001b[39m(list1))\n",
      "\u001b[1;31mTypeError\u001b[0m: unsupported operand type(s) for +: 'int' and 'str'"
     ]
    }
   ],
   "source": [
    "print(sum(list1))"
   ]
  },
  {
   "cell_type": "markdown",
   "id": "9f31563b-5b1e-4fd4-9f5f-5783b21201e3",
   "metadata": {},
   "source": [
    "#sum\n",
    "\n",
    "#eval\n",
    "\n",
    "#range\n",
    "\n"
   ]
  },
  {
   "cell_type": "markdown",
   "id": "a068e31e-b03a-4cbb-9caa-ad8b4eddea0b",
   "metadata": {},
   "source": [
    "$in$"
   ]
  },
  {
   "cell_type": "code",
   "execution_count": 63,
   "id": "1e9cab42-77a1-40b6-8410-8b90ee50235b",
   "metadata": {},
   "outputs": [
    {
     "data": {
      "text/plain": [
       "[1, 2, 3, 4]"
      ]
     },
     "execution_count": 63,
     "metadata": {},
     "output_type": "execute_result"
    }
   ],
   "source": [
    "list1=[1,2,3,4]\n",
    "list1\n"
   ]
  },
  {
   "cell_type": "code",
   "execution_count": 65,
   "id": "e2f2bbcc-ef84-43a6-8723-741408116008",
   "metadata": {},
   "outputs": [
    {
     "data": {
      "text/plain": [
       "True"
      ]
     },
     "execution_count": 65,
     "metadata": {},
     "output_type": "execute_result"
    }
   ],
   "source": [
    "1 in list1\n",
    "2 in list1\n",
    "3 in list1\n",
    "4 in list1"
   ]
  },
  {
   "cell_type": "code",
   "execution_count": 67,
   "id": "2b45c289-e039-4ddf-8e04-312fa4c5381f",
   "metadata": {},
   "outputs": [
    {
     "name": "stdout",
     "output_type": "stream",
     "text": [
      "1\n",
      "2\n",
      "3\n",
      "4\n"
     ]
    }
   ],
   "source": [
    "for i in list1:\n",
    "    print(i)"
   ]
  },
  {
   "cell_type": "markdown",
   "id": "895790d6-cbae-49c2-9181-136e0c4b430e",
   "metadata": {},
   "source": [
    "$COncatenation$"
   ]
  },
  {
   "cell_type": "code",
   "execution_count": 70,
   "id": "3d264b5d-ea43-4465-a8c0-0b6a09d0e0b5",
   "metadata": {},
   "outputs": [
    {
     "data": {
      "text/plain": [
       "[1, 2, 3, 4]"
      ]
     },
     "execution_count": 70,
     "metadata": {},
     "output_type": "execute_result"
    }
   ],
   "source": [
    "list1"
   ]
  },
  {
   "cell_type": "code",
   "execution_count": 72,
   "id": "eda3a0b9-1f67-4c22-a1cc-b65f49aec09d",
   "metadata": {},
   "outputs": [
    {
     "data": {
      "text/plain": [
       "['Hello', 'you']"
      ]
     },
     "execution_count": 72,
     "metadata": {},
     "output_type": "execute_result"
    }
   ],
   "source": [
    "list2"
   ]
  },
  {
   "cell_type": "code",
   "execution_count": 78,
   "id": "20381ae3-e343-4e9b-add0-5c758e92231c",
   "metadata": {},
   "outputs": [
    {
     "name": "stdout",
     "output_type": "stream",
     "text": [
      "[1, 2, 3, 4, 'Hello', 'you']\n",
      "['Hello', 'you', 1, 2, 3, 4]\n"
     ]
    }
   ],
   "source": [
    "print(list1+list2)\n",
    "print(list2+list1)"
   ]
  },
  {
   "cell_type": "code",
   "execution_count": 80,
   "id": "c7fdf8fb-61b5-4591-9369-3372d70d0405",
   "metadata": {},
   "outputs": [
    {
     "data": {
      "text/plain": [
       "[1, 2, 3, 4, 1, 2, 3, 4, 1, 2, 3, 4]"
      ]
     },
     "execution_count": 80,
     "metadata": {},
     "output_type": "execute_result"
    }
   ],
   "source": [
    "list1*3 #list+list+list"
   ]
  },
  {
   "cell_type": "code",
   "execution_count": null,
   "id": "98b1467f-52a9-42bf-8802-5ca713dd94c6",
   "metadata": {},
   "outputs": [],
   "source": [
    "list1-list2\n",
    "list1/list2\n",
    "list1*list2"
   ]
  },
  {
   "cell_type": "markdown",
   "id": "e44d19d4-5c06-4368-9380-a9a78896b735",
   "metadata": {},
   "source": [
    "$Index$"
   ]
  },
  {
   "cell_type": "code",
   "execution_count": 83,
   "id": "f201a49f-c8cf-4461-9f30-cfc1a7e8bd29",
   "metadata": {},
   "outputs": [
    {
     "data": {
      "text/plain": [
       "['1', 'h', '2', '3', 't']"
      ]
     },
     "execution_count": 83,
     "metadata": {},
     "output_type": "execute_result"
    }
   ],
   "source": [
    "list3"
   ]
  },
  {
   "cell_type": "code",
   "execution_count": 85,
   "id": "ab0c910e-7eec-4c88-832d-4823c2836c52",
   "metadata": {},
   "outputs": [
    {
     "data": {
      "text/plain": [
       "('1', 'h', '2', 't')"
      ]
     },
     "execution_count": 85,
     "metadata": {},
     "output_type": "execute_result"
    }
   ],
   "source": [
    "#python index starts with zero\n",
    "list3[0],list3[1],list3[2],list3[4]\n",
    "\n",
    "#list3[i]\n",
    "#i=0,1,2,3,4"
   ]
  },
  {
   "cell_type": "code",
   "execution_count": 89,
   "id": "ee677265-a3b7-4c02-a44b-42eb36e023ff",
   "metadata": {},
   "outputs": [
    {
     "data": {
      "text/plain": [
       "'2'"
      ]
     },
     "execution_count": 89,
     "metadata": {},
     "output_type": "execute_result"
    }
   ],
   "source": [
    "list3[-3]\n",
    "\n",
    "-5 -4 -3 -2 -1\n",
    " 1  h  2  3  t\n",
    " 0  1  2  3  4"
   ]
  },
  {
   "cell_type": "code",
   "execution_count": 93,
   "id": "04b9fed5-e966-4f8b-8559-473282d879b3",
   "metadata": {},
   "outputs": [
    {
     "name": "stdout",
     "output_type": "stream",
     "text": [
      "positive index is: 0 and negative index is -5: for the element 1.\n",
      "positive index is: 1 and negative index is -4: for the element h.\n",
      "positive index is: 2 and negative index is -3: for the element 2.\n",
      "positive index is: 3 and negative index is -2: for the element 3.\n",
      "positive index is: 4 and negative index is -1: for the element t.\n"
     ]
    }
   ],
   "source": [
    "for i in range(len(list3)):\n",
    "    print('positive index is: {} and negative index is {}: for the element {}.' .format(i,i-len(list3),list3[i]))\n",
    "                                                                        "
   ]
  },
  {
   "cell_type": "code",
   "execution_count": null,
   "id": "eecedcc9-3c5e-4984-939b-27b90f3fa2a4",
   "metadata": {},
   "outputs": [],
   "source": [
    "#wap find the element which are having len,3\n",
    "#list=['Apple','ball','cat',"
   ]
  },
  {
   "cell_type": "code",
   "execution_count": 109,
   "id": "b7e91822-aef9-4bcb-a954-7faf2fec9a78",
   "metadata": {},
   "outputs": [
    {
     "name": "stdout",
     "output_type": "stream",
     "text": [
      "Apple\n",
      "ball\n"
     ]
    }
   ],
   "source": [
    "listx=['Apple','ball','cat','car','dog']\n",
    "for i in range(len(listx)):\n",
    "    if len(listx[i])>3:\n",
    "        print(listx[i])"
   ]
  },
  {
   "cell_type": "code",
   "execution_count": null,
   "id": "2d264c53-92d7-4c63-872a-91862404be76",
   "metadata": {},
   "outputs": [],
   "source": [
    "#wap find the element which are having #\n",
    "#list=['Ap#le','ball','c#at',"
   ]
  },
  {
   "cell_type": "code",
   "execution_count": 129,
   "id": "2002c6eb-48a5-461b-9e88-47a0a35ac186",
   "metadata": {},
   "outputs": [
    {
     "name": "stdout",
     "output_type": "stream",
     "text": [
      "Ap#le\n",
      "c#at\n"
     ]
    }
   ],
   "source": [
    "listy=['Ap#le','ball','c#at']\n",
    "for i in range (len(listy)):\n",
    "    if '#' in (listy[i]):\n",
    "        print(listy[i])\n"
   ]
  },
  {
   "cell_type": "code",
   "execution_count": 131,
   "id": "f64f0ee0-baa4-4bcb-805a-c06c319dad91",
   "metadata": {},
   "outputs": [
    {
     "data": {
      "text/plain": [
       "'Ball'"
      ]
     },
     "execution_count": 131,
     "metadata": {},
     "output_type": "execute_result"
    }
   ],
   "source": [
    "list1=[1,2,3,['Apple','Ball']]\n",
    "#retrieve the ball using index\n",
    "list1[3][1]"
   ]
  },
  {
   "cell_type": "code",
   "execution_count": 143,
   "id": "0a0fec4c-9b92-48d3-a5ee-f64a4c30738e",
   "metadata": {},
   "outputs": [
    {
     "data": {
      "text/plain": [
       "'cherry'"
      ]
     },
     "execution_count": 143,
     "metadata": {},
     "output_type": "execute_result"
    }
   ],
   "source": [
    "list2=[[[[[[['cherry']]]]]]]\n",
    "list2[0][0][0][0][0][0][0]"
   ]
  },
  {
   "cell_type": "code",
   "execution_count": 173,
   "id": "fdd26dc8-e52a-4637-9038-0599f54d83d5",
   "metadata": {},
   "outputs": [
    {
     "data": {
      "text/plain": [
       "'Car'"
      ]
     },
     "execution_count": 173,
     "metadata": {},
     "output_type": "execute_result"
    }
   ],
   "source": [
    "lis3 = [[['A','B',[[[1,2,3,['Car']]]]]]]\n",
    "#retrieve the car\n",
    "lis3[0][0][2][0][0][3][0]"
   ]
  },
  {
   "cell_type": "markdown",
   "id": "e7a36248-f873-4be0-a3ae-51caf1ef180b",
   "metadata": {},
   "source": [
    "$Mutable$"
   ]
  },
  {
   "cell_type": "code",
   "execution_count": 180,
   "id": "d2b12084-23f2-4b11-a544-8e0035f59b69",
   "metadata": {},
   "outputs": [
    {
     "ename": "TypeError",
     "evalue": "'str' object does not support item assignment",
     "output_type": "error",
     "traceback": [
      "\u001b[1;31m---------------------------------------------------------------------------\u001b[0m",
      "\u001b[1;31mTypeError\u001b[0m                                 Traceback (most recent call last)",
      "Cell \u001b[1;32mIn[180], line 2\u001b[0m\n\u001b[0;32m      1\u001b[0m sring1\u001b[38;5;241m=\u001b[39m\u001b[38;5;124m'\u001b[39m\u001b[38;5;124mwelcome\u001b[39m\u001b[38;5;124m'\u001b[39m\n\u001b[1;32m----> 2\u001b[0m sring1[\u001b[38;5;241m2\u001b[39m]\u001b[38;5;241m=\u001b[39m\u001b[38;5;124m'\u001b[39m\u001b[38;5;124mL\u001b[39m\u001b[38;5;124m'\u001b[39m\n",
      "\u001b[1;31mTypeError\u001b[0m: 'str' object does not support item assignment"
     ]
    }
   ],
   "source": [
    "sring1='welcome'\n",
    "sring1[2]='L'\n",
    "#string are immutable\n",
    "\n"
   ]
  },
  {
   "cell_type": "code",
   "execution_count": 184,
   "id": "77f4291c-1567-41af-9fbd-453f37b22417",
   "metadata": {},
   "outputs": [
    {
     "data": {
      "text/plain": [
       "['1', 6, '3', '4']"
      ]
     },
     "execution_count": 184,
     "metadata": {},
     "output_type": "execute_result"
    }
   ],
   "source": [
    "list1=['1','2','3','4']\n",
    "list1[1]=6\n",
    "list1"
   ]
  },
  {
   "cell_type": "markdown",
   "id": "aa0e0aca-e99a-430b-81c6-58fb148e38ed",
   "metadata": {},
   "source": [
    "$Slice$"
   ]
  },
  {
   "cell_type": "code",
   "execution_count": 191,
   "id": "79596e1d-346e-4c95-a7cb-5b1c9d2208fa",
   "metadata": {},
   "outputs": [
    {
     "name": "stdout",
     "output_type": "stream",
     "text": [
      "[3, 5, 7, 'y']\n",
      "[3, 5, 7]\n",
      "[3]\n",
      "[]\n",
      "[3, 7, 'ht']\n"
     ]
    }
   ],
   "source": [
    "list1=[1,2,3,4,5,6,7,'p','y','t','ht','o','n']\n",
    "print(list1[2:10:2])\n",
    "print(list1[2:8:2])\n",
    "print(list1[2:-10:2])\n",
    "print(list1[2:-10:-2])\n",
    "print(list1[2:11:4])\n",
    "\n"
   ]
  },
  {
   "cell_type": "code",
   "execution_count": null,
   "id": "62c6ca81-22c3-45a8-8ce7-49353f6b0ab7",
   "metadata": {},
   "outputs": [],
   "source": [
    "-Reading a list\n",
    "-Differernt ways to provide elements\n",
    "-Type/min/max/sum/len\n",
    "-in\n",
    "-concatenation\n",
    "-index\n",
    "-mutable\n",
    "-slice"
   ]
  },
  {
   "cell_type": "code",
   "execution_count": 197,
   "id": "e5841735-1ae1-4a3d-a0c4-587bbd6e07c6",
   "metadata": {},
   "outputs": [
    {
     "data": {
      "text/plain": [
       "['__add__',\n",
       " '__class__',\n",
       " '__class_getitem__',\n",
       " '__contains__',\n",
       " '__delattr__',\n",
       " '__delitem__',\n",
       " '__dir__',\n",
       " '__doc__',\n",
       " '__eq__',\n",
       " '__format__',\n",
       " '__ge__',\n",
       " '__getattribute__',\n",
       " '__getitem__',\n",
       " '__getstate__',\n",
       " '__gt__',\n",
       " '__hash__',\n",
       " '__iadd__',\n",
       " '__imul__',\n",
       " '__init__',\n",
       " '__init_subclass__',\n",
       " '__iter__',\n",
       " '__le__',\n",
       " '__len__',\n",
       " '__lt__',\n",
       " '__mul__',\n",
       " '__ne__',\n",
       " '__new__',\n",
       " '__reduce__',\n",
       " '__reduce_ex__',\n",
       " '__repr__',\n",
       " '__reversed__',\n",
       " '__rmul__',\n",
       " '__setattr__',\n",
       " '__setitem__',\n",
       " '__sizeof__',\n",
       " '__str__',\n",
       " '__subclasshook__',\n",
       " 'append',\n",
       " 'clear',\n",
       " 'copy',\n",
       " 'count',\n",
       " 'extend',\n",
       " 'index',\n",
       " 'insert',\n",
       " 'pop',\n",
       " 'remove',\n",
       " 'reverse',\n",
       " 'sort']"
      ]
     },
     "execution_count": 197,
     "metadata": {},
     "output_type": "execute_result"
    }
   ],
   "source": [
    "dir([])"
   ]
  },
  {
   "cell_type": "markdown",
   "id": "687bc6da-5f07-4276-a652-5c573c0b871e",
   "metadata": {},
   "source": [
    "$Clear and Copy$"
   ]
  },
  {
   "cell_type": "code",
   "execution_count": 202,
   "id": "908a5949-75b5-4c6a-ab99-17a28ada1b86",
   "metadata": {},
   "outputs": [
    {
     "data": {
      "text/plain": [
       "[1, 2, 3, 4]"
      ]
     },
     "execution_count": 202,
     "metadata": {},
     "output_type": "execute_result"
    }
   ],
   "source": [
    "list1=[1,2,3,4]\n",
    "list2=list1.copy()\n",
    "list2"
   ]
  },
  {
   "cell_type": "code",
   "execution_count": 210,
   "id": "a47070c0-79bf-4cdc-b3e2-191a28da89f9",
   "metadata": {},
   "outputs": [],
   "source": [
    "list1.clear()"
   ]
  },
  {
   "cell_type": "code",
   "execution_count": 212,
   "id": "4c278212-da23-4f58-8440-eefc14b98fc9",
   "metadata": {},
   "outputs": [
    {
     "name": "stdout",
     "output_type": "stream",
     "text": [
      "list1 []\n",
      "list2 [1, 2, 3, 4]\n"
     ]
    }
   ],
   "source": [
    "print(\"list1\",list1)\n",
    "print(\"list2\",list2)"
   ]
  },
  {
   "cell_type": "markdown",
   "id": "85634a8a-1300-42c2-b6eb-4a6b31c301e7",
   "metadata": {},
   "source": [
    "$$DAY-29$$"
   ]
  },
  {
   "cell_type": "markdown",
   "id": "8fb6427f-7eeb-4fcf-9517-5c75b5f6e2ff",
   "metadata": {},
   "source": [
    "$append$"
   ]
  },
  {
   "cell_type": "code",
   "execution_count": 4,
   "id": "1abdaa0c-4b17-408b-8dcf-5de38c35e6f9",
   "metadata": {},
   "outputs": [
    {
     "data": {
      "text/plain": [
       "[100, 200, 300]"
      ]
     },
     "execution_count": 4,
     "metadata": {},
     "output_type": "execute_result"
    }
   ],
   "source": [
    "#add(something) to the end of a written document.\n",
    "listx=[100,200]\n",
    "#[100,200,300]\n",
    "listx.append(300)\n",
    "listx"
   ]
  },
  {
   "cell_type": "code",
   "execution_count": 8,
   "id": "4c6dc1d6-8dc9-472a-8a1c-8be099df7ee6",
   "metadata": {},
   "outputs": [],
   "source": [
    "listx.append([300,500])"
   ]
  },
  {
   "cell_type": "code",
   "execution_count": 11,
   "id": "63432adb-4166-4729-972f-798d3f895f74",
   "metadata": {},
   "outputs": [
    {
     "data": {
      "text/plain": [
       "[100, 200, 300, [300, 500]]"
      ]
     },
     "execution_count": 11,
     "metadata": {},
     "output_type": "execute_result"
    }
   ],
   "source": [
    "listx"
   ]
  },
  {
   "cell_type": "code",
   "execution_count": 13,
   "id": "f05ee226-c3f4-49a3-a46b-e1888824df4d",
   "metadata": {},
   "outputs": [],
   "source": [
    "listx.append('apple')"
   ]
  },
  {
   "cell_type": "code",
   "execution_count": 15,
   "id": "32d75c45-cb0a-4a1c-85a9-bd66611b7bd3",
   "metadata": {},
   "outputs": [
    {
     "data": {
      "text/plain": [
       "[100, 200, 300, [300, 500], 'apple']"
      ]
     },
     "execution_count": 15,
     "metadata": {},
     "output_type": "execute_result"
    }
   ],
   "source": [
    "listx"
   ]
  },
  {
   "cell_type": "code",
   "execution_count": 17,
   "id": "0bafa55c-c5de-4e3f-a72a-4b963414087f",
   "metadata": {},
   "outputs": [
    {
     "name": "stdout",
     "output_type": "stream",
     "text": [
      "1\n",
      "4\n",
      "9\n",
      "16\n",
      "25\n"
     ]
    }
   ],
   "source": [
    "#Input list= [1,2,3,4,5]\n",
    "#create a new list=[1,4,9,16,25]\n",
    "lis3= [1,2,3,4,5]\n",
    "for i in lis3:\n",
    "    print(i*i)\n"
   ]
  },
  {
   "cell_type": "code",
   "execution_count": 21,
   "id": "a0c33a8d-2039-4fa1-a48f-961e0e5deba3",
   "metadata": {},
   "outputs": [
    {
     "data": {
      "text/plain": [
       "[1, 4, 9, 16, 25]"
      ]
     },
     "execution_count": 21,
     "metadata": {},
     "output_type": "execute_result"
    }
   ],
   "source": [
    "lis3= [1,2,3,4,5]\n",
    "output=[]\n",
    "for i in lis3:\n",
    "    output.append(i*i)\n",
    "\n",
    "output"
   ]
  },
  {
   "cell_type": "code",
   "execution_count": 24,
   "id": "f62fee52-fa7b-4da2-9424-944d1daf2de3",
   "metadata": {},
   "outputs": [
    {
     "name": "stdout",
     "output_type": "stream",
     "text": [
      "Hyd\n",
      "Nepal\n",
      "Ktm\n"
     ]
    }
   ],
   "source": [
    "lix=['hyd','nepal','ktm']\n",
    "#output =['Hyd','Nepal','Ktm']\n",
    "\n",
    "for i in lix:\n",
    "    print(i.capitalize())\n"
   ]
  },
  {
   "cell_type": "code",
   "execution_count": 28,
   "id": "1fe3c155-1202-4f70-98c6-0d55429e0702",
   "metadata": {},
   "outputs": [
    {
     "name": "stdout",
     "output_type": "stream",
     "text": [
      "h#d\n",
      "n#pal\n"
     ]
    }
   ],
   "source": [
    "lix=['h#d','n#pal','ktm']\n",
    "for i in lix:\n",
    "    if '#' in i:\n",
    "        print(i)\n"
   ]
  },
  {
   "cell_type": "code",
   "execution_count": 30,
   "id": "4c248b61-58de-452a-bf19-0c92b0983d56",
   "metadata": {},
   "outputs": [
    {
     "data": {
      "text/plain": [
       "[1, 4, 9, 16, 25, 'h#d', 'n#pal']"
      ]
     },
     "execution_count": 30,
     "metadata": {},
     "output_type": "execute_result"
    }
   ],
   "source": [
    "lix=['h#d','n#pal','ktm']\n",
    "for i in lix:\n",
    "    if '#' in i:\n",
    "        output.append(i)\n",
    "\n",
    "output"
   ]
  },
  {
   "cell_type": "markdown",
   "id": "c1573a20-34ba-431f-93a7-0c2b4f5c39ae",
   "metadata": {},
   "source": [
    "$List comprehension$"
   ]
  },
  {
   "cell_type": "code",
   "execution_count": 4,
   "id": "aae7ed24-5b65-42fc-a837-7fd814590ab5",
   "metadata": {},
   "outputs": [
    {
     "data": {
      "text/plain": [
       "[1, 4, 9, 16, 25]"
      ]
     },
     "execution_count": 4,
     "metadata": {},
     "output_type": "execute_result"
    }
   ],
   "source": [
    "#cod ein a single line--->speed the process\n",
    "list1=[1,2,3,4,5] #input\n",
    "\n",
    "output=[]\n",
    "for  i in list1:\n",
    "    output.append(i*i)\n",
    "\n",
    "output\n",
    "\n",
    "#step-1: initialize the list output=[]\n",
    "#step-2: iterate the loop\n",
    "#step-3: you save the output\n",
    "output1=[i*i for i in list1]\n",
    "output1\n",
    "\n",
    "#"
   ]
  },
  {
   "cell_type": "code",
   "execution_count": 10,
   "id": "d9fbffeb-47e7-4a2b-8e37-6dda2aeadc57",
   "metadata": {},
   "outputs": [
    {
     "data": {
      "text/plain": [
       "['Hyd', 'Nepal', 'Ktm']"
      ]
     },
     "execution_count": 10,
     "metadata": {},
     "output_type": "execute_result"
    }
   ],
   "source": [
    "lix=['hyd','nepal','ktm']\n",
    "#output =['Hyd','Nepal','Ktm']\n",
    "output=[]\n",
    "for i in lix:\n",
    "    output.append(i.capitalize())\n",
    "output\n",
    "\n",
    "\n",
    "outps=[i.capitalize() for i in lix]\n",
    "outps"
   ]
  },
  {
   "cell_type": "code",
   "execution_count": 20,
   "id": "43aebb5f-04a0-43b7-b8d8-17c9337d49c7",
   "metadata": {},
   "outputs": [
    {
     "data": {
      "text/plain": [
       "[1, 2, 3, 4, 5, 6, 7, 8, 9, 10, 11, 12, 13, 14, 15, 16, 17, 18, 19, 20]"
      ]
     },
     "execution_count": 20,
     "metadata": {},
     "output_type": "execute_result"
    }
   ],
   "source": [
    "#create of lsit of 20 numnbers from 1 to 20\n",
    "#for i in range(1,21):\n",
    " #   print(i)\n",
    "#################################################\n",
    "numbers=[]\n",
    "for i in range(1,21):\n",
    "    numbers.append(i)\n",
    "numbers\n",
    "#########################################################\n",
    "numbers1=[i for i in range(1,21)]\n",
    "numbers1\n"
   ]
  },
  {
   "cell_type": "code",
   "execution_count": 22,
   "id": "4ebafe68-a33c-4a79-a65a-7db32b21e66a",
   "metadata": {},
   "outputs": [
    {
     "data": {
      "text/plain": [
       "['h#d', 'n#pal']"
      ]
     },
     "execution_count": 22,
     "metadata": {},
     "output_type": "execute_result"
    }
   ],
   "source": [
    "#list comprehension with if condition\n",
    "lix=['h#d','n#pal','ktm']\n",
    "for i in lix:\n",
    "    if '#' in i:\n",
    "        output.append(i)\n",
    "\n",
    "output\n",
    "\n",
    "#[<o/p> <for loop> <if_condition>]\n",
    "cut=[i for i in lix if '#' in i]\n",
    "cut"
   ]
  },
  {
   "cell_type": "code",
   "execution_count": 32,
   "id": "f8809df6-5a27-47d5-9cfa-02366b0baa5f",
   "metadata": {},
   "outputs": [
    {
     "name": "stdout",
     "output_type": "stream",
     "text": [
      "abcd\n"
     ]
    },
    {
     "data": {
      "text/plain": [
       "['re', 'sd', 'd']"
      ]
     },
     "execution_count": 32,
     "metadata": {},
     "output_type": "execute_result"
    }
   ],
   "source": [
    "\n",
    "lise=['abcd','adc','re','sd','d']\n",
    "# elements less than 3\n",
    "for i in lise:\n",
    "    if len(i)>3:\n",
    "        print(i)\n",
    "\n",
    "lis=[i for i in lise if len(i)<3]\n",
    "lis\n",
    "    "
   ]
  },
  {
   "cell_type": "code",
   "execution_count": 44,
   "id": "71cc5764-bf9f-4680-b224-eabef73870c1",
   "metadata": {},
   "outputs": [
    {
     "name": "stdout",
     "output_type": "stream",
     "text": [
      "odd:1\n",
      "even:2\n",
      "odd:3\n",
      "even:4\n",
      "odd:5\n"
     ]
    }
   ],
   "source": [
    "#if else\n",
    "\n",
    "list1=[1,2,3,4,5]\n",
    "\n",
    "for i in list1:\n",
    "    if i%2==0:\n",
    "        print(\"even:{}\".format(i))\n",
    "    else:\n",
    "        print(\"odd:{}\".format(i))"
   ]
  },
  {
   "cell_type": "code",
   "execution_count": 54,
   "id": "6c0c135f-10f7-42a9-b30a-ee73d4b7c411",
   "metadata": {},
   "outputs": [
    {
     "data": {
      "text/plain": [
       "['odd:1', 'even:2', 'odd:3', 'even:4', 'odd:5']"
      ]
     },
     "execution_count": 54,
     "metadata": {},
     "output_type": "execute_result"
    }
   ],
   "source": [
    "#if else\n",
    "\n",
    "list1=[1,2,3,4,5]\n",
    "output=[]\n",
    "for i in list1:\n",
    "    if i%2==0:\n",
    "        output.append(\"even:{}\".format(i))\n",
    "    else:\n",
    "        output.append(\"odd:{}\".format(i))\n",
    "output"
   ]
  },
  {
   "cell_type": "code",
   "execution_count": 15,
   "id": "8139895e-1693-43b1-84da-064b97277465",
   "metadata": {},
   "outputs": [
    {
     "data": {
      "text/plain": [
       "['odd:1', 'even:2', 'odd:3', 'even:4', 'odd:5']"
      ]
     },
     "execution_count": 15,
     "metadata": {},
     "output_type": "execute_result"
    }
   ],
   "source": [
    "list1=[1,2,3,4,5]\n",
    "cutp=[\"even:{}\".format(i) if i%2==0   else \"odd:{}\".format(i)  for i in list1]\n",
    "cutp"
   ]
  },
  {
   "cell_type": "markdown",
   "id": "ab1548e1-d4dc-457b-8bbf-74aed20c5255",
   "metadata": {},
   "source": [
    "$count$"
   ]
  },
  {
   "cell_type": "code",
   "execution_count": 19,
   "id": "3c094dfb-057f-40b0-9b21-8328cd8f6e89",
   "metadata": {},
   "outputs": [
    {
     "name": "stdout",
     "output_type": "stream",
     "text": [
      "1\n"
     ]
    }
   ],
   "source": [
    "list5=['1','A','d','r','a','a','d']\n",
    "count=0\n",
    "\n",
    "for i in list5:\n",
    "    if i=='A':\n",
    "        count=count+1\n",
    "\n",
    "\n",
    "print(count)\n",
    "    "
   ]
  },
  {
   "cell_type": "markdown",
   "id": "867fea88-000f-4fa3-86c1-904eda8058fc",
   "metadata": {},
   "source": [
    "$Extend$"
   ]
  },
  {
   "cell_type": "code",
   "execution_count": 24,
   "id": "e0c721ae-52dd-4fdf-b41d-194bc51ff178",
   "metadata": {},
   "outputs": [
    {
     "data": {
      "text/plain": [
       "['A', 'B', 'C', 1, 2, 3]"
      ]
     },
     "execution_count": 24,
     "metadata": {},
     "output_type": "execute_result"
    }
   ],
   "source": [
    "list1=['A','B','C']\n",
    "list2=[1,2,3]\n",
    "\n",
    "list1.extend(list2)\n",
    "list1\n",
    "#list1 will be updated with list2 values"
   ]
  },
  {
   "cell_type": "code",
   "execution_count": 26,
   "id": "bded7e6e-89ad-4dac-b1cb-55e5e7005abc",
   "metadata": {},
   "outputs": [
    {
     "name": "stdout",
     "output_type": "stream",
     "text": [
      "['A', 'B', 'C', 1, 2, 3]\n"
     ]
    }
   ],
   "source": [
    "list1=['A','B','C']\n",
    "list2=[1,2,3]\n",
    "list3=list1+list2\n",
    "print(list3)"
   ]
  },
  {
   "cell_type": "markdown",
   "id": "834c22f3-2412-4f0b-b61c-7612fd87b8ae",
   "metadata": {},
   "source": [
    "Append vs extend vs concat\n",
    "\n",
    "- "
   ]
  },
  {
   "cell_type": "markdown",
   "id": "faeabec0-8631-417b-ab9f-d313e35ee16f",
   "metadata": {},
   "source": [
    "$Iterator$"
   ]
  },
  {
   "cell_type": "code",
   "execution_count": 29,
   "id": "98151767-ecc9-4c44-98b1-8c1b50165ed1",
   "metadata": {},
   "outputs": [
    {
     "ename": "SyntaxError",
     "evalue": "invalid syntax (3551412293.py, line 1)",
     "output_type": "error",
     "traceback": [
      "\u001b[1;36m  Cell \u001b[1;32mIn[29], line 1\u001b[1;36m\u001b[0m\n\u001b[1;33m    - iterator word =======> loop\u001b[0m\n\u001b[1;37m               ^\u001b[0m\n\u001b[1;31mSyntaxError\u001b[0m\u001b[1;31m:\u001b[0m invalid syntax\n"
     ]
    }
   ],
   "source": [
    "- iterator word =======> loop\n",
    "\n",
    "-the elements we can print using for loop\n",
    "\n",
    "-string='python'  we can print each elemetn using for loop\n",
    "\n",
    "-list1= [1,2,3]  we can print each elements using for loop\n",
    "\n"
   ]
  },
  {
   "cell_type": "code",
   "execution_count": 31,
   "id": "e75be051-8b31-45ba-ab8a-b65231e4b361",
   "metadata": {},
   "outputs": [
    {
     "data": {
      "text/plain": [
       "<reversed at 0x2d4de3cbd00>"
      ]
     },
     "execution_count": 31,
     "metadata": {},
     "output_type": "execute_result"
    }
   ],
   "source": [
    "val=reversed('python')"
   ]
  },
  {
   "cell_type": "code",
   "execution_count": 39,
   "id": "d1f34879-37c3-466c-9590-fa7be60c4257",
   "metadata": {},
   "outputs": [
    {
     "name": "stdout",
     "output_type": "stream",
     "text": [
      "n\n",
      "o\n",
      "h\n",
      "t\n",
      "y\n",
      "p\n"
     ]
    }
   ],
   "source": [
    "val=reversed('python')\n",
    "for i in val:\n",
    "    print(i)"
   ]
  },
  {
   "cell_type": "code",
   "execution_count": 43,
   "id": "9eaaac7e-dbe0-4c3d-b4d1-8b40911ea637",
   "metadata": {},
   "outputs": [
    {
     "data": {
      "text/plain": [
       "[1, 2, 3, 'p', 'y', 't', 'h', 'o', 'n', 'python']"
      ]
     },
     "execution_count": 43,
     "metadata": {},
     "output_type": "execute_result"
    }
   ],
   "source": [
    "list1=[1,2,3]\n",
    "list1.extend('python')\n",
    "list1.append('python')\n",
    "list1"
   ]
  },
  {
   "cell_type": "markdown",
   "id": "b806db9b-4541-4b1e-a2e5-b95ee6b7f23b",
   "metadata": {},
   "source": [
    "$pop$-$remove$-$del$"
   ]
  },
  {
   "cell_type": "code",
   "execution_count": 46,
   "id": "78d195a0-3a72-47a4-968a-32ff93bdfbe4",
   "metadata": {},
   "outputs": [
    {
     "data": {
      "text/plain": [
       "[1, 2, 3, 'p', 'y', 't', 'h', 'o', 'n', 'python']"
      ]
     },
     "execution_count": 46,
     "metadata": {},
     "output_type": "execute_result"
    }
   ],
   "source": [
    "#pop\n",
    "list1"
   ]
  },
  {
   "cell_type": "code",
   "execution_count": 50,
   "id": "398456e1-81df-4d25-86b5-4d60388e81e0",
   "metadata": {},
   "outputs": [
    {
     "data": {
      "text/plain": [
       "'h'"
      ]
     },
     "execution_count": 50,
     "metadata": {},
     "output_type": "execute_result"
    }
   ],
   "source": [
    "list1\n",
    "list1.pop(6)"
   ]
  },
  {
   "cell_type": "code",
   "execution_count": 52,
   "id": "c2dc4def-1773-44c4-ab2c-818f7d84b2fd",
   "metadata": {},
   "outputs": [
    {
     "data": {
      "text/plain": [
       "[1, 2, 3, 'p', 'y', 't', 'o', 'n']"
      ]
     },
     "execution_count": 52,
     "metadata": {},
     "output_type": "execute_result"
    }
   ],
   "source": [
    "#remove\n",
    "list1"
   ]
  },
  {
   "cell_type": "code",
   "execution_count": 58,
   "id": "2c15698f-94ec-497b-b8fa-2399486cfdcd",
   "metadata": {},
   "outputs": [],
   "source": [
    "list1.remove(2)"
   ]
  },
  {
   "cell_type": "code",
   "execution_count": 60,
   "id": "4c57d742-ac54-4f92-85e2-2f2bbf05e34b",
   "metadata": {},
   "outputs": [
    {
     "data": {
      "text/plain": [
       "[1, 3, 'p', 'y', 't', 'o', 'n']"
      ]
     },
     "execution_count": 60,
     "metadata": {},
     "output_type": "execute_result"
    }
   ],
   "source": [
    "list1"
   ]
  },
  {
   "cell_type": "code",
   "execution_count": 62,
   "id": "5259b9df-7a00-462f-bd2c-175c87a41dab",
   "metadata": {},
   "outputs": [],
   "source": [
    "#del\n",
    "del(list1)"
   ]
  },
  {
   "cell_type": "code",
   "execution_count": 64,
   "id": "fa8558fd-18ea-4bd9-aae9-78961c00b726",
   "metadata": {},
   "outputs": [
    {
     "ename": "NameError",
     "evalue": "name 'list1' is not defined",
     "output_type": "error",
     "traceback": [
      "\u001b[1;31m---------------------------------------------------------------------------\u001b[0m",
      "\u001b[1;31mNameError\u001b[0m                                 Traceback (most recent call last)",
      "Cell \u001b[1;32mIn[64], line 1\u001b[0m\n\u001b[1;32m----> 1\u001b[0m list1\n",
      "\u001b[1;31mNameError\u001b[0m: name 'list1' is not defined"
     ]
    }
   ],
   "source": [
    "list1"
   ]
  },
  {
   "cell_type": "code",
   "execution_count": null,
   "id": "d7d0e4ee-62b3-4001-bb32-d2b4378ca959",
   "metadata": {},
   "outputs": [],
   "source": [
    "-index  vs multiple\n",
    "\n",
    "-insert  vs append\n",
    "\n",
    "-reverse=========== reversed\n",
    "\n",
    "-sort ============ sorted\n",
    "\n",
    "\n",
    "#get all the differences all the information\n",
    "\n",
    "#share your screenshot"
   ]
  },
  {
   "cell_type": "code",
   "execution_count": 66,
   "id": "c386a39d-2578-481b-83af-d5fb1bc19e50",
   "metadata": {},
   "outputs": [
    {
     "ename": "TypeError",
     "evalue": "insert expected 2 arguments, got 1",
     "output_type": "error",
     "traceback": [
      "\u001b[1;31m---------------------------------------------------------------------------\u001b[0m",
      "\u001b[1;31mTypeError\u001b[0m                                 Traceback (most recent call last)",
      "Cell \u001b[1;32mIn[66], line 2\u001b[0m\n\u001b[0;32m      1\u001b[0m list1\u001b[38;5;241m=\u001b[39m[\u001b[38;5;241m1\u001b[39m,\u001b[38;5;241m2\u001b[39m,\u001b[38;5;241m3\u001b[39m]\n\u001b[1;32m----> 2\u001b[0m list1\u001b[38;5;241m.\u001b[39minsert(\u001b[38;5;241m4\u001b[39m)\n",
      "\u001b[1;31mTypeError\u001b[0m: insert expected 2 arguments, got 1"
     ]
    }
   ],
   "source": [
    "list1=[1,2,3]\n",
    "list1.insert(4)\n"
   ]
  },
  {
   "cell_type": "code",
   "execution_count": 80,
   "id": "222f760c-85a1-43f9-8a6a-0e255f412853",
   "metadata": {},
   "outputs": [
    {
     "name": "stdout",
     "output_type": "stream",
     "text": [
      "Ram age is 25\n",
      "Aasha age is 30\n",
      "Raj age is 35\n"
     ]
    }
   ],
   "source": [
    "list1=['Ram','Aasha','Raj']\n",
    "list2=[25,30,35]\n",
    "#Ram age is 25'\n",
    "\n",
    "for i, j in zip(list1,list2):\n",
    "    print (\"{} age is {}\".format(i,j))"
   ]
  },
  {
   "cell_type": "code",
   "execution_count": 122,
   "id": "61b2bff3-d189-460e-b41e-7a2cab816a35",
   "metadata": {},
   "outputs": [
    {
     "data": {
      "text/plain": [
       "[125, 230, 335]"
      ]
     },
     "execution_count": 122,
     "metadata": {},
     "output_type": "execute_result"
    }
   ],
   "source": [
    "list1=[100,200,300]\n",
    "list2=[25,30,35]\n",
    "output=[i+j for i,j in zip(list1,list2)]\n",
    "output\n",
    "    "
   ]
  },
  {
   "cell_type": "code",
   "execution_count": 6,
   "id": "867b606e-dcbc-4524-be57-dc0f2f77f6b6",
   "metadata": {},
   "outputs": [
    {
     "name": "stdin",
     "output_type": "stream",
     "text": [
      "Enter the answer nura\n"
     ]
    },
    {
     "ename": "TypeError",
     "evalue": "'list' object is not callable",
     "output_type": "error",
     "traceback": [
      "\u001b[1;31m---------------------------------------------------------------------------\u001b[0m",
      "\u001b[1;31mTypeError\u001b[0m                                 Traceback (most recent call last)",
      "Cell \u001b[1;32mIn[6], line 7\u001b[0m\n\u001b[0;32m      4\u001b[0m \u001b[38;5;28;01mfor\u001b[39;00m i \u001b[38;5;129;01min\u001b[39;00m \u001b[38;5;28mrange\u001b[39m(\u001b[38;5;28mlen\u001b[39m(list1)):\n\u001b[0;32m      6\u001b[0m     answer\u001b[38;5;241m=\u001b[39m\u001b[38;5;28minput\u001b[39m(\u001b[38;5;124m\"\u001b[39m\u001b[38;5;124mEnter the answer\u001b[39m\u001b[38;5;124m\"\u001b[39m)\n\u001b[1;32m----> 7\u001b[0m     \u001b[38;5;28;01mif\u001b[39;00m answer\u001b[38;5;241m.\u001b[39mlower()\u001b[38;5;241m==\u001b[39mlist2(i):\n\u001b[0;32m      8\u001b[0m         marks\u001b[38;5;241m+\u001b[39m\u001b[38;5;241m=\u001b[39m\u001b[38;5;241m1\u001b[39m\n\u001b[0;32m      9\u001b[0m     \u001b[38;5;28;01melse\u001b[39;00m:\n",
      "\u001b[1;31mTypeError\u001b[0m: 'list' object is not callable"
     ]
    }
   ],
   "source": [
    "list1=['What is my name?','Where do i live?','What do i do?']\n",
    "list2=['Nura','Pokhara','Nothing']\n",
    "marks=0\n",
    "for i in range(len(list1)):\n",
    "    \n",
    "    answer=input(\"Enter the answer\")\n",
    "    if answer.lower()==list2\n",
    "        marks+=1\n",
    "    else:\n",
    "        print('No marks')\n",
    "    "
   ]
  },
  {
   "cell_type": "markdown",
   "id": "7775bf19-75a2-4722-ad92-ca086915249a",
   "metadata": {},
   "source": [
    "$DAY-30$"
   ]
  },
  {
   "cell_type": "code",
   "execution_count": null,
   "id": "8c1e8424-622b-4cdd-93b9-4a932193c6c0",
   "metadata": {},
   "outputs": [],
   "source": []
  },
  {
   "cell_type": "code",
   "execution_count": null,
   "id": "3cff0348-ffbd-4e80-a890-1a65121748f3",
   "metadata": {},
   "outputs": [],
   "source": []
  },
  {
   "cell_type": "code",
   "execution_count": null,
   "id": "eac7fa7c-4733-442f-99b6-e563f33a0d9e",
   "metadata": {},
   "outputs": [],
   "source": []
  },
  {
   "cell_type": "code",
   "execution_count": null,
   "id": "68d13129-3765-4e4f-84fb-5f01a8393370",
   "metadata": {},
   "outputs": [],
   "source": []
  },
  {
   "cell_type": "code",
   "execution_count": null,
   "id": "14135311-2355-4798-ae3b-f158454708d9",
   "metadata": {},
   "outputs": [],
   "source": []
  }
 ],
 "metadata": {
  "kernelspec": {
   "display_name": "Python [conda env:base] *",
   "language": "python",
   "name": "conda-base-py"
  },
  "language_info": {
   "codemirror_mode": {
    "name": "ipython",
    "version": 3
   },
   "file_extension": ".py",
   "mimetype": "text/x-python",
   "name": "python",
   "nbconvert_exporter": "python",
   "pygments_lexer": "ipython3",
   "version": "3.12.7"
  }
 },
 "nbformat": 4,
 "nbformat_minor": 5
}
