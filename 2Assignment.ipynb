{
 "cells": [
  {
   "cell_type": "markdown",
   "id": "e95222e5-8219-460d-b040-177ff8105386",
   "metadata": {},
   "source": [
    "$Q/N1$"
   ]
  },
  {
   "cell_type": "code",
   "execution_count": 11,
   "id": "da37deaa-2d5c-4c6e-92a9-c42d580653d6",
   "metadata": {},
   "outputs": [
    {
     "name": "stdout",
     "output_type": "stream",
     "text": [
      "The total amount that the firm should pay to employee is $ 444\n"
     ]
    }
   ],
   "source": [
    "worked_hour=37\n",
    "rate=12 #per hour\n",
    "amount=worked_hour*rate\n",
    "print(\"The total amount that the firm should pay to employee is $\",amount)"
   ]
  },
  {
   "cell_type": "markdown",
   "id": "6b9ea27f-a133-4dff-a51a-42cca7df8c38",
   "metadata": {},
   "source": [
    "$Q/N2$"
   ]
  },
  {
   "cell_type": "code",
   "execution_count": null,
   "id": "2dfc2eba-2f1c-4a85-8dcc-81ccbf983718",
   "metadata": {},
   "outputs": [],
   "source": [
    " worked_hour=eval(input(\"Enter the total hour worled by a employee\"))\n",
    "rate=12 #per hour\n",
    "amount=worked_hour*rate\n",
    "print(\"The total amount that the firm should pay to employee is $\",amount)"
   ]
  },
  {
   "cell_type": "markdown",
   "id": "849c1958-5067-4c03-9a08-d818e5efc594",
   "metadata": {},
   "source": [
    "$Q/N3$"
   ]
  },
  {
   "cell_type": "code",
   "execution_count": 2,
   "id": "befdb83e-0533-47cb-a79d-f33c8a61658f",
   "metadata": {},
   "outputs": [
    {
     "name": "stdin",
     "output_type": "stream",
     "text": [
      "Enter the name of students nura\n",
      "ENter the subject name math\n",
      "Enter the marks obtained in Quiz1(out of 20): 17\n",
      "Enter teh amrks obtained inQuiz2(out of 20): 18\n",
      "Enter the marks obtained in class test(out of 50): 45\n",
      "Enter the marks obtained from assignment(out of 100): 90\n",
      "Enter the marks obtained from project(out of 200): 160\n"
     ]
    },
    {
     "name": "stdout",
     "output_type": "stream",
     "text": [
      "The total marks obtained by nura in math is 86.5.\n"
     ]
    }
   ],
   "source": [
    "name=input(\"Enter the name of students\")\n",
    "subject=input(\"ENter the subject name\")\n",
    "quiz1=eval(input(\"Enter the marks obtained in Quiz1(out of 20):\"))\n",
    "quiz2=eval(input(\"Enter teh amrks obtained inQuiz2(out of 20):\"))\n",
    "class_test=eval(input(\"Enter the marks obtained in class test(out of 50):\"))\n",
    "assignment=eval(input(\"Enter the marks obtained from assignment(out of 100):\"))\n",
    "project=eval(input(\"Enter the marks obtained from project(out of 200):\"))\n",
    "\n",
    "#converting in percentage\n",
    "quiz1_per=(quiz1/ 20)*100\n",
    "quiz2_per=(quiz2/20)*100\n",
    "classtest_per=(class_test/50)*100\n",
    "assignment_per=(assignment/100)*100\n",
    "project_per=(project/200)*100\n",
    "\n",
    "Total_marks= quiz1_per*0.1+quiz2_per*0.1+classtest_per*0.25+assignment_per*0.25+project_per*0.30\n",
    "\n",
    "print(\"The total marks obtained by {} in {} is {}%.\".format(name,subject,Total_marks))\n"
   ]
  },
  {
   "cell_type": "markdown",
   "id": "e1ee393f-abaf-41de-ad7b-bd8c2d552547",
   "metadata": {},
   "source": [
    "$Q/N4$"
   ]
  },
  {
   "cell_type": "code",
   "execution_count": 5,
   "id": "a5cace77-c7dc-48c3-b2b3-0d4dc0ff0ebd",
   "metadata": {},
   "outputs": [
    {
     "name": "stdin",
     "output_type": "stream",
     "text": [
      "Enter a five digit number 12345\n"
     ]
    },
    {
     "name": "stdout",
     "output_type": "stream",
     "text": [
      "15\n"
     ]
    }
   ],
   "source": [
    "num=eval(input(\"Enter a five digit number\"))\n",
    "x=0\n",
    "while num>0:\n",
    "    x=x+num%10\n",
    "    num=num//10\n",
    "\n",
    "print(x)\n",
    "    \n",
    "\n"
   ]
  },
  {
   "cell_type": "markdown",
   "id": "80027e0a-2f7b-44a4-843f-cc90ef90e5b7",
   "metadata": {},
   "source": [
    "$Q/N5$"
   ]
  },
  {
   "cell_type": "code",
   "execution_count": null,
   "id": "83788737-06a2-4948-bf86-1e49a217ede0",
   "metadata": {},
   "outputs": [],
   "source": [
    "num=eval(input(\"Enter the five-digit number\"))\n",
    "x=0\n",
    "wh\n"
   ]
  },
  {
   "cell_type": "markdown",
   "id": "78f7e5d2-4fc4-4a38-bc7c-2afb801ac4ac",
   "metadata": {},
   "source": [
    "$Q/N6$\n"
   ]
  },
  {
   "cell_type": "code",
   "execution_count": 4,
   "id": "05f0c3f6-3827-447e-89f7-12db852c452a",
   "metadata": {},
   "outputs": [
    {
     "name": "stdin",
     "output_type": "stream",
     "text": [
      "Enter the name  of the student. 23\n",
      "Ente the marks obtained in quiz1(out of 20) 34\n",
      "Ente the marks obtained in quiz12(out of 20) 4\n"
     ]
    }
   ],
   "source": [
    "name=input(\"Enter the name  of the student.\")\n",
    "q1=eval(input(\"Ente the marks obtained in quiz1(out of 20)\"))\n",
    "q2=eval(input(\"Ente the marks obtained in quiz12(out of 20)\"))\n",
    "ctest=eval(input(\"Ente the marks obtained in class test(out of 50)\"))\n",
    "assign=eval(input(\"Enter the marks obtained in ASSIGNMENT(out of 100)\"))\n",
    "proj=eval(input(\"Enterthe marks obtained in quiz1(out of 200)\"))\n",
    "\n"
   ]
  },
  {
   "cell_type": "code",
   "execution_count": null,
   "id": "1c14e9c5-6380-450c-9c77-7a0b4a1d92a8",
   "metadata": {},
   "outputs": [],
   "source": []
  },
  {
   "cell_type": "code",
   "execution_count": null,
   "id": "c6f1d36f-5ae0-4f7c-9fdc-517ef4db5cf2",
   "metadata": {},
   "outputs": [],
   "source": []
  },
  {
   "cell_type": "code",
   "execution_count": null,
   "id": "bdc656f8-e69e-4d2c-822a-f3562a42054b",
   "metadata": {},
   "outputs": [],
   "source": []
  }
 ],
 "metadata": {
  "kernelspec": {
   "display_name": "Python [conda env:base] *",
   "language": "python",
   "name": "conda-base-py"
  },
  "language_info": {
   "codemirror_mode": {
    "name": "ipython",
    "version": 3
   },
   "file_extension": ".py",
   "mimetype": "text/x-python",
   "name": "python",
   "nbconvert_exporter": "python",
   "pygments_lexer": "ipython3",
   "version": "3.12.7"
  }
 },
 "nbformat": 4,
 "nbformat_minor": 5
}
