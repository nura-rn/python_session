{
 "cells": [
  {
   "cell_type": "code",
   "execution_count": null,
   "id": "b513509e-cbbc-4b61-9556-bc0e11f72f83",
   "metadata": {},
   "outputs": [],
   "source": [
    "#i'm modifying the code"
   ]
  },
  {
   "cell_type": "code",
   "execution_count": 1,
   "id": "dc1a6ee1-a1a8-4d2c-9fd6-9f5ad0dced1f",
   "metadata": {},
   "outputs": [
    {
     "name": "stdin",
     "output_type": "stream",
     "text": [
      "Enter ramesh's basic salary 50000\n"
     ]
    },
    {
     "name": "stdout",
     "output_type": "stream",
     "text": [
      "The gross salary of ramesh is 80000.0\n"
     ]
    }
   ],
   "source": [
    "try:\n",
    "    Basic_salary=eval(input(\"Enter ramesh's basic salary\"))\n",
    "    DA=(40*Basic_salary)/100\n",
    "    HRA=(20*Basic_salary)/100\n",
    "    Gross_salary=Basic_salary+DA+HRA\n",
    "    print(\"The gross salary of ramesh is\",Gross_salary)\n",
    "\n",
    "except exception as er:\n",
    "    print(er)"
   ]
  },
  {
   "cell_type": "markdown",
   "id": "ffeac3d5-844a-4228-a597-b3c8e7add20b",
   "metadata": {},
   "source": [
    "$****Q/N 2****$"
   ]
  },
  {
   "cell_type": "code",
   "execution_count": 3,
   "id": "b8a3e623-3f55-42fb-b2d5-e38aba7ba5cc",
   "metadata": {},
   "outputs": [
    {
     "name": "stdin",
     "output_type": "stream",
     "text": [
      "Enter the distance between two cities in KM: 100\n"
     ]
    },
    {
     "name": "stdout",
     "output_type": "stream",
     "text": [
      "The distance between two cities in meter is 100000\n",
      "The distance between two cities in feet is 328084.0\n",
      "The distance between two cities in inches is 3937008.0\n",
      "The distance between two cities in centimeter is 10000000.32\n"
     ]
    }
   ],
   "source": [
    "try:\n",
    "    Distance=eval(input(\"Enter the distance between two cities in KM:\"))\n",
    "    meter=Distance*1000\n",
    "    print(\"The distance between two cities in meter is\",format(meter))\n",
    "    feet=Distance*3280.84\n",
    "    print(\"The distance between two cities in feet is\",format(feet))\n",
    "    inches=feet*12\n",
    "    print(\"The distance between two cities in inches is\",format(inches))\n",
    "    cm=inches*2.54\n",
    "    print(\"The distance between two cities in centimeter is\",format(cm))\n",
    "\n",
    "except Exception as error:\n",
    "    print(error)\n",
    "    "
   ]
  },
  {
   "cell_type": "markdown",
   "id": "7a4a4c66-7673-46c7-80ee-b6742c406ada",
   "metadata": {},
   "source": [
    "$****Q/N3****$"
   ]
  },
  {
   "cell_type": "code",
   "execution_count": 5,
   "id": "b5456a83-95a6-4781-933b-d438379a536c",
   "metadata": {},
   "outputs": [
    {
     "name": "stdin",
     "output_type": "stream",
     "text": [
      "Enter the marks obtained in math 50\n",
      "Enter the marks obtained in science 90\n",
      "Enter the marks obtained in nepali 80\n",
      "Enter the marks obtained in english 70\n",
      "Enter the marks obtained in social 70\n"
     ]
    },
    {
     "name": "stdout",
     "output_type": "stream",
     "text": [
      "The aggregate marks obtained is  360\n",
      "The total percentage obtained is 72.0 %\n"
     ]
    }
   ],
   "source": [
    "try:\n",
    "    math=eval(input(\"Enter the marks obtained in math\"))\n",
    "    science=eval(input(\"Enter the marks obtained in science\"))\n",
    "    nepali=eval(input(\"Enter the marks obtained in nepali\"))\n",
    "    english=eval(input(\"Enter the marks obtained in english\"))\n",
    "    social=eval(input(\"Enter the marks obtained in social\"))\n",
    "    \n",
    "    agg=math+science+nepali+english+social\n",
    "    print(\"The aggregate marks obtained is \",agg)\n",
    "    \n",
    "    per=(agg/500)*100\n",
    "    print(\"The total percentage obtained is\",per,\"%\")\n",
    "\n",
    "except Exception as error:\n",
    "    print(error)\n",
    "\n"
   ]
  },
  {
   "cell_type": "markdown",
   "id": "5086f266-de7b-420f-94d3-9a89e9cca562",
   "metadata": {},
   "source": [
    "$****Q/N4****$"
   ]
  },
  {
   "cell_type": "code",
   "execution_count": 8,
   "id": "27090eb0-4181-4fdc-b0d9-9aeacae9a6d4",
   "metadata": {},
   "outputs": [
    {
     "name": "stdin",
     "output_type": "stream",
     "text": [
      "Temperature of a city in Fahrenheit degree is 67\n"
     ]
    },
    {
     "name": "stdout",
     "output_type": "stream",
     "text": [
      "The temperatyre in centigrade degree is 19.444444444444443\n"
     ]
    }
   ],
   "source": [
    "try:\n",
    "    fah=eval(input(\"Temperature of a city in Fahrenheit degree is\"))\n",
    "    cen=(fah-32)/1.8\n",
    "    print(\"The temperatyre in centigrade degree is\",cen)\n",
    "\n",
    "except Exception as error:\n",
    "    print(error)\n",
    "    "
   ]
  },
  {
   "cell_type": "markdown",
   "id": "75cf0833-a291-42ea-bac1-bd4fcf00d0a2",
   "metadata": {},
   "source": [
    "$****Q/N5****$"
   ]
  },
  {
   "cell_type": "code",
   "execution_count": 10,
   "id": "b803c1cc-ecd5-422f-ade1-62a72ec3ffc4",
   "metadata": {},
   "outputs": [
    {
     "name": "stdin",
     "output_type": "stream",
     "text": [
      "The length of rectangle is 30\n",
      "The breadth of the rectangle is 20\n"
     ]
    },
    {
     "name": "stdout",
     "output_type": "stream",
     "text": [
      "The area of the rectangle is 600 cm sq.\n",
      "The perimeter of the rectangle is 100 cm\n"
     ]
    },
    {
     "name": "stdin",
     "output_type": "stream",
     "text": [
      "The radius of the circle is 4\n"
     ]
    },
    {
     "name": "stdout",
     "output_type": "stream",
     "text": [
      "The circumstances of cicrlce is 25.12\n",
      "The area of circle is 50.24\n"
     ]
    }
   ],
   "source": [
    "try:\n",
    "    length=eval(input(\"The length of rectangle is\"))\n",
    "    breadth=eval(input(\"The breadth of the rectangle is\"))\n",
    "    area=length*breadth\n",
    "    perimeter=(length+breadth)*2\n",
    "    print(\"The area of the rectangle is\",area,\"cm sq.\")\n",
    "    print(\"The perimeter of the rectangle is\",perimeter,\"cm\")\n",
    "    \n",
    "    r=eval(input(\"The radius of the circle is\"))\n",
    "    circ=2*r*3.14\n",
    "    ar=3.14*r*r\n",
    "    print(\"The circumstances of cicrlce is\",circ)\n",
    "    print(\"The area of circle is\",ar) \n",
    "\n",
    "except Exception as error:\n",
    "    print(error)\n",
    "    "
   ]
  },
  {
   "cell_type": "markdown",
   "id": "88db0ae3-8fd3-42d0-87d5-06784c920b57",
   "metadata": {},
   "source": [
    " $****Q/N6****$\n",
    " "
   ]
  },
  {
   "cell_type": "code",
   "execution_count": 1,
   "id": "15367938-cf2c-458f-a9d4-0779dfdea711",
   "metadata": {},
   "outputs": [
    {
     "name": "stdin",
     "output_type": "stream",
     "text": [
      "Enter the first number 3\n",
      "Enter the second number 5\n"
     ]
    },
    {
     "name": "stdout",
     "output_type": "stream",
     "text": [
      "c is 5\n",
      "d is 3\n"
     ]
    }
   ],
   "source": [
    "try:\n",
    "    c=eval(input(\"Enter the first number\"))\n",
    "    d=eval(input(\"Enter the second number\"))\n",
    "    #swaping values\n",
    "    c,d=d,c\n",
    "    print(\"c is\",c)\n",
    "    print(\"d is\",d)\n",
    "except Exception as error:\n",
    "    print(error)\n",
    "    \n"
   ]
  },
  {
   "cell_type": "markdown",
   "id": "db8212e3-8645-4fae-a2bc-aaf29fa47dcb",
   "metadata": {},
   "source": [
    "$****Q/N7****$"
   ]
  },
  {
   "cell_type": "code",
   "execution_count": 13,
   "id": "a93ab321-6a91-416e-a802-9810aa6a0081",
   "metadata": {},
   "outputs": [
    {
     "name": "stdin",
     "output_type": "stream",
     "text": [
      "Enter the five-digit number 12345\n"
     ]
    },
    {
     "name": "stdout",
     "output_type": "stream",
     "text": [
      "The reverse of number is 54321\n"
     ]
    }
   ],
   "source": [
    "num=eval(input(\"Enter the five-digit number\"))\n",
    "#using reversed function\n",
    "reversed_num=eval(str(num)[::-1])\n",
    "print(\"The reverse of number is\",reversed_num)\n"
   ]
  },
  {
   "cell_type": "markdown",
   "id": "ae466b74-989a-43d3-8d93-c6182980ecbd",
   "metadata": {},
   "source": [
    "$*****Q/N8*****$"
   ]
  },
  {
   "cell_type": "code",
   "execution_count": 35,
   "id": "abaf8905-75b3-47f5-8476-8a8d8d50fd2f",
   "metadata": {},
   "outputs": [
    {
     "name": "stdin",
     "output_type": "stream",
     "text": [
      "Enter the four-digit number 1234\n"
     ]
    },
    {
     "name": "stdout",
     "output_type": "stream",
     "text": [
      "The sum of first and last number is 5\n"
     ]
    }
   ],
   "source": [
    "num=eval(input(\"Enter the four-digit number\"))\n",
    "#using string slicing\n",
    "x=int(str(num)[:1])\n",
    "y=int(str(num)[-1:])\n",
    "sum=x+y\n",
    "print(\"The sum of first and last number is\",sum)\n"
   ]
  },
  {
   "cell_type": "markdown",
   "id": "bcb10c8b-f0a8-4832-aeed-f1ff44b2588e",
   "metadata": {},
   "source": [
    "$Q/N9$"
   ]
  },
  {
   "cell_type": "code",
   "execution_count": 40,
   "id": "34322c95-271d-4354-9dfa-8cf5e4ec9861",
   "metadata": {},
   "outputs": [
    {
     "name": "stdin",
     "output_type": "stream",
     "text": [
      "Total Population is 80000\n"
     ]
    },
    {
     "name": "stdout",
     "output_type": "stream",
     "text": [
      "13600.0\n",
      "28000.0\n"
     ]
    }
   ],
   "source": [
    "#Inthe town\n",
    "tp=eval(input(\"Total Population is\"))\n",
    "men=52/100*tp\n",
    "women=tp-men\n",
    "literate_p=48/100*tp\n",
    "lit_men=35/100*tp\n",
    "lit_women=literate_p-lit_men\n",
    "ill_men=men-lit_men\n",
    "ill_women=women-lit_women\n",
    "print(ill_men)\n",
    "print(ill_women)"
   ]
  },
  {
   "cell_type": "code",
   "execution_count": 54,
   "id": "6423c43f-7225-4d8f-9c22-13a462f97adf",
   "metadata": {},
   "outputs": [
    {
     "name": "stdin",
     "output_type": "stream",
     "text": [
      "Total Population is 80000\n",
      "the total percentage of male is 52\n",
      "the total percentage of female is 48\n"
     ]
    },
    {
     "name": "stdout",
     "output_type": "stream",
     "text": [
      "The total number of men are 52% of total pop. i.e 41600.0\n",
      "The total number of women are 48% of total pop. i.e 38400.0\n"
     ]
    },
    {
     "name": "stdin",
     "output_type": "stream",
     "text": [
      "The total percentage of literate male populatiom is 35\n"
     ]
    },
    {
     "name": "stdout",
     "output_type": "stream",
     "text": [
      "Which means number of literate men is 28000.0 And literate women is 10400.0\n",
      "So the number of illetrate men is 13600.0\n",
      "So the number of illetrate women is 28000.0\n"
     ]
    }
   ],
   "source": [
    "#another method#Inthe town\n",
    "tp=eval(input(\"Total Population is\"))\n",
    "men=eval(input(\"the total percentage of male is\"))\n",
    "women=eval(input(\"the total percentage of female is\"))\n",
    "print(\"The total number of men are {}% of total pop. i.e {}\".format(men,men/100*tp))\n",
    "print(\"The total number of women are {}% of total pop. i.e {}\".format(women,women/100*tp))\n",
    "#the literate men and women finding\n",
    "lit=eval(input(\"The total percentage of literate male populatiom is\"))\n",
    "lit_man=lit/100*80000\n",
    "lit_women=(48/100*80000)-lit_man\n",
    "print(\"Which means number of literate men is\",lit_man, \"And literate women is\",lit_women)\n",
    "\n",
    "#nwo the final answer\n",
    "ill_men=(men/100*tp)-lit_men\n",
    "ill_women=(women/100*tp)-lit_women\n",
    "print(\"So the number of illetrate men is\",ill_men)\n",
    "print(\"So the number of illetrate women is\",ill_women)\n",
    "\n",
    "\n"
   ]
  },
  {
   "cell_type": "markdown",
   "id": "9c908c47-1b68-4513-a8a7-1acc37d8375f",
   "metadata": {},
   "source": [
    "$Q/N10$"
   ]
  },
  {
   "cell_type": "code",
   "execution_count": null,
   "id": "eea50931-2442-4059-ac48-43fa5f138831",
   "metadata": {},
   "outputs": [],
   "source": []
  },
  {
   "cell_type": "code",
   "execution_count": null,
   "id": "40e71a20-7648-46ec-a768-5a2bf38d3a71",
   "metadata": {},
   "outputs": [],
   "source": []
  },
  {
   "cell_type": "code",
   "execution_count": null,
   "id": "e86da9ef-00f8-49a4-be29-065c21a84452",
   "metadata": {},
   "outputs": [],
   "source": []
  },
  {
   "cell_type": "code",
   "execution_count": null,
   "id": "5eac2b43-221c-4291-8525-48e34532b61d",
   "metadata": {},
   "outputs": [],
   "source": []
  }
 ],
 "metadata": {
  "kernelspec": {
   "display_name": "Python [conda env:base] *",
   "language": "python",
   "name": "conda-base-py"
  },
  "language_info": {
   "codemirror_mode": {
    "name": "ipython",
    "version": 3
   },
   "file_extension": ".py",
   "mimetype": "text/x-python",
   "name": "python",
   "nbconvert_exporter": "python",
   "pygments_lexer": "ipython3",
   "version": "3.12.7"
  }
 },
 "nbformat": 4,
 "nbformat_minor": 5
}
