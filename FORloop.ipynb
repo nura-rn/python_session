{
 "cells": [
  {
   "cell_type": "markdown",
   "id": "ae19a2bb-30a8-403c-9425-0cf0d71e09a9",
   "metadata": {},
   "source": [
    "we completed\n",
    "\n",
    "-basic syntax\n",
    "\n",
    "-conditional statements\n",
    "\n",
    "-try-exception\n",
    "\n",
    "-function\n",
    "\n",
    "-loop\n",
    "\n",
    "    -for\n",
    "    \n",
    "    -while"
   ]
  },
  {
   "cell_type": "markdown",
   "id": "15e28da5-e27e-4d53-8ad6-d40c5e4d4f70",
   "metadata": {},
   "source": [
    "$For loop$"
   ]
  },
  {
   "cell_type": "markdown",
   "id": "62e63af7-bd5a-4049-95f9-e334451ec0ac",
   "metadata": {},
   "source": [
    "-you will be the loop\n",
    "\n",
    "-when you will enter into the loop\n",
    "\n",
    "-how much time you'll saty in the loop\n",
    "\n",
    "-how you'll come out of the loop"
   ]
  },
  {
   "cell_type": "code",
   "execution_count": null,
   "id": "7dc9c8dc-2e3e-4dd1-9575-82068c7af29c",
   "metadata": {},
   "outputs": [],
   "source": [
    "-initialization\n",
    "\n",
    "-increment/decrement\n",
    "\n",
    "-condition to stop the loop\n",
    "\n"
   ]
  },
  {
   "cell_type": "code",
   "execution_count": null,
   "id": "83978843-7e0a-4b2f-ab8c-67725d352cd8",
   "metadata": {},
   "outputs": [],
   "source": [
    "#i want to print the ifrst 10 number\n",
    "#initial point: 0\n",
    "#increment\n",
    "#condtion=10\n"
   ]
  },
  {
   "cell_type": "markdown",
   "id": "8e1abcbf-f0d0-4f1f-9032-b375dc70f3a4",
   "metadata": {},
   "source": [
    "$pattern no-1$"
   ]
  },
  {
   "cell_type": "code",
   "execution_count": 6,
   "id": "60adf164-234c-4857-9d7b-33a78234360b",
   "metadata": {},
   "outputs": [
    {
     "name": "stdout",
     "output_type": "stream",
     "text": [
      "0\n",
      "1\n",
      "2\n",
      "3\n",
      "4\n",
      "5\n",
      "6\n",
      "7\n",
      "8\n",
      "9\n"
     ]
    }
   ],
   "source": [
    "for i in range(10):\n",
    "    print(i)"
   ]
  },
  {
   "cell_type": "code",
   "execution_count": 12,
   "id": "7fd4ccd4-d737-4073-9d89-84ca3a170d0e",
   "metadata": {},
   "outputs": [
    {
     "name": "stdout",
     "output_type": "stream",
     "text": [
      "1\n",
      "4\n",
      "9\n",
      "16\n",
      "25\n",
      "36\n",
      "49\n",
      "64\n"
     ]
    }
   ],
   "source": [
    "for i in range(1,9):\n",
    "    i=i*i\n",
    "    print(i)"
   ]
  },
  {
   "cell_type": "code",
   "execution_count": 16,
   "id": "ce7ecc51-5d9d-4429-ba3e-a7d7e8fd76dc",
   "metadata": {},
   "outputs": [
    {
     "name": "stdout",
     "output_type": "stream",
     "text": [
      "0 1 2 3 4 5 6 7 8 9 10 11 12 13 14 15 16 17 18 19 "
     ]
    }
   ],
   "source": [
    "for i in range(20):\n",
    "    print(i,end=' ')"
   ]
  },
  {
   "cell_type": "markdown",
   "id": "3eafaf66-e3f5-4291-87d7-bc88aa1e9532",
   "metadata": {},
   "source": [
    "$$Pattern 3$$"
   ]
  },
  {
   "cell_type": "code",
   "execution_count": 20,
   "id": "46b656ac-dadc-4f73-b24a-2272c89ea7c4",
   "metadata": {},
   "outputs": [
    {
     "name": "stdout",
     "output_type": "stream",
     "text": [
      "3\n",
      "4\n",
      "5\n",
      "6\n",
      "7\n",
      "8\n",
      "9\n"
     ]
    }
   ],
   "source": [
    "for i in range(3,10):\n",
    "    print(i)\n",
    "\n",
    "#start=3 pos end=10-1"
   ]
  },
  {
   "cell_type": "code",
   "execution_count": 22,
   "id": "4fd4e94e-2ef9-404e-8999-989263c489d8",
   "metadata": {},
   "outputs": [
    {
     "name": "stdout",
     "output_type": "stream",
     "text": [
      "3 4 5 6 7 8 9 "
     ]
    }
   ],
   "source": [
    "\n",
    "for i in range(3,10):\n",
    "    print(i,end=' ')"
   ]
  },
  {
   "cell_type": "markdown",
   "id": "457cdbea-8dea-4e1a-87d2-77fcf2b7718a",
   "metadata": {},
   "source": [
    "$$PATTERN-3$$"
   ]
  },
  {
   "cell_type": "code",
   "execution_count": 25,
   "id": "e15d0405-c9f0-49d0-a4d5-2e53e9349062",
   "metadata": {},
   "outputs": [
    {
     "name": "stdout",
     "output_type": "stream",
     "text": [
      "2 4 6 8 10 12 14 16 18 "
     ]
    }
   ],
   "source": [
    "for i in range(2,20,2):\n",
    "    print(i,end=' ')\n",
    "\n",
    "#start from 2\n",
    "#direction: step size=+2\n",
    "#end = stop-1=20-1=19\n",
    "\n",
    "#2 4 6 8 10......18"
   ]
  },
  {
   "cell_type": "code",
   "execution_count": 35,
   "id": "bcd48e72-fa7d-44a0-b450-02b5ede65404",
   "metadata": {},
   "outputs": [
    {
     "name": "stdout",
     "output_type": "stream",
     "text": [
      "-1 -2 -3 -4 -5 -6 -7 -8 -9 "
     ]
    }
   ],
   "source": [
    "for i in range(-1,-10,-1):\n",
    "    print(i,end=' ')\n",
    "\n",
    "# start=-1\n",
    "#direction: step=-1 negative\n",
    "#end= stop+1 = -10+1=-9\n",
    " "
   ]
  },
  {
   "cell_type": "code",
   "execution_count": 37,
   "id": "74bbd64d-685f-4d64-952a-5d8141722670",
   "metadata": {},
   "outputs": [],
   "source": [
    "for i in range(-1,-10,1):\n",
    "    print(i,end=' ')\n",
    "\n",
    "#start= -1\n",
    "#direction; step=1 positive\n",
    "#end=stop-1=-10-1=-11\n",
    "#its direction is forward so it wont meet"
   ]
  },
  {
   "cell_type": "code",
   "execution_count": 45,
   "id": "01e58895-42df-4c76-ac9c-46613ada36e9",
   "metadata": {},
   "outputs": [],
   "source": [
    "for i in range(8,20,-2):\n",
    "    print(i)\n",
    "\n"
   ]
  },
  {
   "cell_type": "code",
   "execution_count": null,
   "id": "9f4d81fa-514c-418a-8300-6eb6a20f5697",
   "metadata": {},
   "outputs": [],
   "source": [
    "range(3,25,3) #correct\n",
    "range(3,25,-3)#,incorect\n",
    "range(3,-25,3)#incorrect\n",
    "range(3,-25,-3)#correct\n",
    "range(-3,25,3)#correct\n",
    "range(-3,-25,3)#incorrect\n",
    "range(-3,25,-3)#incorrect\n",
    "range(-3,-25,-3)#correct"
   ]
  },
  {
   "cell_type": "markdown",
   "id": "17324878-5ce7-41a9-b333-f4f0c234c7b1",
   "metadata": {},
   "source": [
    "$$DAY-21$$"
   ]
  },
  {
   "cell_type": "code",
   "execution_count": 8,
   "id": "87b08147-fd49-42a8-a6f3-42ba33f8f5fd",
   "metadata": {},
   "outputs": [
    {
     "name": "stdout",
     "output_type": "stream",
     "text": [
      "Hello\n",
      "Hello\n",
      "Hello\n"
     ]
    }
   ],
   "source": [
    "#WAP to print hello 3 times\n",
    "for i in range(3):\n",
    "    print(\"Hello\")\n"
   ]
  },
  {
   "cell_type": "code",
   "execution_count": 12,
   "id": "6415a92f-24d2-45c8-a05e-99c549fc67a8",
   "metadata": {},
   "outputs": [
    {
     "name": "stdout",
     "output_type": "stream",
     "text": [
      "A\n",
      "A\n",
      "A\n",
      "B\n",
      "B\n",
      "C\n",
      "C\n",
      "C\n"
     ]
    }
   ],
   "source": [
    "#AAABBCCC\n",
    "for i in range(3):\n",
    "    print(\"A\")\n",
    "\n",
    "for i in range(2):\n",
    "    print(\"B\")\n",
    "\n",
    "for i in range(3):\n",
    "    print(\"C\")"
   ]
  },
  {
   "cell_type": "code",
   "execution_count": 14,
   "id": "bc294b7b-9e0e-4ae4-98ad-921d2e5e7921",
   "metadata": {},
   "outputs": [
    {
     "name": "stdout",
     "output_type": "stream",
     "text": [
      "A\n",
      "B\n",
      "A\n",
      "B\n",
      "A\n",
      "B\n",
      "C\n",
      "C\n",
      "C\n"
     ]
    }
   ],
   "source": [
    "#ABABABCCC\n",
    "for i in range(3):\n",
    "    print(\"A\")\n",
    "    print(\"B\")\n",
    "\n",
    "for i in range(3):\n",
    "    print(\"C\")\n",
    "    "
   ]
  },
  {
   "cell_type": "code",
   "execution_count": 18,
   "id": "8afaab41-ae15-4b41-a823-5560b94e8383",
   "metadata": {},
   "outputs": [
    {
     "name": "stdout",
     "output_type": "stream",
     "text": [
      "The square of 10 is 100\n",
      "The square of 11 is 121\n",
      "The square of 12 is 144\n",
      "The square of 13 is 169\n",
      "The square of 14 is 196\n",
      "The square of 15 is 225\n"
     ]
    }
   ],
   "source": [
    "#WAP ask the user to get the square of the numbers\n",
    "#between 10 to 15\n",
    "for i in range(10,16):\n",
    "    print(\"The square of {} is {}\".format(i,i*i))"
   ]
  },
  {
   "cell_type": "code",
   "execution_count": 22,
   "id": "6a4b9a2c-8af5-4b91-a5aa-ad7e90356a4b",
   "metadata": {},
   "outputs": [
    {
     "name": "stdin",
     "output_type": "stream",
     "text": [
      "Enter the start number 10\n",
      "Enter the stop number 16\n"
     ]
    },
    {
     "name": "stdout",
     "output_type": "stream",
     "text": [
      "The square of 10 is 100\n",
      "The square of 11 is 121\n",
      "The square of 12 is 144\n",
      "The square of 13 is 169\n",
      "The square of 14 is 196\n",
      "The square of 15 is 225\n"
     ]
    }
   ],
   "source": [
    "#Replace 10,16 in loop with variables num1,num2\n",
    "num1=eval(input(\"Enter the start number\"))\n",
    "num2=eval(input(\"Enter the stop number\"))\n",
    "\n",
    "for i in range(num1,num2):\n",
    "        print(\"The square of {} is {}\".format(i,i*i))\n",
    "    "
   ]
  },
  {
   "cell_type": "code",
   "execution_count": 24,
   "id": "8326b007-cb88-4d7d-890f-765d27a2657d",
   "metadata": {},
   "outputs": [
    {
     "name": "stdin",
     "output_type": "stream",
     "text": [
      "Enter the start number 10\n",
      "Enter the stop number 17\n"
     ]
    },
    {
     "name": "stdout",
     "output_type": "stream",
     "text": [
      "The square of 10 is 100\n",
      "The square of 11 is 121\n",
      "The square of 12 is 144\n",
      "The square of 13 is 169\n",
      "The square of 14 is 196\n",
      "The square of 15 is 225\n",
      "The square of 16 is 256\n"
     ]
    }
   ],
   "source": [
    "#function without arguments\n",
    "def square():\n",
    "    num1=eval(input(\"Enter the start number\"))\n",
    "    num2=eval(input(\"Enter the stop number\"))\n",
    "    \n",
    "    for i in range(num1,num2):\n",
    "            print(\"The square of {} is {}\".format(i,i*i))\n",
    "\n",
    "\n",
    "square()\n",
    "        "
   ]
  },
  {
   "cell_type": "code",
   "execution_count": 32,
   "id": "1ca1c7ff-3492-4a10-bfd1-7dff93ea0d6b",
   "metadata": {},
   "outputs": [
    {
     "name": "stdout",
     "output_type": "stream",
     "text": [
      "The square of 10 is 100\n",
      "The square of 11 is 121\n",
      "The square of 12 is 144\n",
      "The square of 13 is 169\n",
      "The square of 14 is 196\n",
      "The square of 15 is 225\n"
     ]
    }
   ],
   "source": [
    "def sq(num11,num22):\n",
    "    for i in range(num11,num22):\n",
    "        print(\"The square of {} is {}\".format(i,i*i))\n",
    "\n",
    "sq(10,16)\n",
    "    "
   ]
  },
  {
   "cell_type": "code",
   "execution_count": 46,
   "id": "f9406d97-bb8e-4488-a1db-b1a9130b5798",
   "metadata": {},
   "outputs": [
    {
     "name": "stdin",
     "output_type": "stream",
     "text": [
      "Enter a number 3\n"
     ]
    },
    {
     "name": "stdout",
     "output_type": "stream",
     "text": [
      "The sqaure of the 3 is9\n"
     ]
    },
    {
     "name": "stdin",
     "output_type": "stream",
     "text": [
      "Enter a number 3\n"
     ]
    },
    {
     "name": "stdout",
     "output_type": "stream",
     "text": [
      "The sqaure of the 3 is9\n"
     ]
    },
    {
     "name": "stdin",
     "output_type": "stream",
     "text": [
      "Enter a number 3\n"
     ]
    },
    {
     "name": "stdout",
     "output_type": "stream",
     "text": [
      "The sqaure of the 3 is9\n"
     ]
    },
    {
     "name": "stdin",
     "output_type": "stream",
     "text": [
      "Enter a number 3\n"
     ]
    },
    {
     "name": "stdout",
     "output_type": "stream",
     "text": [
      "The sqaure of the 3 is9\n"
     ]
    }
   ],
   "source": [
    "for i in range(1,5):\n",
    "    num=eval(input(\"Enter a number\"))\n",
    "    print(\"The sqaure of the {} is{}\".format(num,num*num))"
   ]
  },
  {
   "cell_type": "code",
   "execution_count": 48,
   "id": "cfafa309-ff2a-44b0-bfd7-32292be4324b",
   "metadata": {},
   "outputs": [
    {
     "name": "stdout",
     "output_type": "stream",
     "text": [
      "The square of 7 is 49\n",
      "The square of 3 is 9\n",
      "The square of 17 is 289\n",
      "The square of 7 is 49\n",
      "The square of 19 is 361\n"
     ]
    }
   ],
   "source": [
    "#WAP to ask user to print five times square of a number\n",
    "#this time you need to take every tiem a random number between 1 to 20\n",
    "import random\n",
    "for i in range(5):\n",
    "    x=random.randint(1,20)\n",
    "    print(\"The square of {} is {}\".format(x,x*x))"
   ]
  },
  {
   "cell_type": "code",
   "execution_count": null,
   "id": "430bf7c9-e13e-4490-9431-9924357f844e",
   "metadata": {},
   "outputs": [],
   "source": [
    "#WAP ask the user to print the given number is even or odd\n",
    "#you need to take the number between 10 30\n",
    "#iterate the loop between 10 and 30\n",
    "\n",
    "for i in range(6):\n",
    "    i=eval(input(\"Enter the number\"))\n",
    "    if i%2==0:\n",
    "        print(\"The number {} is even\".format(i))\n",
    "\n",
    "    else:\n",
    "        print(\"The number {} is odd\".format(i))"
   ]
  },
  {
   "cell_type": "code",
   "execution_count": 56,
   "id": "b3843468-543a-4160-b6b8-711a41f738dc",
   "metadata": {},
   "outputs": [
    {
     "name": "stdout",
     "output_type": "stream",
     "text": [
      "The number 22 is even\n",
      "The number 15 is odd\n",
      "The number 26 is even\n",
      "The number 13 is odd\n",
      "The number 24 is even\n"
     ]
    }
   ],
   "source": [
    "for i in range(5):\n",
    "    i=random.randint(10,30)\n",
    "    if i%2==0:\n",
    "        print(\"The number {} is even\".format(i))\n",
    "\n",
    "    else:\n",
    "        print(\"The number {} is odd\".format(i))"
   ]
  },
  {
   "cell_type": "code",
   "execution_count": 64,
   "id": "3276cb54-19ac-484e-b5e1-cc5e51d48bdb",
   "metadata": {},
   "outputs": [
    {
     "name": "stdout",
     "output_type": "stream",
     "text": [
      "The number 13 is odd\n",
      "The number 25 is odd\n",
      "The number 15 is odd\n",
      "The number 27 is odd\n",
      "The number 30 is even\n"
     ]
    }
   ],
   "source": [
    "def even_odd(i):\n",
    "        if i%2==0:\n",
    "            print(\"The number {} is even\".format(i))\n",
    "\n",
    "        else:\n",
    "            print(\"The number {} is odd\".format(i))\n",
    "\n",
    "for i in range(5):\n",
    "    i=random.randint(10,30)\n",
    "    even_odd(i)\n",
    "    "
   ]
  },
  {
   "cell_type": "markdown",
   "id": "7b4f434a-b563-410e-b9d7-cfb086c14c08",
   "metadata": {},
   "source": [
    "$q/n1"
   ]
  },
  {
   "cell_type": "code",
   "execution_count": 83,
   "id": "4bd4c7c2-2397-448b-bc49-fa677448164a",
   "metadata": {},
   "outputs": [
    {
     "name": "stdin",
     "output_type": "stream",
     "text": [
      "Enter a Number 4\n"
     ]
    },
    {
     "name": "stdout",
     "output_type": "stream",
     "text": [
      "You won\n"
     ]
    }
   ],
   "source": [
    "import random\n",
    "x=random.randint(1,10)\n",
    "\n",
    "for i in range(3):\n",
    "    y=eval(input(\"Enter a Number\"))\n",
    "    if x==y:\n",
    "        print(\"You won\")\n",
    "        break\n",
    "\n",
    "    else:\n",
    "        print(\"You lost\")"
   ]
  },
  {
   "cell_type": "markdown",
   "id": "3e14ff4e-3728-4d74-9872-9704161b3d2a",
   "metadata": {},
   "source": [
    "$Q/N2$"
   ]
  },
  {
   "cell_type": "code",
   "execution_count": 102,
   "id": "5b608582-fd33-4874-a454-ac71646eb8b5",
   "metadata": {},
   "outputs": [
    {
     "name": "stdin",
     "output_type": "stream",
     "text": [
      "Enter the number of chances you wanna give 3\n",
      "Enter a Number 7\n"
     ]
    },
    {
     "name": "stdout",
     "output_type": "stream",
     "text": [
      "You lost\n",
      "The number of chance left is 2\n"
     ]
    },
    {
     "name": "stdin",
     "output_type": "stream",
     "text": [
      "Enter a Number 8\n"
     ]
    },
    {
     "name": "stdout",
     "output_type": "stream",
     "text": [
      "You lost\n",
      "The number of chance left is 1\n"
     ]
    },
    {
     "name": "stdin",
     "output_type": "stream",
     "text": [
      "Enter a Number 6\n"
     ]
    },
    {
     "name": "stdout",
     "output_type": "stream",
     "text": [
      "You lost\n",
      "The number of chance left is 0\n"
     ]
    }
   ],
   "source": [
    "import random\n",
    "x=random.randint(1,10)\n",
    "chances=eval(input(\"Enter the number of chances you wanna give\"))\n",
    "for i in range(chances):\n",
    "    y=eval(input(\"Enter a Number\"))\n",
    "    if x==y:\n",
    "        print(\"You won\")\n",
    "        break\n",
    "\n",
    "    else:\n",
    "        print(\"You lost\")\n",
    "        print(\"The number of chance left is\",chances-1-i)\n",
    "        "
   ]
  },
  {
   "cell_type": "markdown",
   "id": "46f1860e-0300-4245-86bf-8f77832d9d91",
   "metadata": {},
   "source": [
    "$Q/N3$"
   ]
  },
  {
   "cell_type": "code",
   "execution_count": 106,
   "id": "74656226-5638-404c-9938-2e32129941d3",
   "metadata": {},
   "outputs": [
    {
     "name": "stdin",
     "output_type": "stream",
     "text": [
      "Enter the number of chances you wanna give 2\n",
      "Enter a Number 5\n"
     ]
    },
    {
     "name": "stdout",
     "output_type": "stream",
     "text": [
      "You lost\n",
      "The number of chance left is 1\n"
     ]
    },
    {
     "name": "stdin",
     "output_type": "stream",
     "text": [
      "Enter a Number 6\n"
     ]
    },
    {
     "name": "stdout",
     "output_type": "stream",
     "text": [
      "Getttt lostttt\n"
     ]
    }
   ],
   "source": [
    "import random\n",
    "x=random.randint(1,10)\n",
    "chances=eval(input(\"Enter the number of chances you wanna give\"))\n",
    "for i in range(chances):\n",
    "    y=eval(input(\"Enter a Number\"))\n",
    "    if x==y:\n",
    "        print(\"You won\")\n",
    "        break\n",
    "    elif chances-1-i==0:\n",
    "        print(\"Getttt lostttt\")\n",
    "    else:\n",
    "        print(\"You lost\")\n",
    "        print(\"The number of chance left is\",chances-1-i)\n",
    "        "
   ]
  },
  {
   "cell_type": "markdown",
   "id": "efffa01f-2be9-4666-b4b1-c5ed37651e99",
   "metadata": {},
   "source": [
    "$$DAY-22$$"
   ]
  },
  {
   "cell_type": "code",
   "execution_count": null,
   "id": "3a746ff1-77b8-45c6-a8b1-0b1dc97f448b",
   "metadata": {},
   "outputs": [],
   "source": [
    "#WAP ask the user to get bthe sum of 10 natural numbers\n"
   ]
  },
  {
   "cell_type": "code",
   "execution_count": 11,
   "id": "e99a614a-4a6a-4597-a5e2-0101a91814b7",
   "metadata": {},
   "outputs": [
    {
     "name": "stdout",
     "output_type": "stream",
     "text": [
      "The sum of 0 and 1 is\n",
      "1\n",
      "The sum of 1 and 2 is\n",
      "3\n",
      "The sum of 3 and 3 is\n",
      "6\n",
      "The sum of 6 and 4 is\n",
      "10\n",
      "The sum of 10 and 5 is\n",
      "15\n",
      "The sum of 15 and 6 is\n",
      "21\n",
      "The sum of 21 and 7 is\n",
      "28\n",
      "The sum of 28 and 8 is\n",
      "36\n",
      "The sum of 36 and 9 is\n",
      "45\n",
      "The sum of 45 and 10 is\n",
      "55\n",
      "The sum of first 10 natural number is 55\n"
     ]
    }
   ],
   "source": [
    "#Q/N1\n",
    "summ=0\n",
    "for i in range(1,11):\n",
    "    print(\"The sum of {} and {} is\".format(summ,i))\n",
    "    summ= summ+i\n",
    "    print(summ)\n",
    "\n",
    "print(\"The sum of first 10 natural number is\",summ)\n"
   ]
  },
  {
   "cell_type": "code",
   "execution_count": 17,
   "id": "0ebc4bc4-b584-4e00-aaf3-ff0a579ea4d7",
   "metadata": {},
   "outputs": [
    {
     "name": "stdout",
     "output_type": "stream",
     "text": [
      "0\n",
      "1\n",
      "2\n",
      "3\n",
      "4\n",
      "5\n",
      "6\n",
      "7\n",
      "8\n",
      "9\n"
     ]
    },
    {
     "data": {
      "text/plain": [
       "9"
      ]
     },
     "execution_count": 17,
     "metadata": {},
     "output_type": "execute_result"
    }
   ],
   "source": [
    "for i in range(10):\n",
    "    summ=i\n",
    "    print(summ)\n",
    "\n",
    "summ"
   ]
  },
  {
   "cell_type": "code",
   "execution_count": 29,
   "id": "afc492be-3c8a-4082-a70b-3f0497a2a4f0",
   "metadata": {},
   "outputs": [
    {
     "name": "stdout",
     "output_type": "stream",
     "text": [
      "The 16 is even number\n",
      "The 18 is even number\n",
      "The 10 is even number\n",
      "The 11 is odd number\n",
      "The 24 is even number\n",
      "The number of even numbers are  4\n",
      "The number of odd numbers are 1\n"
     ]
    }
   ],
   "source": [
    "import random\n",
    "count=0\n",
    "countt=0\n",
    "for i in range(5):\n",
    "    i=random.randint(10,30)\n",
    "    if i%2==0:\n",
    "        print(\"The {} is even number\".format(i))\n",
    "        count+=1\n",
    "    else:\n",
    "        print(\"The {} is odd number\".format(i))\n",
    "        countt+=1\n",
    "\n",
    "print(\"The number of even numbers are \",count)\n",
    "print(\"The number of odd numbers are\",countt)"
   ]
  },
  {
   "cell_type": "code",
   "execution_count": 38,
   "id": "00e86a1a-8735-4741-a920-3adf6cf2561c",
   "metadata": {},
   "outputs": [
    {
     "name": "stdin",
     "output_type": "stream",
     "text": [
      "Enter the random number between 1 to 99 56\n",
      "Enter the random number between 1 to 99 89\n",
      "Enter the random number between 1 to 99 90\n",
      "Enter the random number between 1 to 99 78\n",
      "Enter the random number between 1 to 99 54\n",
      "Enter the random number between 1 to 99 35\n",
      "Enter the random number between 1 to 99 56\n",
      "Enter the random number between 1 to 99 45\n",
      "Enter the random number between 1 to 99 56\n",
      "Enter the random number between 1 to 99 34\n"
     ]
    },
    {
     "name": "stdout",
     "output_type": "stream",
     "text": [
      "The number greater than 50 are 7\n"
     ]
    }
   ],
   "source": [
    "count=0\n",
    "for i in range(10):\n",
    "    num=eval(input(\"Enter the random number between 1 to 99\"))\n",
    "    if num>50:\n",
    "        count+=1\n",
    "\n",
    "    else:\n",
    "        sorry='opps'\n",
    " \n",
    "print(\"The number greater than 50 are\",count)       "
   ]
  },
  {
   "cell_type": "markdown",
   "id": "27f95438-2fb6-4752-b74d-2294f46f170f",
   "metadata": {},
   "source": [
    "$Q/N4$"
   ]
  },
  {
   "cell_type": "code",
   "execution_count": 45,
   "id": "00a6d7bc-2ea7-4f97-b4a7-3514e5e95d7e",
   "metadata": {},
   "outputs": [
    {
     "name": "stdin",
     "output_type": "stream",
     "text": [
      "Enter which number's divisors you wanna know: 5\n"
     ]
    },
    {
     "name": "stdout",
     "output_type": "stream",
     "text": [
      "5 is divisible by 1\n",
      "5 is not divisible by 2\n",
      "5 is not divisible by 3\n",
      "5 is not divisible by 4\n",
      "5 is divisible by 5\n",
      "5 is divisible by 2 number\n",
      "5 is divisible by 3 number\n"
     ]
    }
   ],
   "source": [
    "x=eval(input(\"Enter which number's divisors you wanna know:\"))\n",
    "count=0\n",
    "county=0\n",
    "for i in range(1,x+1):\n",
    "    if x%i==0:\n",
    "        print(\"{} is divisible by {}\".format(x,i))\n",
    "        count+=1\n",
    "\n",
    "    else:\n",
    "        print(\"{} is not divisible by {}\".format(x,i))\n",
    "        county+=1\n",
    "\n",
    "print(\"{} is divisible by {} number\".format(x,count))\n",
    "print(\"{} is divisible by {} number\".format(x,county))\n",
    "\n",
    "\n",
    "\n",
    "    "
   ]
  },
  {
   "cell_type": "code",
   "execution_count": 47,
   "id": "f523d02e-5ac5-4d5c-ad5d-0478fd69d5e2",
   "metadata": {},
   "outputs": [
    {
     "name": "stdin",
     "output_type": "stream",
     "text": [
      "Enter which number's divisors you wanna know: 5\n"
     ]
    },
    {
     "name": "stdout",
     "output_type": "stream",
     "text": [
      "5 is divisible by 1\n",
      "5 is not divisible by 2\n",
      "5 is not divisible by 3\n",
      "5 is not divisible by 4\n",
      "5 is divisible by 5\n",
      "5 is divisible by 2 number\n",
      "5 is divisible by 3 number\n"
     ]
    }
   ],
   "source": [
    "def divisible():\n",
    "    x=eval(input(\"Enter which number's divisors you wanna know:\"))\n",
    "    count=0\n",
    "    county=0\n",
    "    for i in range(1,x+1):\n",
    "        if x%i==0:\n",
    "            print(\"{} is divisible by {}\".format(x,i))\n",
    "            count+=1\n",
    "    \n",
    "        else:\n",
    "            print(\"{} is not divisible by {}\".format(x,i))\n",
    "            county+=1\n",
    "\n",
    "    print(\"{} is divisible by {} number\".format(x,count))\n",
    "    print(\"{} is divisible by {} number\".format(x,county))\n",
    "\n",
    "\n",
    "divisible()\n",
    "\n",
    "\n",
    "    \n"
   ]
  },
  {
   "cell_type": "code",
   "execution_count": 63,
   "id": "16d165dd-bb5f-44aa-b09a-676cf3fd8b0f",
   "metadata": {},
   "outputs": [
    {
     "name": "stdin",
     "output_type": "stream",
     "text": [
      "Enter which number's divisors you wanna know: 5\n"
     ]
    },
    {
     "name": "stdout",
     "output_type": "stream",
     "text": [
      "5 is divisible by 1\n"
     ]
    },
    {
     "ename": "UnboundLocalError",
     "evalue": "cannot access local variable 'count' where it is not associated with a value",
     "output_type": "error",
     "traceback": [
      "\u001b[1;31m---------------------------------------------------------------------------\u001b[0m",
      "\u001b[1;31mUnboundLocalError\u001b[0m                         Traceback (most recent call last)",
      "Cell \u001b[1;32mIn[63], line 17\u001b[0m\n\u001b[0;32m     14\u001b[0m         \u001b[38;5;28mprint\u001b[39m(\u001b[38;5;124m\"\u001b[39m\u001b[38;5;132;01m{}\u001b[39;00m\u001b[38;5;124m is divisible by \u001b[39m\u001b[38;5;132;01m{}\u001b[39;00m\u001b[38;5;124m number\u001b[39m\u001b[38;5;124m\"\u001b[39m\u001b[38;5;241m.\u001b[39mformat(x,count))\n\u001b[0;32m     15\u001b[0m         \u001b[38;5;28mprint\u001b[39m(\u001b[38;5;124m\"\u001b[39m\u001b[38;5;132;01m{}\u001b[39;00m\u001b[38;5;124m is divisible by \u001b[39m\u001b[38;5;132;01m{}\u001b[39;00m\u001b[38;5;124m number\u001b[39m\u001b[38;5;124m\"\u001b[39m\u001b[38;5;241m.\u001b[39mformat(x,county))\n\u001b[1;32m---> 17\u001b[0m divi()\n",
      "Cell \u001b[1;32mIn[63], line 8\u001b[0m, in \u001b[0;36mdivi\u001b[1;34m()\u001b[0m\n\u001b[0;32m      6\u001b[0m \u001b[38;5;28;01mif\u001b[39;00m x\u001b[38;5;241m%\u001b[39mi\u001b[38;5;241m==\u001b[39m\u001b[38;5;241m0\u001b[39m:\n\u001b[0;32m      7\u001b[0m     \u001b[38;5;28mprint\u001b[39m(\u001b[38;5;124m\"\u001b[39m\u001b[38;5;132;01m{}\u001b[39;00m\u001b[38;5;124m is divisible by \u001b[39m\u001b[38;5;132;01m{}\u001b[39;00m\u001b[38;5;124m\"\u001b[39m\u001b[38;5;241m.\u001b[39mformat(x,i))\n\u001b[1;32m----> 8\u001b[0m     count\u001b[38;5;241m+\u001b[39m\u001b[38;5;241m=\u001b[39m\u001b[38;5;241m1\u001b[39m\n\u001b[0;32m     10\u001b[0m \u001b[38;5;28;01melse\u001b[39;00m:\n\u001b[0;32m     11\u001b[0m     \u001b[38;5;28mprint\u001b[39m(\u001b[38;5;124m\"\u001b[39m\u001b[38;5;132;01m{}\u001b[39;00m\u001b[38;5;124m is not divisible by \u001b[39m\u001b[38;5;132;01m{}\u001b[39;00m\u001b[38;5;124m\"\u001b[39m\u001b[38;5;241m.\u001b[39mformat(x,i))\n",
      "\u001b[1;31mUnboundLocalError\u001b[0m: cannot access local variable 'count' where it is not associated with a value"
     ]
    }
   ],
   "source": [
    "x=eval(input(\"Enter which number's divisors you wanna know:\"))\n",
    "count=0\n",
    "county=0\n",
    "def divi():\n",
    "    for i in range(1,x+1):\n",
    "        if x%i==0:\n",
    "            print(\"{} is divisible by {}\".format(x,i))\n",
    "            count+=1\n",
    "        \n",
    "        else:\n",
    "            print(\"{} is not divisible by {}\".format(x,i))\n",
    "            county+=1\n",
    "    \n",
    "        print(\"{} is divisible by {} number\".format(x,count))\n",
    "        print(\"{} is divisible by {} number\".format(x,county))\n",
    "    \n",
    "divi()\n"
   ]
  },
  {
   "cell_type": "code",
   "execution_count": 65,
   "id": "07479b25-06a0-46ef-a8c9-3c380efacaf6",
   "metadata": {},
   "outputs": [
    {
     "name": "stdin",
     "output_type": "stream",
     "text": [
      "Enter which number's divisors you wanna know: 6\n"
     ]
    },
    {
     "name": "stdout",
     "output_type": "stream",
     "text": [
      "6 is divisible by 1\n",
      "6 is divisible by 1 number\n",
      "6 is divisible by 0 number\n",
      "6 is divisible by 2\n",
      "6 is divisible by 2 number\n",
      "6 is divisible by 0 number\n",
      "6 is divisible by 3\n",
      "6 is divisible by 3 number\n",
      "6 is divisible by 0 number\n",
      "6 is not divisible by 4\n",
      "6 is divisible by 3 number\n",
      "6 is divisible by 1 number\n",
      "6 is not divisible by 5\n",
      "6 is divisible by 3 number\n",
      "6 is divisible by 2 number\n",
      "6 is divisible by 6\n",
      "6 is divisible by 4 number\n",
      "6 is divisible by 2 number\n"
     ]
    }
   ],
   "source": [
    "x=eval(input(\"Enter which number's divisors you wanna know:\"))\n",
    "count=0\n",
    "county=0\n",
    "def divi():\n",
    "    count=0\n",
    "    county=0\n",
    "\n",
    "    for i in range(1,x+1):\n",
    "        if x%i==0:\n",
    "            print(\"{} is divisible by {}\".format(x,i))\n",
    "            count+=1\n",
    "        \n",
    "        else:\n",
    "            print(\"{} is not divisible by {}\".format(x,i))\n",
    "            county+=1\n",
    "    \n",
    "    \n",
    "divi()\n"
   ]
  },
  {
   "cell_type": "code",
   "execution_count": 77,
   "id": "f7042370-e874-4dab-8b0b-42f21e00a3f8",
   "metadata": {},
   "outputs": [
    {
     "name": "stdin",
     "output_type": "stream",
     "text": [
      "Enter the number which divisor you wanna know 5\n"
     ]
    },
    {
     "name": "stdout",
     "output_type": "stream",
     "text": [
      "The 5 is divisible by 1\n",
      "The 5 is not divisible by 2\n",
      "The 5 is not divisible by 3\n",
      "The 5 is not divisible by 4\n",
      "The 5 is divisible by 5\n",
      "2 3\n"
     ]
    }
   ],
   "source": [
    "nur=eval(input(\"Enter the number which divisor you wanna know\"))\n",
    "\n",
    "def fun():\n",
    "    cnt=0\n",
    "    cntr=0\n",
    "    for i in range(1,nur+1):\n",
    "        if nur%i==0:\n",
    "            print(\"The {} is divisible by {}\".format(nur,i))\n",
    "            cnt+=1\n",
    "\n",
    "        else:\n",
    "            print(\"The {} is not divisible by {}\".format(nur,i))\n",
    "            cntr+=1\n",
    "    return(cnt,cntr)\n",
    "\n",
    "g,n=fun()\n",
    "print(g,n)"
   ]
  },
  {
   "cell_type": "code",
   "execution_count": 83,
   "id": "42adcbe7-1b3e-4291-8695-bbc98d24fff8",
   "metadata": {},
   "outputs": [
    {
     "name": "stdout",
     "output_type": "stream",
     "text": [
      "The 5 is divisible by 5\n",
      "1 0\n"
     ]
    }
   ],
   "source": [
    "def  fig(nur,cnt,cntr):\n",
    "    if nur%i==0:\n",
    "        print(\"The {} is divisible by {}\".format(nur,i))\n",
    "        cnt+=1\n",
    "    \n",
    "    else:\n",
    "        print(\"The {} is not divisible by {}\".format(nur,i))\n",
    "        cntr+=1\n",
    "\n",
    "    return(cnt,cntr)\n",
    "y,z=fig(5,0,0)\n",
    "print(y,z)"
   ]
  },
  {
   "cell_type": "code",
   "execution_count": 95,
   "id": "76420403-750c-4677-b646-70be1d534a56",
   "metadata": {},
   "outputs": [
    {
     "name": "stdout",
     "output_type": "stream",
     "text": [
      "The 5 is not divisible by 3\n",
      "0 1\n"
     ]
    }
   ],
   "source": [
    "def  fig(nur,cnt,cntr):\n",
    "    if nur%n==0:\n",
    "        print(\"The {} is divisible by {}\".format(nur,n))\n",
    "        cnt+=1\n",
    "    \n",
    "    else:\n",
    "        print(\"The {} is not divisible by {}\".format(nur,n))\n",
    "        cntr+=1\n",
    "\n",
    "    return(cnt,cntr)\n",
    "y,z=fig(5,0,0)\n",
    "print(y,z)"
   ]
  },
  {
   "cell_type": "code",
   "execution_count": null,
   "id": "cf3fc270-95a9-488c-b296-2ab0444207c9",
   "metadata": {},
   "outputs": [],
   "source": [
    "def  fig():\n",
    "    \n",
    "    if nur%i==0:\n",
    "        print(\"The {} is divisible by {}\".format(nur,i))\n",
    "        cnt+=1\n",
    "    \n",
    "    else:\n",
    "        print(\"The {} is not divisible by {}\".format(nur,i))\n",
    "        cntr+=1\n",
    "\n",
    "    return(cnt,cntr)\n",
    "y,z=fig(5,0,0)\n",
    "print(y,z)"
   ]
  },
  {
   "cell_type": "markdown",
   "id": "7e784e88-f923-4fa5-a8db-93234c645582",
   "metadata": {},
   "source": []
  },
  {
   "cell_type": "code",
   "execution_count": null,
   "id": "44a0bad4-77e4-4d9b-b1fe-c6e80e7f84d3",
   "metadata": {},
   "outputs": [],
   "source": []
  },
  {
   "cell_type": "code",
   "execution_count": null,
   "id": "c0666444-3f98-48b8-b4bd-240937f7b573",
   "metadata": {},
   "outputs": [],
   "source": []
  },
  {
   "cell_type": "code",
   "execution_count": null,
   "id": "428c8564-a8e2-4860-b475-770ef84d2de1",
   "metadata": {},
   "outputs": [],
   "source": []
  },
  {
   "cell_type": "code",
   "execution_count": null,
   "id": "cd37fb8b-dc6b-4f58-af4f-600c015893ed",
   "metadata": {},
   "outputs": [],
   "source": []
  },
  {
   "cell_type": "code",
   "execution_count": null,
   "id": "b323039d-d6a9-4631-8aa4-a35e7e5fb327",
   "metadata": {},
   "outputs": [],
   "source": []
  }
 ],
 "metadata": {
  "kernelspec": {
   "display_name": "Python [conda env:base] *",
   "language": "python",
   "name": "conda-base-py"
  },
  "language_info": {
   "codemirror_mode": {
    "name": "ipython",
    "version": 3
   },
   "file_extension": ".py",
   "mimetype": "text/x-python",
   "name": "python",
   "nbconvert_exporter": "python",
   "pygments_lexer": "ipython3",
   "version": "3.12.7"
  }
 },
 "nbformat": 4,
 "nbformat_minor": 5
}
