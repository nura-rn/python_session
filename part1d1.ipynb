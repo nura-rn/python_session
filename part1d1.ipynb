{
 "cells": [
  {
   "cell_type": "markdown",
   "id": "4a9933a7-f8d7-4c33-87c7-9463d287c3f6",
   "metadata": {},
   "source": [
    "*******q/n1*******"
   ]
  },
  {
   "cell_type": "code",
   "execution_count": 1,
   "id": "7af1986a-1af5-473d-aed9-8c5b2188200a",
   "metadata": {
    "scrolled": true
   },
   "outputs": [
    {
     "name": "stdin",
     "output_type": "stream",
     "text": [
      "Enter your basic_salary 300000\n",
      "Enter your DA amount 30000\n",
      "Enter your HRA amount 40000\n"
     ]
    },
    {
     "name": "stdout",
     "output_type": "stream",
     "text": [
      "Your Totsl salary is: 370000\n"
     ]
    }
   ],
   "source": [
    "Basic_salary=int(input(\"Enter your basic_salary\"))\n",
    "DA_amount=int(input(\"Enter your DA amount\"))\n",
    "HRA_amount=int(input(\"Enter your HRA amount\"))\n",
    "Total_pay=Basic_salary+DA_amount+HRA_amount\n",
    "\n",
    "print(\"Your Totsl salary is:\",Total_pay)"
   ]
  },
  {
   "cell_type": "markdown",
   "id": "917617a7-1c54-4e13-9951-244978ee5103",
   "metadata": {},
   "source": [
    "*******q/n2*******"
   ]
  },
  {
   "cell_type": "code",
   "execution_count": 9,
   "id": "2d44dad5-b7ab-435a-b8f5-3f27bf1be439",
   "metadata": {},
   "outputs": [
    {
     "name": "stdin",
     "output_type": "stream",
     "text": [
      "Enter user's salary 3000\n",
      "Enter the tax % needed to be paid 10\n"
     ]
    },
    {
     "name": "stdout",
     "output_type": "stream",
     "text": [
      "The total tax amount is 300.0\n"
     ]
    }
   ],
   "source": [
    "Salary=eval(input(\"Enter user's salary\"))\n",
    "tax_per=eval(input(\"Enter the tax % needed to be paid\"))\n",
    "Tax=tax_per/100*Salary\n",
    "\n",
    "print(\"The total tax amount is\",Tax)"
   ]
  },
  {
   "cell_type": "markdown",
   "id": "3498281b-94b0-4bd5-b149-a597268ee531",
   "metadata": {},
   "source": [
    "*****q/n3*****"
   ]
  },
  {
   "cell_type": "code",
   "execution_count": 5,
   "id": "0ae768ba-2a81-43a1-bcb6-87622e8eada8",
   "metadata": {},
   "outputs": [],
   "source": [
    "import random"
   ]
  },
  {
   "cell_type": "code",
   "execution_count": 12,
   "id": "ac84b45b-ecb2-4dda-9a21-d475e9e3309f",
   "metadata": {},
   "outputs": [
    {
     "name": "stdout",
     "output_type": "stream",
     "text": [
      "The square root of 80 is 6400\n"
     ]
    }
   ],
   "source": [
    "x=random.randint(1,100)\n",
    "square=x*x\n",
    "print(\"The square root of {} is {}\".format(x,square))"
   ]
  },
  {
   "cell_type": "markdown",
   "id": "66ec1fc3-ba8a-4c6b-b7fc-29ccc74ae709",
   "metadata": {},
   "source": [
    "**q/n4**\n"
   ]
  },
  {
   "cell_type": "code",
   "execution_count": 4,
   "id": "8da493c3-b3c9-4a69-83cc-f019f41641d6",
   "metadata": {},
   "outputs": [
    {
     "name": "stdin",
     "output_type": "stream",
     "text": [
      "Enter the distance in KM: 100\n",
      "Enter the rate per distance in KM: 10\n"
     ]
    },
    {
     "name": "stdout",
     "output_type": "stream",
     "text": [
      "The total charge is 1000\n"
     ]
    }
   ],
   "source": [
    "distance=eval(input(\"Enter the distance in KM:\"))\n",
    "rate_psec=eval(input(\"Enter the rate per distance in KM:\"))\n",
    "Total_charge=distance*rate_psec\n",
    "print(\"The total charge is\",Total_charge)"
   ]
  },
  {
   "cell_type": "markdown",
   "id": "9d87ccfa-82cf-4acd-913f-efccc6267439",
   "metadata": {},
   "source": [
    "****q/n5****"
   ]
  },
  {
   "cell_type": "code",
   "execution_count": 30,
   "id": "d707fe11-6723-4cdd-b906-2c622f04bdc0",
   "metadata": {},
   "outputs": [
    {
     "name": "stdin",
     "output_type": "stream",
     "text": [
      "Enter total bill in dollars 12\n"
     ]
    },
    {
     "name": "stdout",
     "output_type": "stream",
     "text": [
      "Manager:The dollars are not accpeted\n",
      "user::What will be accepted\n",
      "Manager:Only indian rupees sirr!!\n",
      "user:ohh so can you convert my dollars in rupees and teel em the total bill\n",
      "Manager:OKAY!! Your total bill is Rupees. 960\n",
      "User:Sure, Here it is\n",
      "Thank you!\n"
     ]
    }
   ],
   "source": [
    "Dollars=eval(input(\"Enter total bill in dollars\"))\n",
    "print(\"Manager:The dollars are not accpeted\")\n",
    "print(\"user::What will be accepted\")\n",
    "print(\"Manager:Only indian rupees sirr!!\")\n",
    "print(\"user:ohh so can you convert my dollars in rupees and teel em the total bill\")\n",
    "one_dollar=80\n",
    "Total_bill=one_dollar*Dollars\n",
    "print(\"Manager:OKAY!! Your total bill is Rupees.\",Total_bill)\n",
    "print(\"User:Sure, Here it is\")\n",
    "print(\"Thank you!\")\n",
    "\n",
    "                 \n",
    "            "
   ]
  },
  {
   "cell_type": "markdown",
   "id": "cd81dcbd-747e-4839-8671-aa83d4e854cc",
   "metadata": {},
   "source": [
    "**q/n6**"
   ]
  },
  {
   "cell_type": "code",
   "execution_count": 47,
   "id": "2cc74857-6287-496d-a960-c7ff90026728",
   "metadata": {},
   "outputs": [
    {
     "name": "stdout",
     "output_type": "stream",
     "text": [
      "Father:Hey rahul!! What course are you planning on joining now?\n",
      "Rahul:Iam thinking of DS course DAD\n",
      "Father:OHH Thats Great Choice!!!!.What's your JEE rank\n",
      "Rahul:Its 20000 DAD\n",
      "Father:Where have you planned on joiniung then any college or institute??\n",
      "Rahul : I've consulted on INFOMAX COLLEGE \n",
      "Father:GOOD;whats the fee sturcture their?\n"
     ]
    },
    {
     "name": "stdin",
     "output_type": "stream",
     "text": [
      "Rahul: 3000\n"
     ]
    },
    {
     "name": "stdout",
     "output_type": "stream",
     "text": [
      "Father: How many semesters?\n"
     ]
    },
    {
     "name": "stdin",
     "output_type": "stream",
     "text": [
      "Rahul: There are 6\n"
     ]
    },
    {
     "name": "stdout",
     "output_type": "stream",
     "text": [
      "Father:So TOTAL COST FOR 6 sems will be 18000.\n"
     ]
    }
   ],
   "source": [
    "#Father and sons's convo\n",
    "import time\n",
    "\n",
    "print(\"Father:Hey rahul!! What course are you planning on joining now?\")\n",
    "print(\"Rahul:Iam thinking of DS course DAD\")\n",
    "print(\"Father:OHH Thats Great Choice!!!!.What's your JEE rank\")\n",
    "print(\"Rahul:Its 20000 DAD\")\n",
    "time.sleep(2)\n",
    "print(\"Father:Where have you planned on joiniung then any college or institute??\")\n",
    "print(\"Rahul : I've consulted on INFOMAX COLLEGE \")\n",
    "print(\"Father:GOOD;whats the fee sturcture their?\")\n",
    "time.sleep(2)\n",
    "sem_cost=eval(input(\"Rahul:\",))\n",
    "print(\"Father: How many semesters?\")\n",
    "sems=eval(input(\"Rahul: There are\",))\n",
    "time.sleep(2)\n",
    "print(\"Father:So TOTAL COST FOR {} sems will be {}.\".format(sems,sems*sem_cost))"
   ]
  },
  {
   "cell_type": "code",
   "execution_count": null,
   "id": "a1bc6248-4b9d-421f-94c2-940537c9289a",
   "metadata": {},
   "outputs": [],
   "source": []
  },
  {
   "cell_type": "code",
   "execution_count": null,
   "id": "9fe453b2-9a20-44db-b522-b415d4f5b667",
   "metadata": {},
   "outputs": [],
   "source": []
  }
 ],
 "metadata": {
  "kernelspec": {
   "display_name": "Python [conda env:base] *",
   "language": "python",
   "name": "conda-base-py"
  },
  "language_info": {
   "codemirror_mode": {
    "name": "ipython",
    "version": 3
   },
   "file_extension": ".py",
   "mimetype": "text/x-python",
   "name": "python",
   "nbconvert_exporter": "python",
   "pygments_lexer": "ipython3",
   "version": "3.12.7"
  }
 },
 "nbformat": 4,
 "nbformat_minor": 5
}
