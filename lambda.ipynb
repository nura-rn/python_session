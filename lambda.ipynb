{
 "cells": [
  {
   "cell_type": "markdown",
   "id": "c100fc6e-5bf8-4911-9fd3-7656e04dcaf5",
   "metadata": {},
   "source": [
    "$$LAMBDA$$"
   ]
  },
  {
   "cell_type": "code",
   "execution_count": 5,
   "id": "ba7440c9-b752-403e-a262-e5f1140607c4",
   "metadata": {},
   "outputs": [
    {
     "data": {
      "text/plain": [
       "57"
      ]
     },
     "execution_count": 5,
     "metadata": {},
     "output_type": "execute_result"
    }
   ],
   "source": [
    "c=45\n",
    "def sum(c):\n",
    "    return(c+12)\n",
    "sum(c)"
   ]
  },
  {
   "cell_type": "code",
   "execution_count": null,
   "id": "9e700560-8650-48ab-a77d-26251e8d2648",
   "metadata": {},
   "outputs": [],
   "source": [
    "c=45\n",
    "def sum(c):\n",
    "    return(c+12)\n",
    "sum(c)"
   ]
  },
  {
   "cell_type": "code",
   "execution_count": null,
   "id": "aada9628-197b-4468-a0a1-81a997cce3d3",
   "metadata": {},
   "outputs": [],
   "source": [
    "c=45\n",
    "def sum(c):\n",
    "    return(c+12)\n",
    "sum(c)\n",
    "\n",
    "#How many arguments are present\n",
    "#what your are returning?: c+10\n",
    "\n",
    "#Format: Lambda<argumens_name>:<Output>"
   ]
  },
  {
   "cell_type": "code",
   "execution_count": 9,
   "id": "87d7c210-0395-4824-9670-c7b8cb3584d7",
   "metadata": {},
   "outputs": [
    {
     "data": {
      "text/plain": [
       "40"
      ]
     },
     "execution_count": 9,
     "metadata": {},
     "output_type": "execute_result"
    }
   ],
   "source": [
    "sum=lambda x:x+10\n",
    "sum(30)"
   ]
  },
  {
   "cell_type": "code",
   "execution_count": 13,
   "id": "0ff4456f-2624-4d1b-9d3b-f60e60ac3298",
   "metadata": {},
   "outputs": [],
   "source": [
    "def square(x):\n",
    "    return(x*x)"
   ]
  },
  {
   "cell_type": "code",
   "execution_count": 17,
   "id": "d9e1a031-4f5c-431a-97d4-2e8f2b7b1a4c",
   "metadata": {},
   "outputs": [
    {
     "data": {
      "text/plain": [
       "36"
      ]
     },
     "execution_count": 17,
     "metadata": {},
     "output_type": "execute_result"
    }
   ],
   "source": [
    "sq=lambda x:x*x\n",
    "sq(6)\n"
   ]
  },
  {
   "cell_type": "code",
   "execution_count": null,
   "id": "43b56aee-8c43-4c78-bb69-0da31ea37f5d",
   "metadata": {},
   "outputs": [],
   "source": [
    "def cube(x):\n",
    "    return(x*x*x)"
   ]
  },
  {
   "cell_type": "code",
   "execution_count": 21,
   "id": "28dad24a-2717-41fd-bf62-0bc2e2dc8482",
   "metadata": {},
   "outputs": [
    {
     "data": {
      "text/plain": [
       "8"
      ]
     },
     "execution_count": 21,
     "metadata": {},
     "output_type": "execute_result"
    }
   ],
   "source": [
    "cube=lambda x:x*x*x\n",
    "cube(2)"
   ]
  },
  {
   "cell_type": "markdown",
   "id": "43a8873c-1196-47be-9f5e-834362fb7508",
   "metadata": {},
   "source": [
    "$two arguments$"
   ]
  },
  {
   "cell_type": "code",
   "execution_count": 25,
   "id": "e058777f-9784-410f-9701-521fef428cbc",
   "metadata": {},
   "outputs": [
    {
     "data": {
      "text/plain": [
       "9"
      ]
     },
     "execution_count": 25,
     "metadata": {},
     "output_type": "execute_result"
    }
   ],
   "source": [
    "\n",
    "def sum(c,d):\n",
    "    return(c+d)\n",
    "sum(5,4)\n",
    "\n",
    "#How many arguments are present\n",
    "#what your are returning?: c+10\n",
    "\n",
    "#Format: Lambda<argumens_name>:<Output>"
   ]
  },
  {
   "cell_type": "code",
   "execution_count": 27,
   "id": "0cb6753f-0d80-409e-b0a1-8dd676adf531",
   "metadata": {},
   "outputs": [
    {
     "data": {
      "text/plain": [
       "10"
      ]
     },
     "execution_count": 27,
     "metadata": {},
     "output_type": "execute_result"
    }
   ],
   "source": [
    "sum=lambda c,d:c+d\n",
    "sum(9,1)"
   ]
  },
  {
   "cell_type": "code",
   "execution_count": 38,
   "id": "6ae65e70-87a2-4cdb-8b7e-88630d0d475e",
   "metadata": {},
   "outputs": [
    {
     "data": {
      "text/plain": [
       "8.0"
      ]
     },
     "execution_count": 38,
     "metadata": {},
     "output_type": "execute_result"
    }
   ],
   "source": [
    "#implement average of three numbers using lambda\n",
    "avg=lambda c,d,f:(c+d+f)/3\n",
    "avg(8,8,8)"
   ]
  },
  {
   "cell_type": "code",
   "execution_count": 40,
   "id": "b48152d8-4c4d-4c7d-88f0-3a4ac2af8c8d",
   "metadata": {},
   "outputs": [
    {
     "data": {
      "text/plain": [
       "(8.0, 9)"
      ]
     },
     "execution_count": 40,
     "metadata": {},
     "output_type": "execute_result"
    }
   ],
   "source": [
    "#implement average make c as a default parameter\n",
    "\n",
    "avg=lambda c,d,f=8:((c+d+f)/3,9)\n",
    "avg(8,8)"
   ]
  },
  {
   "cell_type": "markdown",
   "id": "f6c5685f-2efe-4662-896b-f29a5225db42",
   "metadata": {},
   "source": [
    "$if-else$"
   ]
  },
  {
   "cell_type": "code",
   "execution_count": 48,
   "id": "db7eb05d-ae14-45f9-a848-9b4fb2186bee",
   "metadata": {},
   "outputs": [],
   "source": [
    "#Craete a function foe finding gretaer number between two numbers\n",
    "def num(x,y):\n",
    "    if x>y:\n",
    "        print(\"Xis gretaer\")\n",
    "\n",
    "    else:\n",
    "        print(\" ys is greater\")"
   ]
  },
  {
   "cell_type": "code",
   "execution_count": 51,
   "id": "497e1795-bbbf-46f9-9e0f-07094bfc5737",
   "metadata": {},
   "outputs": [
    {
     "name": "stdout",
     "output_type": "stream",
     "text": [
      "Xis gretaer\n"
     ]
    }
   ],
   "source": [
    "num(9,8)"
   ]
  },
  {
   "cell_type": "code",
   "execution_count": 61,
   "id": "9fca913f-13d4-4828-a33d-29382506faa9",
   "metadata": {},
   "outputs": [],
   "source": [
    "l1=[]\n",
    "def greater(x,y):\n",
    "    if x>y:\n",
    "        l1.append(x)\n",
    "\n",
    "    else:\n",
    "        l1.append(y)\n",
    "\n",
    "greater(200,400)"
   ]
  },
  {
   "cell_type": "code",
   "execution_count": 95,
   "id": "e3cead8d-e3f4-4041-8668-ffa31a1fadf5",
   "metadata": {},
   "outputs": [
    {
     "data": {
      "text/plain": [
       "[40]"
      ]
     },
     "execution_count": 95,
     "metadata": {},
     "output_type": "execute_result"
    }
   ],
   "source": [
    "x=40\n",
    "y=7\n",
    "l1=[x if x>y else y]\n",
    "l1"
   ]
  },
  {
   "cell_type": "code",
   "execution_count": 85,
   "id": "5bc55035-8d68-4631-be00-637fee6aa61b",
   "metadata": {},
   "outputs": [
    {
     "data": {
      "text/plain": [
       "5"
      ]
     },
     "execution_count": 85,
     "metadata": {},
     "output_type": "execute_result"
    }
   ],
   "source": [
    "#lambda method\n",
    "\n",
    "gre=lambda x,y:(x if x>y else y)\n",
    "gre(5,4)"
   ]
  },
  {
   "cell_type": "markdown",
   "id": "0f00840b-dc9b-4648-802e-2c41143f51b3",
   "metadata": {},
   "source": [
    "$$Day-34$$"
   ]
  },
  {
   "cell_type": "code",
   "execution_count": null,
   "id": "0422367d-b053-481b-a688-6f34802a8116",
   "metadata": {},
   "outputs": [],
   "source": [
    "-lambda function is just like create a function\n",
    "\n",
    "-one argument\n",
    "\n",
    "-multiple arguments\n",
    "\n",
    "-if else condition\n",
    "\n",
    "-if else like comprehension"
   ]
  },
  {
   "cell_type": "code",
   "execution_count": null,
   "id": "c6717717-157b-44a3-8406-d06bb7dd73ef",
   "metadata": {},
   "outputs": [],
   "source": [
    "list1=['hd','mumb','ktm']\n",
    "\n",
    "#output: "
   ]
  },
  {
   "cell_type": "code",
   "execution_count": 32,
   "id": "5d139a30-e800-4d0c-b439-b9b96dfc6fcb",
   "metadata": {},
   "outputs": [
    {
     "name": "stdout",
     "output_type": "stream",
     "text": [
      "['Hd', 'Mumb', 'Ktm']\n"
     ]
    },
    {
     "data": {
      "text/plain": [
       "['Hd', 'Mumb', 'Ktm']"
      ]
     },
     "execution_count": 32,
     "metadata": {},
     "output_type": "execute_result"
    }
   ],
   "source": [
    "#apppend\n",
    "\n",
    "list1=['hd','mumb','ktm']\n",
    "list2=[]\n",
    "for i in list1:\n",
    "    list2.append(i.capitalize())\n",
    "\n",
    "print(list2)\n",
    "\n",
    "#M-2: use list comprehension\n",
    "[i.capitalize() for i in list1]\n",
    "\n",
    "#M-3: make a lambda function\n",
    "lambda i:i.capitalize(),list1\n",
    "\n",
    "list2"
   ]
  },
  {
   "cell_type": "code",
   "execution_count": 12,
   "id": "e55f2c7f-0db1-4869-8786-44fac6118b0d",
   "metadata": {},
   "outputs": [
    {
     "data": {
      "text/plain": [
       "['Hd', 'Mumb', 'Ktm']"
      ]
     },
     "execution_count": 12,
     "metadata": {},
     "output_type": "execute_result"
    }
   ],
   "source": [
    "#list comprehension\n",
    "[i.capitalize() for i in list1]"
   ]
  },
  {
   "cell_type": "code",
   "execution_count": null,
   "id": "c8a28902-1537-4d62-b0f5-cf65b8a47d53",
   "metadata": {},
   "outputs": [],
   "source": [
    "#lambda <arguments>: <output>\n",
    "\n"
   ]
  },
  {
   "cell_type": "code",
   "execution_count": null,
   "id": "69fab1dc-c2c2-4958-804d-e41fa5a4c7b2",
   "metadata": {},
   "outputs": [],
   "source": [
    "#whenever you use iterations"
   ]
  },
  {
   "cell_type": "code",
   "execution_count": null,
   "id": "3f128812-a829-49b5-b294-7466f947af84",
   "metadata": {},
   "outputs": [],
   "source": [
    "#lambda \n",
    "[i.capitalize() for i in list1]"
   ]
  },
  {
   "cell_type": "code",
   "execution_count": 16,
   "id": "40ff3d89-bef9-406d-91f7-934d2c3ef85f",
   "metadata": {},
   "outputs": [
    {
     "data": {
      "text/plain": [
       "(<function __main__.<lambda>(i)>, ['hd', 'mumb', 'ktm'])"
      ]
     },
     "execution_count": 16,
     "metadata": {},
     "output_type": "execute_result"
    }
   ],
   "source": [
    "lambda i:i.capitalize(),list1"
   ]
  },
  {
   "cell_type": "code",
   "execution_count": 56,
   "id": "b8b92a63-5cf0-4ef7-a280-b4e16a4758f6",
   "metadata": {},
   "outputs": [
    {
     "name": "stdout",
     "output_type": "stream",
     "text": [
      "23\n",
      "35\n",
      "47\n"
     ]
    }
   ],
   "source": [
    "x=[1,2,3]\n",
    "y=[22,33,44]\n",
    "for i,j in zip(x,y):\n",
    "    print(i+j)"
   ]
  },
  {
   "cell_type": "code",
   "execution_count": 58,
   "id": "1df4470e-d2fe-45fb-884f-74cc0098be02",
   "metadata": {},
   "outputs": [
    {
     "data": {
      "text/plain": [
       "[23, 35, 47]"
      ]
     },
     "execution_count": 58,
     "metadata": {},
     "output_type": "execute_result"
    }
   ],
   "source": [
    "list(map(lambda i,j:i+j,x,y))"
   ]
  },
  {
   "cell_type": "code",
   "execution_count": 60,
   "id": "1cee6f8e-39bc-4462-8352-5de994ceecf1",
   "metadata": {},
   "outputs": [
    {
     "data": {
      "text/plain": [
       "(23, 35, 47)"
      ]
     },
     "execution_count": 60,
     "metadata": {},
     "output_type": "execute_result"
    }
   ],
   "source": [
    "tuple(map(lambda i,j:i+j,x,y))"
   ]
  },
  {
   "cell_type": "code",
   "execution_count": 62,
   "id": "be69587f-4517-4e18-a525-b965c64d9d33",
   "metadata": {},
   "outputs": [
    {
     "data": {
      "text/plain": [
       "'<map object at 0x000001B376E17AC0>'"
      ]
     },
     "execution_count": 62,
     "metadata": {},
     "output_type": "execute_result"
    }
   ],
   "source": [
    "str(map(lambda i,j:i+j,x,y))"
   ]
  },
  {
   "cell_type": "code",
   "execution_count": 64,
   "id": "9adc3781-827d-44e9-b614-516641902732",
   "metadata": {},
   "outputs": [
    {
     "data": {
      "text/plain": [
       "<map at 0x1b376e20ac0>"
      ]
     },
     "execution_count": 64,
     "metadata": {},
     "output_type": "execute_result"
    }
   ],
   "source": [
    "map(lambda i,j:i+j,x,y)"
   ]
  },
  {
   "cell_type": "code",
   "execution_count": 66,
   "id": "e9c5cff1-837f-4a19-bd0f-f62cd79b81a7",
   "metadata": {},
   "outputs": [
    {
     "data": {
      "text/plain": [
       "'[]'"
      ]
     },
     "execution_count": 66,
     "metadata": {},
     "output_type": "execute_result"
    }
   ],
   "source": [
    "str([])\n"
   ]
  },
  {
   "cell_type": "code",
   "execution_count": 76,
   "id": "8672f5d5-7f46-4edb-a77b-dc543ddfb520",
   "metadata": {},
   "outputs": [
    {
     "ename": "AttributeError",
     "evalue": "'list' object has no attribute 'capitalize'",
     "output_type": "error",
     "traceback": [
      "\u001b[1;31m---------------------------------------------------------------------------\u001b[0m",
      "\u001b[1;31mAttributeError\u001b[0m                            Traceback (most recent call last)",
      "Cell \u001b[1;32mIn[76], line 2\u001b[0m\n\u001b[0;32m      1\u001b[0m i\u001b[38;5;241m=\u001b[39m[\u001b[38;5;124m'\u001b[39m\u001b[38;5;124mhd\u001b[39m\u001b[38;5;124m'\u001b[39m,\u001b[38;5;124m'\u001b[39m\u001b[38;5;124mmumb\u001b[39m\u001b[38;5;124m'\u001b[39m,\u001b[38;5;124m'\u001b[39m\u001b[38;5;124mktm\u001b[39m\u001b[38;5;124m'\u001b[39m]\n\u001b[1;32m----> 2\u001b[0m i\u001b[38;5;241m.\u001b[39mcapitalize()\n\u001b[0;32m      3\u001b[0m i\u001b[38;5;241m*\u001b[39mi\n\u001b[0;32m      4\u001b[0m i\u001b[38;5;241m+\u001b[39mj\n",
      "\u001b[1;31mAttributeError\u001b[0m: 'list' object has no attribute 'capitalize'"
     ]
    }
   ],
   "source": [
    "i=['hd','mumb','ktm']\n",
    "i.capitalize()\n",
    "i*i\n",
    "i+j"
   ]
  },
  {
   "cell_type": "code",
   "execution_count": 96,
   "id": "d2678216-cbff-4c91-822c-4aad98fe10b4",
   "metadata": {},
   "outputs": [
    {
     "name": "stdout",
     "output_type": "stream",
     "text": [
      "['h#d', 'mu#mb']\n"
     ]
    }
   ],
   "source": [
    "y=['h#d','mu#mb','ktm']\n",
    "#['hd','mumb']\n",
    "z=[]\n",
    "for i in y:\n",
    "    if '#' in i:\n",
    "       z.append(i)\n",
    "        \n",
    "        \n",
    "print(z)\n"
   ]
  },
  {
   "cell_type": "code",
   "execution_count": 98,
   "id": "b5c918e8-e340-42ef-844f-1037a7484afc",
   "metadata": {},
   "outputs": [
    {
     "data": {
      "text/plain": [
       "['h#d', 'mu#mb']"
      ]
     },
     "execution_count": 98,
     "metadata": {},
     "output_type": "execute_result"
    }
   ],
   "source": [
    "#another method\n",
    "\n",
    "[i for i in y if '#' in i]"
   ]
  },
  {
   "cell_type": "code",
   "execution_count": 112,
   "id": "20db4593-f70b-43a6-9e79-0a84faebd248",
   "metadata": {},
   "outputs": [
    {
     "data": {
      "text/plain": [
       "['h#d', 'mu#mb']"
      ]
     },
     "execution_count": 112,
     "metadata": {},
     "output_type": "execute_result"
    }
   ],
   "source": [
    "#another\n",
    "lambda i: '#' in i,y\n",
    "y\n",
    "\n",
    "lambda i: '#' in i,y\n",
    "z\n"
   ]
  },
  {
   "cell_type": "code",
   "execution_count": 114,
   "id": "c8bf4c53-3705-4944-9dba-4d15b7eb69d3",
   "metadata": {},
   "outputs": [
    {
     "data": {
      "text/plain": [
       "[True, True, False]"
      ]
     },
     "execution_count": 114,
     "metadata": {},
     "output_type": "execute_result"
    }
   ],
   "source": [
    "y=['h#d','mu#mb','ktm']\n",
    "list(map(lambda i: '#' in i,y))"
   ]
  },
  {
   "cell_type": "code",
   "execution_count": 118,
   "id": "91642d23-dcc7-46a5-8b98-09b3f5527cc5",
   "metadata": {},
   "outputs": [
    {
     "data": {
      "text/plain": [
       "False"
      ]
     },
     "execution_count": 118,
     "metadata": {},
     "output_type": "execute_result"
    }
   ],
   "source": [
    "y=['h#d','mu#mb','ktm']\n",
    "'d' in y\n",
    "'#' in y"
   ]
  },
  {
   "cell_type": "code",
   "execution_count": 120,
   "id": "97efe559-a1db-4194-845d-3c52be7798af",
   "metadata": {},
   "outputs": [
    {
     "data": {
      "text/plain": [
       "True"
      ]
     },
     "execution_count": 120,
     "metadata": {},
     "output_type": "execute_result"
    }
   ],
   "source": [
    "y=['h#d','mu#mb','ktm']\n",
    "'d' in 'h#d'"
   ]
  },
  {
   "cell_type": "code",
   "execution_count": 122,
   "id": "b787f38f-cddd-4c26-84b5-d3f9fd04f5f0",
   "metadata": {},
   "outputs": [
    {
     "data": {
      "text/plain": [
       "['h#d', 'mu#mb']"
      ]
     },
     "execution_count": 122,
     "metadata": {},
     "output_type": "execute_result"
    }
   ],
   "source": [
    "y=['h#d','mu#mb','ktm']\n",
    "list(filter(lambda i: '#' in i,y))"
   ]
  },
  {
   "cell_type": "code",
   "execution_count": null,
   "id": "9dbb3e2e-c7dd-4736-b6cd-a64e858d59ec",
   "metadata": {},
   "outputs": [],
   "source": [
    "Filter means condition"
   ]
  },
  {
   "cell_type": "code",
   "execution_count": null,
   "id": "75f9548f-b1f5-42e6-a054-6bcd18772dd7",
   "metadata": {},
   "outputs": [],
   "source": [
    "#connect chatgpt through python\n",
    "#we connected maker suite"
   ]
  },
  {
   "cell_type": "code",
   "execution_count": null,
   "id": "f45aae0c-95ac-4ae3-8306-09e17963c676",
   "metadata": {},
   "outputs": [],
   "source": []
  },
  {
   "cell_type": "code",
   "execution_count": null,
   "id": "f38d18a2-de0f-4621-8b1a-fde9b6b18c2c",
   "metadata": {},
   "outputs": [],
   "source": []
  },
  {
   "cell_type": "code",
   "execution_count": null,
   "id": "f0cc3f04-15d0-4f61-a69d-c77709130160",
   "metadata": {},
   "outputs": [],
   "source": []
  },
  {
   "cell_type": "code",
   "execution_count": null,
   "id": "399aa473-2969-4b5d-8562-c79458611f0e",
   "metadata": {},
   "outputs": [],
   "source": []
  }
 ],
 "metadata": {
  "kernelspec": {
   "display_name": "Python [conda env:base] *",
   "language": "python",
   "name": "conda-base-py"
  },
  "language_info": {
   "codemirror_mode": {
    "name": "ipython",
    "version": 3
   },
   "file_extension": ".py",
   "mimetype": "text/x-python",
   "name": "python",
   "nbconvert_exporter": "python",
   "pygments_lexer": "ipython3",
   "version": "3.12.7"
  }
 },
 "nbformat": 4,
 "nbformat_minor": 5
}
